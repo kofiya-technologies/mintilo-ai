{
 "cells": [
  {
   "cell_type": "markdown",
   "id": "12dcbbbf-9b4d-4937-9198-2f18fe985ef3",
   "metadata": {},
   "source": [
    "# MINTILO AI\n",
    "\n",
    "An open source project dedicated to utilizing Python and machine learning techniques to provide insights for policy makers in eradicating child mortality in developing countries. By analyzing data from DHS surveys, MINTILO AI identifies risk factors associated with child mortality, leveraging artificial intelligence to contribute to the collective efforts in improving child survival rates.\n",
    "\n",
    "Copyright © 2023 Kofiya Technologies"
   ]
  },
  {
   "cell_type": "markdown",
   "id": "9c13b700-21f1-4519-883e-4ca35047281d",
   "metadata": {},
   "source": [
    "# 1. Load data"
   ]
  },
  {
   "cell_type": "code",
   "execution_count": 1,
   "id": "2d9e0555-cffb-4655-938d-5b3064b1ebcf",
   "metadata": {
    "tags": []
   },
   "outputs": [],
   "source": [
    "# === Import dependence\n",
    "import os\n",
    "\n",
    "import numpy as np\n",
    "import pandas as pd\n",
    "\n",
    "import matplotlib.pyplot as plt\n",
    "%matplotlib inline"
   ]
  },
  {
   "cell_type": "code",
   "execution_count": 2,
   "id": "d5d3f7d3-98b2-408d-83b8-699f47fe747b",
   "metadata": {
    "tags": []
   },
   "outputs": [],
   "source": [
    "# === Config\n",
    "DIR_PROJ = r\"D:\\PycharmProjects\\mintilo-ai\"\n",
    "DIR_INPUT_DATA = os.path.join(DIR_PROJ, \"data\")\n",
    "DIR_MODELS = os.path.join(DIR_PROJ, \"models\")"
   ]
  },
  {
   "cell_type": "code",
   "execution_count": 3,
   "id": "add3415b-0ee2-4c95-aada-76ef2760766b",
   "metadata": {
    "tags": []
   },
   "outputs": [],
   "source": [
    "# Load data     ####################################################################################################################\n",
    "filepath_data = os.path.join(DIR_INPUT_DATA, \"processed_mintilo_ai_community_version.csv\")\n",
    "\n",
    "with open(filepath_data, 'rb') as fp:\n",
    "    df = pd.read_csv(fp)"
   ]
  },
  {
   "cell_type": "code",
   "execution_count": 4,
   "id": "33875dcc-ed0c-439a-a7cc-9c55f621b157",
   "metadata": {
    "tags": []
   },
   "outputs": [
    {
     "data": {
      "text/plain": [
       "(8755, 22)"
      ]
     },
     "execution_count": 4,
     "metadata": {},
     "output_type": "execute_result"
    }
   ],
   "source": [
    "# Check data shape\n",
    "df.shape"
   ]
  },
  {
   "cell_type": "code",
   "execution_count": 5,
   "id": "47e24d41-278e-4ce6-acf9-fac6d8f639e0",
   "metadata": {
    "tags": []
   },
   "outputs": [],
   "source": [
    "# Check loaded data\n",
    "skip_vars_display = ['cluster_number', 'household_number', 'respondent_line_number', 'toilet_facility_type', \n",
    "                     'contraceptive_method_current', 'water_source_drinking']\n",
    "\n",
    "# df.pipe(lambda x: x.drop(columns=skip_vars_display)).head()  # DISABLED for data privacy reason!"
   ]
  },
  {
   "cell_type": "markdown",
   "id": "3a1dc87e-eeab-4784-a899-dc6c91e006bb",
   "metadata": {},
   "source": [
    "# 2. Explore data (EDA)"
   ]
  },
  {
   "cell_type": "code",
   "execution_count": 6,
   "id": "b43fd632-1c31-49cb-99bb-cb98a3b9f72c",
   "metadata": {
    "tags": []
   },
   "outputs": [],
   "source": [
    "# Import library\n",
    "from ydata_profiling import ProfileReport"
   ]
  },
  {
   "cell_type": "code",
   "execution_count": 7,
   "id": "5db967b0-7f69-4eeb-8fbd-db640aeabccc",
   "metadata": {
    "tags": []
   },
   "outputs": [],
   "source": [
    "# Generate EDA report\n",
    "profile_report = ProfileReport(df, title=\"DHS U5 Mortality\", minimal=True)"
   ]
  },
  {
   "cell_type": "code",
   "execution_count": 8,
   "id": "6a0a3611-cacf-4107-a993-100b6bea6e25",
   "metadata": {
    "tags": []
   },
   "outputs": [],
   "source": [
    "# # Display EDA report  # DISABLED for data privacy reason!\n",
    "# profile_report.to_notebook_iframe()"
   ]
  },
  {
   "cell_type": "markdown",
   "id": "8089d196-e5f4-4675-b86c-50a1a87ef934",
   "metadata": {},
   "source": [
    "# 3. Build Machine Learning (ML) models"
   ]
  },
  {
   "cell_type": "code",
   "execution_count": 9,
   "id": "d0e5c7c6-7dae-4fe9-935a-4e5b801a4a29",
   "metadata": {
    "tags": []
   },
   "outputs": [],
   "source": [
    "# Derive label / target variable  ###################################################################\n",
    "df['HasChildDiedU5'] = np.where(df['is_child_alive'] == 'yes', \n",
    "                                0, \n",
    "                                np.where((df['is_child_alive'] == 'no') & (df['age_child_months'] <= 60),\n",
    "                                         1,\n",
    "                                         -999))\n",
    "\n",
    "\n",
    "# # Sanity checks\n",
    "# df[['is_child_alive', 'age_child_months', 'HasChildDiedU5']]"
   ]
  },
  {
   "cell_type": "code",
   "execution_count": 10,
   "id": "637ebc9b-9eef-4879-a9da-951eda8a718b",
   "metadata": {
    "tags": []
   },
   "outputs": [],
   "source": [
    "# # Further sanity checks\n",
    "# df['is_child_alive'].value_counts()"
   ]
  },
  {
   "cell_type": "code",
   "execution_count": 11,
   "id": "c0c787ab-de58-47ab-8f24-08c0ee400464",
   "metadata": {
    "tags": []
   },
   "outputs": [],
   "source": [
    "# # Further sanity checks\n",
    "# df['HasChildDiedU5'].value_counts()"
   ]
  },
  {
   "cell_type": "code",
   "execution_count": 12,
   "id": "8f57fddc-a24e-4a7b-92cc-5105db769943",
   "metadata": {
    "tags": []
   },
   "outputs": [],
   "source": [
    "# # Further sanity checks\n",
    "# df['HasChildDiedU5'].unique()"
   ]
  },
  {
   "cell_type": "code",
   "execution_count": 13,
   "id": "a8266134-d4b5-4fe1-a6d5-05f3e8330772",
   "metadata": {
    "tags": []
   },
   "outputs": [
    {
     "data": {
      "text/plain": [
       "(8755, 22)"
      ]
     },
     "execution_count": 13,
     "metadata": {},
     "output_type": "execute_result"
    }
   ],
   "source": [
    "# Drop old variable that is used to compute the target / label variable\n",
    "df.drop(['is_child_alive'], axis='columns', inplace=True)\n",
    "\n",
    "df.shape"
   ]
  },
  {
   "cell_type": "markdown",
   "id": "319d0e17-5c7e-4311-913a-97f46e209dde",
   "metadata": {},
   "source": [
    "## 3.1 Split data into training / validation sets"
   ]
  },
  {
   "cell_type": "code",
   "execution_count": 14,
   "id": "74cc78f3-abc6-4b1c-9429-c13c9f9106a1",
   "metadata": {
    "tags": []
   },
   "outputs": [],
   "source": [
    "# Get label and features  ##########################################################################\n",
    "X = df.drop(['HasChildDiedU5', \n",
    "            'survey_country', 'survey_year',\n",
    "            'cluster_number', 'household_number', 'respondent_line_number'], axis='columns')\n",
    "y = df[['HasChildDiedU5']]"
   ]
  },
  {
   "cell_type": "code",
   "execution_count": 15,
   "id": "d412e6ec-555d-4117-9cb7-4b06d92d77d6",
   "metadata": {
    "tags": []
   },
   "outputs": [],
   "source": [
    "# # Check data - DISABLED for data privacy reason!\n",
    "# skip_vars_display = ['toilet_facility_type', 'contraceptive_method_current', 'water_source_drinking']\n",
    "\n",
    "# X.pipe(lambda x: x.drop(columns=skip_vars_display)).head()"
   ]
  },
  {
   "cell_type": "code",
   "execution_count": 16,
   "id": "d84e4b3b-0f4f-4ffd-957d-51143b152c77",
   "metadata": {
    "tags": []
   },
   "outputs": [],
   "source": [
    "# y.head()"
   ]
  },
  {
   "cell_type": "code",
   "execution_count": 17,
   "id": "f21f6b42-f25d-47f7-9734-d1769136fe44",
   "metadata": {
    "tags": []
   },
   "outputs": [],
   "source": [
    "# # Get list of categorical and numeric features  ###################################################\n",
    "# X.pipe(lambda x: x.drop(columns=skip_vars_display)).info()"
   ]
  },
  {
   "cell_type": "code",
   "execution_count": 18,
   "id": "e5af9a48-717b-4b59-9bd5-e406af1184f4",
   "metadata": {
    "tags": []
   },
   "outputs": [],
   "source": [
    "features_cat = X.select_dtypes(include='object').columns.tolist()\n",
    "features_num = X.select_dtypes(include=['int64', 'float64']).columns.tolist()\n",
    "\n",
    "# print(\"Categorical Features:\", features_cat)\n",
    "# print(\"\\nNumerical Features:\", features_num)"
   ]
  },
  {
   "cell_type": "code",
   "execution_count": 19,
   "id": "d4edbf07-2d54-4f3f-a38f-b9657d737d4a",
   "metadata": {
    "tags": []
   },
   "outputs": [
    {
     "name": "stdout",
     "output_type": "stream",
     "text": [
      "X_train (7004, 16)\n",
      "y_train (7004, 1)\n",
      "\n",
      "\n",
      "X_val (1751, 16)\n",
      "y_val (1751, 1)\n",
      "\n",
      "\n",
      "Mortality rate (TRAIN):\n",
      " 0    94.0\n",
      "1     6.0\n",
      "Name: HasChildDiedU5, dtype: float64\n",
      "\n",
      "Mortality rate (VAL):\n",
      " 0    94.0\n",
      "1     6.0\n",
      "Name: HasChildDiedU5, dtype: float64\n"
     ]
    }
   ],
   "source": [
    "# Split data into training and validation sets  #################################################\n",
    "from sklearn.model_selection import train_test_split\n",
    "\n",
    "RANDOM_STATE = 101\n",
    "TEST_SIZE = 0.20\n",
    "\n",
    "X_train, X_val, y_train, y_val = train_test_split(X, y, stratify=y, \n",
    "                                                  test_size=TEST_SIZE, random_state=RANDOM_STATE)\n",
    "\n",
    "# Sanity checks\n",
    "print('X_train', X_train.shape)\n",
    "print('y_train', y_train.shape)\n",
    "print('\\n')\n",
    "print('X_val', X_val.shape)\n",
    "print('y_val', y_val.shape)\n",
    "print('\\n')\n",
    "print('Mortality rate (TRAIN):\\n', y_train['HasChildDiedU5'].value_counts(dropna=False, normalize=True).round(2) * 100)\n",
    "print('\\nMortality rate (VAL):\\n', y_val['HasChildDiedU5'].value_counts(dropna=False, normalize=True).round(2) * 100)"
   ]
  },
  {
   "cell_type": "markdown",
   "id": "f2098c4c-57c4-4667-a223-2514f5390091",
   "metadata": {},
   "source": [
    "## 3.2 Impute missing values"
   ]
  },
  {
   "cell_type": "code",
   "execution_count": 20,
   "id": "a211d688-2bbb-49f9-ba5e-0c5e76ba1508",
   "metadata": {
    "tags": []
   },
   "outputs": [],
   "source": [
    "# Get data by feature type\n",
    "X_train_cat = X_train[features_cat]\n",
    "X_val_cat = X_val[features_cat]\n",
    "\n",
    "X_train_num = X_train[features_num]\n",
    "X_val_num = X_val[features_num]"
   ]
  },
  {
   "cell_type": "code",
   "execution_count": 21,
   "id": "785cbaa2-ae90-4493-9aed-472c4a0b250d",
   "metadata": {},
   "outputs": [],
   "source": [
    "# X_train_cat.pipe(lambda x: x.drop(columns=skip_vars_display)).head()  # DISABLED for data privacy reason!"
   ]
  },
  {
   "cell_type": "code",
   "execution_count": 22,
   "id": "d212266e-026e-4f9c-aa40-bee11cfa7f52",
   "metadata": {
    "tags": []
   },
   "outputs": [],
   "source": [
    "# X_train_num.head()  # DISABLED for data privacy reason!"
   ]
  },
  {
   "cell_type": "code",
   "execution_count": 23,
   "id": "78c0ca41-d3d8-4887-a56c-51b797ba3d4e",
   "metadata": {
    "tags": []
   },
   "outputs": [],
   "source": [
    "# # Check missing data in categorical features  # DISABLED for data privacy reason!\n",
    "# # IMPORTANT - No missing data!\n",
    "# X_train_cat.isnull().sum()"
   ]
  },
  {
   "cell_type": "code",
   "execution_count": 24,
   "id": "f9c0a966-5e7d-42ff-9bb8-a57ba654bf73",
   "metadata": {
    "tags": []
   },
   "outputs": [],
   "source": [
    "# # Check missing data in numeric features  # DISABLED for data privacy reason!\n",
    "# # IMPORTANT - Two features have missing data!\n",
    "# X_train_num.isnull().sum()"
   ]
  },
  {
   "cell_type": "code",
   "execution_count": 25,
   "id": "091cb9a7-e1b9-482a-836d-e97e0a79e343",
   "metadata": {
    "tags": []
   },
   "outputs": [],
   "source": [
    "# Impute categorical features     ###############################################################################################################\n",
    "# IMPORTANT - Although no missing data here, we show the framework for imputing missing data!\n",
    "\n",
    "from sklearn.impute import SimpleImputer\n",
    "\n",
    "# Apply imputer\n",
    "imputer_cat = SimpleImputer(strategy='most_frequent')\n",
    "\n",
    "X_train_cat_imputed = imputer_cat.fit_transform(X_train_cat)\n",
    "X_train_cat_imputed = pd.DataFrame(X_train_cat_imputed, columns=X_train_cat.columns)\n",
    "\n",
    "# # Sanity checks\n",
    "# print('Number of missing values (BEFORE):\\n', X_train_cat.isnull().sum())\n",
    "# print('\\nNumber of missing values (AFTER):\\n', X_train_cat_imputed.isnull().sum())"
   ]
  },
  {
   "cell_type": "code",
   "execution_count": 26,
   "id": "0dbe031a-9a3c-44f3-a445-656a8f0cb41a",
   "metadata": {
    "tags": []
   },
   "outputs": [],
   "source": [
    "# Impute validation set as well\n",
    "X_val_cat_imputed = imputer_cat.transform(X_val_cat)\n",
    "X_val_cat_imputed = pd.DataFrame(X_val_cat_imputed, columns=X_val_cat.columns)\n",
    "\n",
    "# # Sanity checks\n",
    "# print('Number of missing values (BEFORE):\\n', X_val_cat.isnull().sum())\n",
    "# print('\\nNumber of missing values (AFTER):\\n', X_val_cat_imputed.isnull().sum())"
   ]
  },
  {
   "cell_type": "code",
   "execution_count": 27,
   "id": "0a9f6c2e-61a6-4626-a79c-e38ff6379a68",
   "metadata": {
    "tags": []
   },
   "outputs": [],
   "source": [
    "# Impute numeric features     ###############################################################################################################\n",
    "imputer_num = SimpleImputer(strategy='median')\n",
    "\n",
    "X_train_num_imputed = imputer_num.fit_transform(X_train_num)\n",
    "X_train_num_imputed = pd.DataFrame(X_train_num_imputed, columns=X_train_num.columns)\n",
    "\n",
    "# # Sanity checks\n",
    "# print('Number of missing values (BEFORE):\\n', X_train_num.isnull().sum())\n",
    "# print('\\nNumber of missing values (AFTER):\\n', X_train_num_imputed.isnull().sum())"
   ]
  },
  {
   "cell_type": "code",
   "execution_count": 28,
   "id": "be029383-c3e2-4f54-b50e-632a4458dfdf",
   "metadata": {
    "tags": []
   },
   "outputs": [],
   "source": [
    "# Impute validation set as well\n",
    "X_val_num_imputed = imputer_num.transform(X_val_num)\n",
    "X_val_num_imputed = pd.DataFrame(X_val_num_imputed, columns=X_val_num.columns)\n",
    "\n",
    "# # Sanity checks\n",
    "# print('Number of missing values (BEFORE):\\n', X_val_num.isnull().sum())\n",
    "# print('\\nNumber of missing values (AFTER):\\n', X_val_num_imputed.isnull().sum())"
   ]
  },
  {
   "cell_type": "code",
   "execution_count": 29,
   "id": "96d8fc4c-4ebf-4c93-8f3f-a03a8d99e913",
   "metadata": {
    "tags": []
   },
   "outputs": [],
   "source": [
    "# Save imputers for future use   ####################################################################################################\n",
    "import pickle\n",
    "    \n",
    "filepath_imputer_cat = os.path.join(DIR_MODELS, 'imputer_cat.pkl')\n",
    "with open(filepath_imputer_cat, 'wb') as pkl:\n",
    "    pickle.dump(imputer_cat, pkl)\n",
    "\n",
    "filepath_imputer_num = os.path.join(DIR_MODELS, 'imputer_num.pkl')\n",
    "with open(filepath_imputer_num, 'wb') as pkl:\n",
    "    pickle.dump(imputer_num, pkl)"
   ]
  },
  {
   "cell_type": "markdown",
   "id": "e4f10152-4d4f-4085-ba6b-bfdc2f487f07",
   "metadata": {},
   "source": [
    "## 3.3 Feature scaling or normalization for numeric features"
   ]
  },
  {
   "cell_type": "code",
   "execution_count": 30,
   "id": "aebc86a0-72fd-4f3a-a02b-db35cb7c3714",
   "metadata": {
    "tags": []
   },
   "outputs": [],
   "source": [
    "# Feature scaling for numeric variables   ############################################################################################\n",
    "from sklearn.preprocessing import StandardScaler\n",
    "\n",
    "# Apply feature scaling\n",
    "scaler = StandardScaler()\n",
    "\n",
    "X_train_num_scaler = scaler.fit_transform(X_train_num_imputed)\n",
    "X_train_num_scaler = pd.DataFrame(X_train_num_scaler, columns=X_train_num_imputed.columns)\n",
    "\n",
    "# # Sanity checks\n",
    "# X_train_num_scaler.head()"
   ]
  },
  {
   "cell_type": "code",
   "execution_count": 31,
   "id": "50ad6ad7-6f2e-4411-bfa3-45183ad0bba3",
   "metadata": {
    "tags": []
   },
   "outputs": [],
   "source": [
    "# Scale validation data as well\n",
    "X_val_num_scaler = scaler.transform(X_val_num_imputed)\n",
    "X_val_num_scaler = pd.DataFrame(X_val_num_scaler, columns=X_val_num_imputed.columns)\n",
    "\n",
    "# # Sanity checks\n",
    "# X_val_num_scaler.head()"
   ]
  },
  {
   "cell_type": "code",
   "execution_count": 32,
   "id": "4f6d8bba-1474-406c-80a7-5e9422b1ce4b",
   "metadata": {
    "tags": []
   },
   "outputs": [],
   "source": [
    "# Save scaler for later use\n",
    "filepath_scaler = os.path.join(DIR_MODELS, 'scaler.pkl')\n",
    "with open(filepath_scaler, 'wb') as pkl:\n",
    "    pickle.dump(scaler, pkl)"
   ]
  },
  {
   "cell_type": "markdown",
   "id": "a584f1fc-93b9-4743-8046-59fde03ed63b",
   "metadata": {},
   "source": [
    "## 3.4 One-Hot Encoding for categorical features"
   ]
  },
  {
   "cell_type": "code",
   "execution_count": 33,
   "id": "96bc5c73-a6dd-4688-a7c6-11eb4a0b7869",
   "metadata": {
    "tags": []
   },
   "outputs": [],
   "source": [
    "# # Check data before Encoding!\n",
    "# X_train_cat_imputed.pipe(lambda x: x.drop(columns=skip_vars_display)).head()"
   ]
  },
  {
   "cell_type": "code",
   "execution_count": 34,
   "id": "5a9b3c6a-4c11-4063-a149-ebf24e38a1df",
   "metadata": {
    "tags": []
   },
   "outputs": [],
   "source": [
    "# Import library\n",
    "from sklearn.preprocessing import OneHotEncoder\n",
    "\n",
    "# Apply One-Hot Encoding\n",
    "encoder = OneHotEncoder(handle_unknown='ignore')\n",
    "\n",
    "X_train_cat_encoded = encoder.fit_transform(X_train_cat_imputed)\n",
    "X_train_cat_encoded = pd.DataFrame(X_train_cat_encoded.toarray(), columns=encoder.get_feature_names_out(features_cat))\n",
    "\n",
    "# Sanity checks after Encoding!\n",
    "skip_vars_display = [col for col in X_train_cat_encoded.columns if col.startswith(\"toilet\")]\n",
    "\n",
    "# X_train_cat_encoded.drop(columns=skip_vars_display).head()"
   ]
  },
  {
   "cell_type": "code",
   "execution_count": 35,
   "id": "f5909a22-a9cb-4d4b-9de0-1f9eebbb5a52",
   "metadata": {
    "tags": []
   },
   "outputs": [],
   "source": [
    "# Encode validation data set as well\n",
    "X_val_cat_encoded = encoder.transform(X_val_cat_imputed)\n",
    "X_val_cat_encoded = pd.DataFrame(X_val_cat_encoded.toarray(), columns=encoder.get_feature_names_out(features_cat))\n",
    "\n",
    "# # Sanity checks after Encoding!\n",
    "# X_val_cat_encoded.drop(columns=skip_vars_display).head()"
   ]
  },
  {
   "cell_type": "code",
   "execution_count": 36,
   "id": "d6260592-69dc-4d15-831a-402da16bdb61",
   "metadata": {
    "tags": []
   },
   "outputs": [],
   "source": [
    "# Save encoder for later use\n",
    "filepath_encoder = os.path.join(DIR_MODELS, 'encoder.pkl')\n",
    "with open(filepath_encoder, 'wb') as pkl:\n",
    "    pickle.dump(encoder, pkl)"
   ]
  },
  {
   "cell_type": "markdown",
   "id": "d4fd42ef-acc9-45be-b02e-6a926dae02e5",
   "metadata": {},
   "source": [
    "## 3.5 Combine processed data"
   ]
  },
  {
   "cell_type": "code",
   "execution_count": 37,
   "id": "6a8310a9-6d8c-4e02-afd5-3a8faf1dee9e",
   "metadata": {
    "tags": []
   },
   "outputs": [
    {
     "name": "stdout",
     "output_type": "stream",
     "text": [
      "X_train_ready (7004, 79)\n",
      "\n",
      "\n"
     ]
    }
   ],
   "source": [
    "# Combine data - TRAIN\n",
    "X_train_ready = pd.concat([X_train_num_scaler, X_train_cat_encoded], axis='columns')\n",
    "\n",
    "print('X_train_ready', X_train_ready.shape)\n",
    "print('\\n')\n",
    "\n",
    "# X_train_ready.drop(columns=skip_vars_display).head()"
   ]
  },
  {
   "cell_type": "code",
   "execution_count": 38,
   "id": "7d8d2ad7-8356-4b47-afb9-99b52e22c2c3",
   "metadata": {
    "tags": []
   },
   "outputs": [
    {
     "name": "stdout",
     "output_type": "stream",
     "text": [
      "X_val_ready (1751, 79)\n",
      "\n",
      "\n"
     ]
    }
   ],
   "source": [
    "# Combine data - VALIDATION\n",
    "X_val_ready = pd.concat([X_val_num_scaler, X_val_cat_encoded], axis='columns')\n",
    "\n",
    "print('X_val_ready', X_val_ready.shape)\n",
    "print('\\n')\n",
    "\n",
    "# X_val_ready.drop(columns=skip_vars_display).head()"
   ]
  },
  {
   "cell_type": "markdown",
   "id": "f81af292-be25-4987-8e99-a2408db62c4d",
   "metadata": {},
   "source": [
    "## 3.6 Build ML models"
   ]
  },
  {
   "cell_type": "code",
   "execution_count": 39,
   "id": "22ba187a-9819-4ec9-a2a1-49f8716e0697",
   "metadata": {
    "tags": []
   },
   "outputs": [],
   "source": [
    "# Convert label from Pandas data frame to numpy for ML training\n",
    "y_train = y_train.to_numpy().flatten()\n",
    "y_val = y_val.to_numpy().flatten()"
   ]
  },
  {
   "cell_type": "code",
   "execution_count": 40,
   "id": "26f34d04-7f36-4745-881c-421622215280",
   "metadata": {
    "tags": []
   },
   "outputs": [
    {
     "data": {
      "text/plain": [
       "(7004,)"
      ]
     },
     "execution_count": 40,
     "metadata": {},
     "output_type": "execute_result"
    }
   ],
   "source": [
    "y_train.shape"
   ]
  },
  {
   "cell_type": "code",
   "execution_count": 41,
   "id": "652fb094-12b3-4eec-9f64-59b716a059d1",
   "metadata": {
    "tags": []
   },
   "outputs": [
    {
     "data": {
      "text/plain": [
       "numpy.ndarray"
      ]
     },
     "execution_count": 41,
     "metadata": {},
     "output_type": "execute_result"
    }
   ],
   "source": [
    "type(y_train)"
   ]
  },
  {
   "cell_type": "code",
   "execution_count": 42,
   "id": "b13894e8-d841-4d9e-a81c-34e3f266d172",
   "metadata": {
    "tags": []
   },
   "outputs": [],
   "source": [
    "# y_train[:100]"
   ]
  },
  {
   "cell_type": "code",
   "execution_count": 43,
   "id": "8529e9f7-5576-46e1-80a8-43c4e2c7f4e9",
   "metadata": {
    "tags": []
   },
   "outputs": [],
   "source": [
    "# # Sanity checks for distribution of child deaths\n",
    "# np.unique(y_train, return_counts=True)"
   ]
  },
  {
   "cell_type": "code",
   "execution_count": 44,
   "id": "c3235abc-2a8d-4630-a10f-54db809d49e4",
   "metadata": {
    "tags": []
   },
   "outputs": [],
   "source": [
    "# np.unique(y_val, return_counts=True)"
   ]
  },
  {
   "cell_type": "code",
   "execution_count": 45,
   "id": "80a6449e-09a9-496a-9f30-731ade2f7630",
   "metadata": {
    "tags": []
   },
   "outputs": [],
   "source": [
    "# df['HasChildDiedU5'].unique()"
   ]
  },
  {
   "cell_type": "code",
   "execution_count": 46,
   "id": "1e12c8bf-a6a8-4ffa-9322-7f7801497bdd",
   "metadata": {
    "tags": []
   },
   "outputs": [
    {
     "data": {
      "text/plain": [
       "False"
      ]
     },
     "execution_count": 46,
     "metadata": {},
     "output_type": "execute_result"
    }
   ],
   "source": [
    "# np.isnan(y_train).any()\n",
    "\n",
    "pd.isnull(y_train).any()"
   ]
  },
  {
   "cell_type": "markdown",
   "id": "b5752126-d4cc-43d8-8e33-6d7159c5e794",
   "metadata": {},
   "source": [
    "### General Linear Model (Logistic regression model)"
   ]
  },
  {
   "cell_type": "code",
   "execution_count": 47,
   "id": "2eee3b1a-8a08-42b0-b1f8-37d1b5069bf7",
   "metadata": {
    "tags": []
   },
   "outputs": [
    {
     "data": {
      "text/html": [
       "<style>#sk-container-id-1 {color: black;background-color: white;}#sk-container-id-1 pre{padding: 0;}#sk-container-id-1 div.sk-toggleable {background-color: white;}#sk-container-id-1 label.sk-toggleable__label {cursor: pointer;display: block;width: 100%;margin-bottom: 0;padding: 0.3em;box-sizing: border-box;text-align: center;}#sk-container-id-1 label.sk-toggleable__label-arrow:before {content: \"▸\";float: left;margin-right: 0.25em;color: #696969;}#sk-container-id-1 label.sk-toggleable__label-arrow:hover:before {color: black;}#sk-container-id-1 div.sk-estimator:hover label.sk-toggleable__label-arrow:before {color: black;}#sk-container-id-1 div.sk-toggleable__content {max-height: 0;max-width: 0;overflow: hidden;text-align: left;background-color: #f0f8ff;}#sk-container-id-1 div.sk-toggleable__content pre {margin: 0.2em;color: black;border-radius: 0.25em;background-color: #f0f8ff;}#sk-container-id-1 input.sk-toggleable__control:checked~div.sk-toggleable__content {max-height: 200px;max-width: 100%;overflow: auto;}#sk-container-id-1 input.sk-toggleable__control:checked~label.sk-toggleable__label-arrow:before {content: \"▾\";}#sk-container-id-1 div.sk-estimator input.sk-toggleable__control:checked~label.sk-toggleable__label {background-color: #d4ebff;}#sk-container-id-1 div.sk-label input.sk-toggleable__control:checked~label.sk-toggleable__label {background-color: #d4ebff;}#sk-container-id-1 input.sk-hidden--visually {border: 0;clip: rect(1px 1px 1px 1px);clip: rect(1px, 1px, 1px, 1px);height: 1px;margin: -1px;overflow: hidden;padding: 0;position: absolute;width: 1px;}#sk-container-id-1 div.sk-estimator {font-family: monospace;background-color: #f0f8ff;border: 1px dotted black;border-radius: 0.25em;box-sizing: border-box;margin-bottom: 0.5em;}#sk-container-id-1 div.sk-estimator:hover {background-color: #d4ebff;}#sk-container-id-1 div.sk-parallel-item::after {content: \"\";width: 100%;border-bottom: 1px solid gray;flex-grow: 1;}#sk-container-id-1 div.sk-label:hover label.sk-toggleable__label {background-color: #d4ebff;}#sk-container-id-1 div.sk-serial::before {content: \"\";position: absolute;border-left: 1px solid gray;box-sizing: border-box;top: 0;bottom: 0;left: 50%;z-index: 0;}#sk-container-id-1 div.sk-serial {display: flex;flex-direction: column;align-items: center;background-color: white;padding-right: 0.2em;padding-left: 0.2em;position: relative;}#sk-container-id-1 div.sk-item {position: relative;z-index: 1;}#sk-container-id-1 div.sk-parallel {display: flex;align-items: stretch;justify-content: center;background-color: white;position: relative;}#sk-container-id-1 div.sk-item::before, #sk-container-id-1 div.sk-parallel-item::before {content: \"\";position: absolute;border-left: 1px solid gray;box-sizing: border-box;top: 0;bottom: 0;left: 50%;z-index: -1;}#sk-container-id-1 div.sk-parallel-item {display: flex;flex-direction: column;z-index: 1;position: relative;background-color: white;}#sk-container-id-1 div.sk-parallel-item:first-child::after {align-self: flex-end;width: 50%;}#sk-container-id-1 div.sk-parallel-item:last-child::after {align-self: flex-start;width: 50%;}#sk-container-id-1 div.sk-parallel-item:only-child::after {width: 0;}#sk-container-id-1 div.sk-dashed-wrapped {border: 1px dashed gray;margin: 0 0.4em 0.5em 0.4em;box-sizing: border-box;padding-bottom: 0.4em;background-color: white;}#sk-container-id-1 div.sk-label label {font-family: monospace;font-weight: bold;display: inline-block;line-height: 1.2em;}#sk-container-id-1 div.sk-label-container {text-align: center;}#sk-container-id-1 div.sk-container {/* jupyter's `normalize.less` sets `[hidden] { display: none; }` but bootstrap.min.css set `[hidden] { display: none !important; }` so we also need the `!important` here to be able to override the default hidden behavior on the sphinx rendered scikit-learn.org. See: https://github.com/scikit-learn/scikit-learn/issues/21755 */display: inline-block !important;position: relative;}#sk-container-id-1 div.sk-text-repr-fallback {display: none;}</style><div id=\"sk-container-id-1\" class=\"sk-top-container\"><div class=\"sk-text-repr-fallback\"><pre>LogisticRegression(max_iter=1000, random_state=101)</pre><b>In a Jupyter environment, please rerun this cell to show the HTML representation or trust the notebook. <br />On GitHub, the HTML representation is unable to render, please try loading this page with nbviewer.org.</b></div><div class=\"sk-container\" hidden><div class=\"sk-item\"><div class=\"sk-estimator sk-toggleable\"><input class=\"sk-toggleable__control sk-hidden--visually\" id=\"sk-estimator-id-1\" type=\"checkbox\" checked><label for=\"sk-estimator-id-1\" class=\"sk-toggleable__label sk-toggleable__label-arrow\">LogisticRegression</label><div class=\"sk-toggleable__content\"><pre>LogisticRegression(max_iter=1000, random_state=101)</pre></div></div></div></div></div>"
      ],
      "text/plain": [
       "LogisticRegression(max_iter=1000, random_state=101)"
      ]
     },
     "execution_count": 47,
     "metadata": {},
     "output_type": "execute_result"
    }
   ],
   "source": [
    "# Import library\n",
    "from sklearn.linear_model import LogisticRegression\n",
    "\n",
    "# Train ML model\n",
    "RANDOM_STATE = 101\n",
    "\n",
    "model_lr = LogisticRegression(random_state=RANDOM_STATE, max_iter=1000)\n",
    "\n",
    "model_lr.fit(X_train_ready, y_train)"
   ]
  },
  {
   "cell_type": "code",
   "execution_count": 48,
   "id": "a3e98ba2-f1f4-43d9-975d-916777411b7c",
   "metadata": {
    "tags": []
   },
   "outputs": [],
   "source": [
    "# Evaluate model\n",
    "y_pred_lr = model_lr.predict(X_val_ready)"
   ]
  },
  {
   "cell_type": "code",
   "execution_count": 49,
   "id": "4fe0a77d-18d5-4bd7-86c4-ca7dae0a8c75",
   "metadata": {
    "tags": []
   },
   "outputs": [],
   "source": [
    "# y_pred_lr[:100]"
   ]
  },
  {
   "cell_type": "code",
   "execution_count": 50,
   "id": "03f2f29d-2fb5-42cd-9d4f-9c1533e15f2b",
   "metadata": {
    "tags": []
   },
   "outputs": [],
   "source": [
    "# Evaluate model performance using Confusion matrix and ROC #################################################################################################\n",
    "from sklearn.metrics import confusion_matrix\n",
    "\n",
    "# Get confusion matrix\n",
    "cm = confusion_matrix(y_true=y_val, y_pred=y_pred_lr)\n",
    "\n",
    "# print(cm)"
   ]
  },
  {
   "cell_type": "code",
   "execution_count": 51,
   "id": "3e72a17e-2cb0-49ae-8036-0d9af5906f7f",
   "metadata": {
    "tags": []
   },
   "outputs": [],
   "source": [
    "# # Display confusion matrix  # DISABLED for data privacy reason!\n",
    "# from sklearn.metrics import ConfusionMatrixDisplay\n",
    "\n",
    "# cm_lr = confusion_matrix(y_true=y_val, y_pred=y_pred_lr)\n",
    "# disp = ConfusionMatrixDisplay(confusion_matrix=cm_lr, display_labels=model_lr.classes_)\n",
    "# disp.plot()\n",
    "\n",
    "# plt.show()"
   ]
  },
  {
   "cell_type": "code",
   "execution_count": 52,
   "id": "1ec7c695-5c98-497a-9fe7-7820e930c52d",
   "metadata": {
    "tags": []
   },
   "outputs": [],
   "source": [
    "# Calculate AUC\n",
    "from sklearn.metrics import roc_auc_score\n",
    "\n",
    "# Calculate prediction probability before calculating AUC\n",
    "y_pred_prob_lr = model_lr.predict_proba(X_val_ready)\n",
    "\n",
    "# print('y_pred_prob_lr\\n', y_pred_prob_lr[:10])"
   ]
  },
  {
   "cell_type": "code",
   "execution_count": 53,
   "id": "9d066410-2617-4538-b3a6-aef449fb71d2",
   "metadata": {
    "tags": []
   },
   "outputs": [
    {
     "data": {
      "text/plain": [
       "0.8777429110671487"
      ]
     },
     "execution_count": 53,
     "metadata": {},
     "output_type": "execute_result"
    }
   ],
   "source": [
    "auc_lr = roc_auc_score(y_val, y_pred_prob_lr[:, -1])\n",
    "auc_lr"
   ]
  },
  {
   "cell_type": "code",
   "execution_count": 54,
   "id": "fd5f35f6-7da9-4d6b-9d11-8cd60314930b",
   "metadata": {
    "tags": []
   },
   "outputs": [],
   "source": [
    "# Plot ROC\n",
    "from sklearn.metrics import roc_curve\n",
    "\n",
    "fpr_lr, tpr_lr, th_lr = roc_curve(y_val, y_pred_prob_lr[:, -1])"
   ]
  },
  {
   "cell_type": "code",
   "execution_count": 55,
   "id": "d10cf9fb-195d-4de3-9fae-24608efb9630",
   "metadata": {
    "tags": []
   },
   "outputs": [],
   "source": [
    "# Custom function to plot ROC curve\n",
    "def plot_roc_curve(fpr_list, tpr_list, label_list=None, auc_list=None):  \n",
    "    assert isinstance(fpr_list, list), 'Please pass FPR in a list, e.g., [fpr_lr]'\n",
    "    assert isinstance(tpr_list, list), 'Please pass TPR in a list, e.g., [fpr_lr]'\n",
    "    \n",
    "    if label_list is not None:\n",
    "        assert isinstance(label_list, list), 'Please pass label in a list, e.g., [label_lr]'\n",
    "        \n",
    "    if auc_list is not None:\n",
    "        assert isinstance(auc_list, list), 'Please pass AUC in a list, e.g., [auc_lr]'\n",
    "    \n",
    "    if label_list is None:\n",
    "        label_list = [None] * len(fpr_list)\n",
    "        \n",
    "    if auc_list is None:\n",
    "        auc_list = [None] * len(fpr_list)\n",
    "        \n",
    "    for fpr, tpr, label, auc in zip(fpr_list, tpr_list, label_list, auc_list):\n",
    "        plt.plot(fpr, tpr, linewidth=2, \n",
    "                 label=''.join([label, ' (auc = ', str(round(auc * 100, 1)), '%)']) if label is not None else None,\n",
    "                )\n",
    "        plt.plot([0, 1], [0, 1], color='0.8')\n",
    "\n",
    "        plt.xlabel(\"FPR (1 - Specificity)\")\n",
    "        plt.ylabel(\"TPR (Sensitivity)\")\n",
    "        \n",
    "        if label is not None and auc is not None:\n",
    "            plt.legend()"
   ]
  },
  {
   "cell_type": "code",
   "execution_count": 56,
   "id": "37342b90-9b8d-4d4a-b52b-6d4e04591f24",
   "metadata": {
    "tags": []
   },
   "outputs": [
    {
     "data": {
      "image/png": "[encoded data removed]",
      "text/plain": [
       "<Figure size 640x480 with 1 Axes>"
      ]
     },
     "metadata": {},
     "output_type": "display_data"
    }
   ],
   "source": [
    "# Plot ROC for logistic regression model\n",
    "plot_roc_curve([fpr_lr], [tpr_lr], label_list=['LR'], auc_list=[auc_lr])"
   ]
  },
  {
   "cell_type": "markdown",
   "id": "ca0231ae-f33b-4f50-80e9-42a68e376d00",
   "metadata": {
    "tags": []
   },
   "source": [
    "## K-nearest Neighbors Model"
   ]
  },
  {
   "cell_type": "code",
   "execution_count": 57,
   "id": "4fd435ce-f321-44e1-9eb9-24efd2d7e728",
   "metadata": {
    "tags": []
   },
   "outputs": [
    {
     "data": {
      "text/html": [
       "<style>#sk-container-id-2 {color: black;background-color: white;}#sk-container-id-2 pre{padding: 0;}#sk-container-id-2 div.sk-toggleable {background-color: white;}#sk-container-id-2 label.sk-toggleable__label {cursor: pointer;display: block;width: 100%;margin-bottom: 0;padding: 0.3em;box-sizing: border-box;text-align: center;}#sk-container-id-2 label.sk-toggleable__label-arrow:before {content: \"▸\";float: left;margin-right: 0.25em;color: #696969;}#sk-container-id-2 label.sk-toggleable__label-arrow:hover:before {color: black;}#sk-container-id-2 div.sk-estimator:hover label.sk-toggleable__label-arrow:before {color: black;}#sk-container-id-2 div.sk-toggleable__content {max-height: 0;max-width: 0;overflow: hidden;text-align: left;background-color: #f0f8ff;}#sk-container-id-2 div.sk-toggleable__content pre {margin: 0.2em;color: black;border-radius: 0.25em;background-color: #f0f8ff;}#sk-container-id-2 input.sk-toggleable__control:checked~div.sk-toggleable__content {max-height: 200px;max-width: 100%;overflow: auto;}#sk-container-id-2 input.sk-toggleable__control:checked~label.sk-toggleable__label-arrow:before {content: \"▾\";}#sk-container-id-2 div.sk-estimator input.sk-toggleable__control:checked~label.sk-toggleable__label {background-color: #d4ebff;}#sk-container-id-2 div.sk-label input.sk-toggleable__control:checked~label.sk-toggleable__label {background-color: #d4ebff;}#sk-container-id-2 input.sk-hidden--visually {border: 0;clip: rect(1px 1px 1px 1px);clip: rect(1px, 1px, 1px, 1px);height: 1px;margin: -1px;overflow: hidden;padding: 0;position: absolute;width: 1px;}#sk-container-id-2 div.sk-estimator {font-family: monospace;background-color: #f0f8ff;border: 1px dotted black;border-radius: 0.25em;box-sizing: border-box;margin-bottom: 0.5em;}#sk-container-id-2 div.sk-estimator:hover {background-color: #d4ebff;}#sk-container-id-2 div.sk-parallel-item::after {content: \"\";width: 100%;border-bottom: 1px solid gray;flex-grow: 1;}#sk-container-id-2 div.sk-label:hover label.sk-toggleable__label {background-color: #d4ebff;}#sk-container-id-2 div.sk-serial::before {content: \"\";position: absolute;border-left: 1px solid gray;box-sizing: border-box;top: 0;bottom: 0;left: 50%;z-index: 0;}#sk-container-id-2 div.sk-serial {display: flex;flex-direction: column;align-items: center;background-color: white;padding-right: 0.2em;padding-left: 0.2em;position: relative;}#sk-container-id-2 div.sk-item {position: relative;z-index: 1;}#sk-container-id-2 div.sk-parallel {display: flex;align-items: stretch;justify-content: center;background-color: white;position: relative;}#sk-container-id-2 div.sk-item::before, #sk-container-id-2 div.sk-parallel-item::before {content: \"\";position: absolute;border-left: 1px solid gray;box-sizing: border-box;top: 0;bottom: 0;left: 50%;z-index: -1;}#sk-container-id-2 div.sk-parallel-item {display: flex;flex-direction: column;z-index: 1;position: relative;background-color: white;}#sk-container-id-2 div.sk-parallel-item:first-child::after {align-self: flex-end;width: 50%;}#sk-container-id-2 div.sk-parallel-item:last-child::after {align-self: flex-start;width: 50%;}#sk-container-id-2 div.sk-parallel-item:only-child::after {width: 0;}#sk-container-id-2 div.sk-dashed-wrapped {border: 1px dashed gray;margin: 0 0.4em 0.5em 0.4em;box-sizing: border-box;padding-bottom: 0.4em;background-color: white;}#sk-container-id-2 div.sk-label label {font-family: monospace;font-weight: bold;display: inline-block;line-height: 1.2em;}#sk-container-id-2 div.sk-label-container {text-align: center;}#sk-container-id-2 div.sk-container {/* jupyter's `normalize.less` sets `[hidden] { display: none; }` but bootstrap.min.css set `[hidden] { display: none !important; }` so we also need the `!important` here to be able to override the default hidden behavior on the sphinx rendered scikit-learn.org. See: https://github.com/scikit-learn/scikit-learn/issues/21755 */display: inline-block !important;position: relative;}#sk-container-id-2 div.sk-text-repr-fallback {display: none;}</style><div id=\"sk-container-id-2\" class=\"sk-top-container\"><div class=\"sk-text-repr-fallback\"><pre>KNeighborsClassifier(n_neighbors=10)</pre><b>In a Jupyter environment, please rerun this cell to show the HTML representation or trust the notebook. <br />On GitHub, the HTML representation is unable to render, please try loading this page with nbviewer.org.</b></div><div class=\"sk-container\" hidden><div class=\"sk-item\"><div class=\"sk-estimator sk-toggleable\"><input class=\"sk-toggleable__control sk-hidden--visually\" id=\"sk-estimator-id-2\" type=\"checkbox\" checked><label for=\"sk-estimator-id-2\" class=\"sk-toggleable__label sk-toggleable__label-arrow\">KNeighborsClassifier</label><div class=\"sk-toggleable__content\"><pre>KNeighborsClassifier(n_neighbors=10)</pre></div></div></div></div></div>"
      ],
      "text/plain": [
       "KNeighborsClassifier(n_neighbors=10)"
      ]
     },
     "execution_count": 57,
     "metadata": {},
     "output_type": "execute_result"
    }
   ],
   "source": [
    "# Load library\n",
    "from sklearn.neighbors import KNeighborsClassifier\n",
    "\n",
    "# Set Hyperparameters\n",
    "N_NEIGHBORS = 10\n",
    "\n",
    "# Train model\n",
    "model_knn = KNeighborsClassifier(n_neighbors=N_NEIGHBORS)\n",
    "\n",
    "model_knn.fit(X_train_ready, y_train)"
   ]
  },
  {
   "cell_type": "code",
   "execution_count": 58,
   "id": "cb4e7906-1f56-442e-b118-4d06f532526c",
   "metadata": {
    "tags": []
   },
   "outputs": [],
   "source": [
    "# Evaluate model\n",
    "y_pred_knn = model_knn.predict(X_val_ready)"
   ]
  },
  {
   "cell_type": "code",
   "execution_count": 59,
   "id": "47f3130b-99e9-433c-a708-3c44ae4f8db1",
   "metadata": {
    "tags": []
   },
   "outputs": [],
   "source": [
    "# # Display confusion matrix  # DISABLED for data privacy reason!\n",
    "# cm_knn = confusion_matrix(y_true=y_val, y_pred=y_pred_knn)\n",
    "# disp = ConfusionMatrixDisplay(confusion_matrix=cm_knn, display_labels=model_knn.classes_)\n",
    "# disp.plot()\n",
    "\n",
    "# plt.show()"
   ]
  },
  {
   "cell_type": "code",
   "execution_count": 60,
   "id": "5606a711-7c74-48b4-857e-845197edbadf",
   "metadata": {
    "tags": []
   },
   "outputs": [
    {
     "data": {
      "text/plain": [
       "0.7811697023444073"
      ]
     },
     "execution_count": 60,
     "metadata": {},
     "output_type": "execute_result"
    }
   ],
   "source": [
    "# Calculate AUC\n",
    "y_pred_prob_knn = model_knn.predict_proba(X_val_ready)\n",
    "\n",
    "auc_knn = roc_auc_score(y_val, y_pred_prob_knn[:, -1])\n",
    "auc_knn"
   ]
  },
  {
   "cell_type": "code",
   "execution_count": 61,
   "id": "5fc118ee-2ed4-4689-81a2-1fe7bf38b324",
   "metadata": {
    "tags": []
   },
   "outputs": [
    {
     "data": {
      "image/png": "[encoded data removed]",
      "text/plain": [
       "<Figure size 640x480 with 1 Axes>"
      ]
     },
     "metadata": {},
     "output_type": "display_data"
    }
   ],
   "source": [
    "# ROC for KNN\n",
    "fpr_knn, tpr_knn, th_knn = roc_curve(y_val, y_pred_prob_knn[:, -1])\n",
    "\n",
    "plot_roc_curve([fpr_knn], [tpr_knn], label_list=['KNN'], auc_list=[auc_knn])"
   ]
  },
  {
   "cell_type": "markdown",
   "id": "e4f0306b-e4d2-4593-bfc2-4d3f41032341",
   "metadata": {},
   "source": [
    "### Random Forest Model"
   ]
  },
  {
   "cell_type": "code",
   "execution_count": 62,
   "id": "b21cfb94-40aa-4ac8-8597-1ea55fe6c466",
   "metadata": {
    "tags": []
   },
   "outputs": [
    {
     "data": {
      "text/html": [
       "<style>#sk-container-id-3 {color: black;background-color: white;}#sk-container-id-3 pre{padding: 0;}#sk-container-id-3 div.sk-toggleable {background-color: white;}#sk-container-id-3 label.sk-toggleable__label {cursor: pointer;display: block;width: 100%;margin-bottom: 0;padding: 0.3em;box-sizing: border-box;text-align: center;}#sk-container-id-3 label.sk-toggleable__label-arrow:before {content: \"▸\";float: left;margin-right: 0.25em;color: #696969;}#sk-container-id-3 label.sk-toggleable__label-arrow:hover:before {color: black;}#sk-container-id-3 div.sk-estimator:hover label.sk-toggleable__label-arrow:before {color: black;}#sk-container-id-3 div.sk-toggleable__content {max-height: 0;max-width: 0;overflow: hidden;text-align: left;background-color: #f0f8ff;}#sk-container-id-3 div.sk-toggleable__content pre {margin: 0.2em;color: black;border-radius: 0.25em;background-color: #f0f8ff;}#sk-container-id-3 input.sk-toggleable__control:checked~div.sk-toggleable__content {max-height: 200px;max-width: 100%;overflow: auto;}#sk-container-id-3 input.sk-toggleable__control:checked~label.sk-toggleable__label-arrow:before {content: \"▾\";}#sk-container-id-3 div.sk-estimator input.sk-toggleable__control:checked~label.sk-toggleable__label {background-color: #d4ebff;}#sk-container-id-3 div.sk-label input.sk-toggleable__control:checked~label.sk-toggleable__label {background-color: #d4ebff;}#sk-container-id-3 input.sk-hidden--visually {border: 0;clip: rect(1px 1px 1px 1px);clip: rect(1px, 1px, 1px, 1px);height: 1px;margin: -1px;overflow: hidden;padding: 0;position: absolute;width: 1px;}#sk-container-id-3 div.sk-estimator {font-family: monospace;background-color: #f0f8ff;border: 1px dotted black;border-radius: 0.25em;box-sizing: border-box;margin-bottom: 0.5em;}#sk-container-id-3 div.sk-estimator:hover {background-color: #d4ebff;}#sk-container-id-3 div.sk-parallel-item::after {content: \"\";width: 100%;border-bottom: 1px solid gray;flex-grow: 1;}#sk-container-id-3 div.sk-label:hover label.sk-toggleable__label {background-color: #d4ebff;}#sk-container-id-3 div.sk-serial::before {content: \"\";position: absolute;border-left: 1px solid gray;box-sizing: border-box;top: 0;bottom: 0;left: 50%;z-index: 0;}#sk-container-id-3 div.sk-serial {display: flex;flex-direction: column;align-items: center;background-color: white;padding-right: 0.2em;padding-left: 0.2em;position: relative;}#sk-container-id-3 div.sk-item {position: relative;z-index: 1;}#sk-container-id-3 div.sk-parallel {display: flex;align-items: stretch;justify-content: center;background-color: white;position: relative;}#sk-container-id-3 div.sk-item::before, #sk-container-id-3 div.sk-parallel-item::before {content: \"\";position: absolute;border-left: 1px solid gray;box-sizing: border-box;top: 0;bottom: 0;left: 50%;z-index: -1;}#sk-container-id-3 div.sk-parallel-item {display: flex;flex-direction: column;z-index: 1;position: relative;background-color: white;}#sk-container-id-3 div.sk-parallel-item:first-child::after {align-self: flex-end;width: 50%;}#sk-container-id-3 div.sk-parallel-item:last-child::after {align-self: flex-start;width: 50%;}#sk-container-id-3 div.sk-parallel-item:only-child::after {width: 0;}#sk-container-id-3 div.sk-dashed-wrapped {border: 1px dashed gray;margin: 0 0.4em 0.5em 0.4em;box-sizing: border-box;padding-bottom: 0.4em;background-color: white;}#sk-container-id-3 div.sk-label label {font-family: monospace;font-weight: bold;display: inline-block;line-height: 1.2em;}#sk-container-id-3 div.sk-label-container {text-align: center;}#sk-container-id-3 div.sk-container {/* jupyter's `normalize.less` sets `[hidden] { display: none; }` but bootstrap.min.css set `[hidden] { display: none !important; }` so we also need the `!important` here to be able to override the default hidden behavior on the sphinx rendered scikit-learn.org. See: https://github.com/scikit-learn/scikit-learn/issues/21755 */display: inline-block !important;position: relative;}#sk-container-id-3 div.sk-text-repr-fallback {display: none;}</style><div id=\"sk-container-id-3\" class=\"sk-top-container\"><div class=\"sk-text-repr-fallback\"><pre>RandomForestClassifier(max_depth=3, n_estimators=250, random_state=101)</pre><b>In a Jupyter environment, please rerun this cell to show the HTML representation or trust the notebook. <br />On GitHub, the HTML representation is unable to render, please try loading this page with nbviewer.org.</b></div><div class=\"sk-container\" hidden><div class=\"sk-item\"><div class=\"sk-estimator sk-toggleable\"><input class=\"sk-toggleable__control sk-hidden--visually\" id=\"sk-estimator-id-3\" type=\"checkbox\" checked><label for=\"sk-estimator-id-3\" class=\"sk-toggleable__label sk-toggleable__label-arrow\">RandomForestClassifier</label><div class=\"sk-toggleable__content\"><pre>RandomForestClassifier(max_depth=3, n_estimators=250, random_state=101)</pre></div></div></div></div></div>"
      ],
      "text/plain": [
       "RandomForestClassifier(max_depth=3, n_estimators=250, random_state=101)"
      ]
     },
     "execution_count": 62,
     "metadata": {},
     "output_type": "execute_result"
    }
   ],
   "source": [
    "# Load library\n",
    "from sklearn.ensemble import RandomForestClassifier\n",
    "\n",
    "# Set Hyperparameters\n",
    "N_TREES = 250\n",
    "N_DEPTH = 3\n",
    "\n",
    "# Train model\n",
    "model_rf = RandomForestClassifier(n_estimators=N_TREES, max_depth=N_DEPTH, random_state=RANDOM_STATE)\n",
    "\n",
    "model_rf.fit(X_train_ready, y_train)"
   ]
  },
  {
   "cell_type": "code",
   "execution_count": 63,
   "id": "9c2f2397-fe86-4d4c-abd1-69e1b4fed5eb",
   "metadata": {
    "tags": []
   },
   "outputs": [],
   "source": [
    "# Evaluate model\n",
    "y_pred_rf = model_rf.predict(X_val_ready)"
   ]
  },
  {
   "cell_type": "code",
   "execution_count": 64,
   "id": "1464ce09-a924-4069-be1f-f0a60c920990",
   "metadata": {
    "tags": []
   },
   "outputs": [],
   "source": [
    "# # Display confusion matrix  # DISABLED for data privacy reason!\n",
    "# cm_rf = confusion_matrix(y_true=y_val, y_pred=y_pred_rf)\n",
    "# disp = ConfusionMatrixDisplay(confusion_matrix=cm_rf, display_labels=model_rf.classes_)\n",
    "# disp.plot()\n",
    "\n",
    "# plt.show()"
   ]
  },
  {
   "cell_type": "code",
   "execution_count": 65,
   "id": "72e7c338-92de-4677-85b5-9236559b5396",
   "metadata": {
    "tags": []
   },
   "outputs": [
    {
     "data": {
      "text/plain": [
       "0.8401778202242081"
      ]
     },
     "execution_count": 65,
     "metadata": {},
     "output_type": "execute_result"
    }
   ],
   "source": [
    "# Calculate AUC\n",
    "y_pred_prob_rf = model_rf.predict_proba(X_val_ready)\n",
    "\n",
    "auc_rf = roc_auc_score(y_val, y_pred_prob_rf[:, -1])\n",
    "auc_rf"
   ]
  },
  {
   "cell_type": "code",
   "execution_count": 66,
   "id": "463e6b30-b128-4b94-8ca8-1f4183cfd612",
   "metadata": {
    "tags": []
   },
   "outputs": [
    {
     "data": {
      "image/png": "[encoded data removed]",
      "text/plain": [
       "<Figure size 640x480 with 1 Axes>"
      ]
     },
     "metadata": {},
     "output_type": "display_data"
    }
   ],
   "source": [
    "# ROC for RF\n",
    "fpr_rf, tpr_rf, th_rf = roc_curve(y_val, y_pred_prob_rf[:, -1])\n",
    "\n",
    "plot_roc_curve([fpr_rf], [tpr_rf], label_list=['RF'], auc_list=[auc_rf])"
   ]
  },
  {
   "cell_type": "markdown",
   "id": "6d62d30e-5ea2-402c-b7ee-209cac755fb5",
   "metadata": {},
   "source": [
    "### Gradient Boosting - Catboost"
   ]
  },
  {
   "cell_type": "code",
   "execution_count": 67,
   "id": "20073154-8637-4620-9d9f-88277116e249",
   "metadata": {
    "tags": []
   },
   "outputs": [
    {
     "data": {
      "text/plain": [
       "<catboost.core.CatBoostClassifier at 0x2126485deb0>"
      ]
     },
     "execution_count": 67,
     "metadata": {},
     "output_type": "execute_result"
    }
   ],
   "source": [
    "# Import library\n",
    "from catboost import CatBoostClassifier\n",
    "\n",
    "# Set Hyperparameters\n",
    "N_TREES = 250\n",
    "LEARNING_RATE = 0.001\n",
    "N_DEPTH = 5\n",
    "\n",
    "# Train model\n",
    "model_cb = CatBoostClassifier(iterations=N_TREES,\n",
    "                              learning_rate=LEARNING_RATE,\n",
    "                              depth=N_DEPTH, \n",
    "                              verbose=0)\n",
    "# Fit model\n",
    "model_cb.fit(X_train_ready, y_train)"
   ]
  },
  {
   "cell_type": "code",
   "execution_count": 68,
   "id": "e58fb8fa-4f4b-4344-8e36-7ff98724eae8",
   "metadata": {
    "tags": []
   },
   "outputs": [],
   "source": [
    "# Evaluate model\n",
    "y_pred_cb = model_cb.predict(X_val_ready)"
   ]
  },
  {
   "cell_type": "code",
   "execution_count": 69,
   "id": "43ca42c1-62bd-4f01-b3b5-f6264486d26f",
   "metadata": {
    "tags": []
   },
   "outputs": [],
   "source": [
    "# # Display confusion matrix\n",
    "# cm_cb = confusion_matrix(y_true=y_val, y_pred=y_pred_cb)\n",
    "# disp = ConfusionMatrixDisplay(confusion_matrix=cm_cb, display_labels=model_cb.classes_)\n",
    "# disp.plot()\n",
    "\n",
    "# plt.show()"
   ]
  },
  {
   "cell_type": "code",
   "execution_count": 70,
   "id": "14495f09-a961-447b-914a-6eb5279f280e",
   "metadata": {
    "tags": []
   },
   "outputs": [
    {
     "data": {
      "text/plain": [
       "0.8951326829933829"
      ]
     },
     "execution_count": 70,
     "metadata": {},
     "output_type": "execute_result"
    }
   ],
   "source": [
    "# Calculate AUC\n",
    "y_pred_prob_cb = model_cb.predict_proba(X_val_ready)\n",
    "\n",
    "auc_cb = roc_auc_score(y_val, y_pred_prob_cb[:, -1])\n",
    "auc_cb"
   ]
  },
  {
   "cell_type": "code",
   "execution_count": 71,
   "id": "82e5e39e-7f86-4043-9949-4e7279c82482",
   "metadata": {
    "tags": []
   },
   "outputs": [
    {
     "data": {
      "image/png": "[encoded data removed]",
      "text/plain": [
       "<Figure size 640x480 with 1 Axes>"
      ]
     },
     "metadata": {},
     "output_type": "display_data"
    }
   ],
   "source": [
    "# ROC for RF\n",
    "fpr_cb, tpr_cb, th_cb = roc_curve(y_val, y_pred_prob_cb[:, -1])\n",
    "\n",
    "plot_roc_curve([fpr_cb], [tpr_cb], label_list=['CB'], auc_list=[auc_cb])"
   ]
  },
  {
   "cell_type": "markdown",
   "id": "199cd27e-9981-4ef4-b90d-3461aa5a838e",
   "metadata": {},
   "source": [
    "## Compare model performance for different ML algorithms"
   ]
  },
  {
   "cell_type": "code",
   "execution_count": 72,
   "id": "dc3653fe-8764-4e29-af64-946184e1644a",
   "metadata": {
    "tags": []
   },
   "outputs": [
    {
     "data": {
      "image/png": "[encoded data removed]",
      "text/plain": [
       "<Figure size 640x480 with 1 Axes>"
      ]
     },
     "metadata": {},
     "output_type": "display_data"
    }
   ],
   "source": [
    "# Compare models using ROC curve\n",
    "plot_roc_curve([fpr_lr, fpr_knn, fpr_rf, fpr_cb], \n",
    "               [tpr_lr, tpr_knn, tpr_rf, tpr_cb], \n",
    "               label_list=['LR', 'KNN', 'RF', 'CB'], \n",
    "               auc_list=[auc_lr, auc_knn, auc_rf, auc_cb])"
   ]
  },
  {
   "cell_type": "markdown",
   "id": "1c0202dd-951d-45a2-915a-e36b48d93926",
   "metadata": {},
   "source": [
    "# 4. Improve model performance"
   ]
  },
  {
   "cell_type": "markdown",
   "id": "2a1d2dcc-f6dd-433d-923a-762e0b0f7bd0",
   "metadata": {},
   "source": [
    "## 4.1 Address class imbalance"
   ]
  },
  {
   "cell_type": "code",
   "execution_count": 73,
   "id": "1da81b2a-bd0a-4f45-ae37-b5de208a7b72",
   "metadata": {
    "tags": []
   },
   "outputs": [],
   "source": [
    "y_train_df = pd.DataFrame({\n",
    "    'target': y_train\n",
    "})\n",
    "\n",
    "# y_train_df"
   ]
  },
  {
   "cell_type": "code",
   "execution_count": 74,
   "id": "a1d1d626-c89a-4bcb-aac5-73c5e5206032",
   "metadata": {
    "tags": []
   },
   "outputs": [
    {
     "name": "stdout",
     "output_type": "stream",
     "text": [
      "downsampled (860, 80)\n"
     ]
    }
   ],
   "source": [
    "# combine X_train and y_train into a single DataFrame\n",
    "y_train_df = pd.DataFrame({\n",
    "    'target': y_train\n",
    "})\n",
    "\n",
    "train_data = pd.concat([X_train_ready, y_train_df], axis=1)\n",
    "\n",
    "# separate instances of each class\n",
    "negative_class = train_data[train_data.target==0]\n",
    "positive_class = train_data[train_data.target==1]\n",
    "\n",
    "# randomly undersample the majority class\n",
    "from sklearn.utils import resample\n",
    "\n",
    "RANDOM_STATE = 101\n",
    "\n",
    "negative_class_downsampled = resample(negative_class,\n",
    "                                       replace=False,     # sample without replacement\n",
    "                                       n_samples=len(positive_class),  # match minority class\n",
    "                                       random_state=RANDOM_STATE)   # reproducible results\n",
    "\n",
    "# combine minority class and downsampled majority class\n",
    "downsampled = pd.concat([negative_class_downsampled, positive_class])\n",
    "print('downsampled', downsampled.shape)\n",
    "\n",
    "# separate input features and target variable\n",
    "X_train_downsampled = downsampled.drop('target', axis=1)\n",
    "y_train_downsampled = downsampled['target']"
   ]
  },
  {
   "cell_type": "code",
   "execution_count": 75,
   "id": "88d988df-b4c6-441a-84fb-81902fb98165",
   "metadata": {
    "tags": []
   },
   "outputs": [
    {
     "data": {
      "text/plain": [
       "0    0.5\n",
       "1    0.5\n",
       "Name: target, dtype: float64"
      ]
     },
     "execution_count": 75,
     "metadata": {},
     "output_type": "execute_result"
    }
   ],
   "source": [
    "y_train_downsampled.value_counts(normalize=True)"
   ]
  },
  {
   "cell_type": "code",
   "execution_count": 76,
   "id": "b10b5cd5-4d82-4baf-b0a3-4fb972ab7ef6",
   "metadata": {
    "tags": []
   },
   "outputs": [
    {
     "data": {
      "text/plain": [
       "0.875179070877959"
      ]
     },
     "execution_count": 76,
     "metadata": {},
     "output_type": "execute_result"
    }
   ],
   "source": [
    "# Re-train LR after downsampling   ########################################################################################################################\n",
    "\n",
    "# Train\n",
    "RANDOM_STATE = 101\n",
    "model_lr_downsampled = LogisticRegression(random_state=RANDOM_STATE, max_iter=1000)\n",
    "model_lr_downsampled.fit(X_train_downsampled, y_train_downsampled)\n",
    "\n",
    "# Evaluate model\n",
    "y_pred_lr = model_lr_downsampled.predict(X_val_ready)\n",
    "\n",
    "# Evaluate\n",
    "y_pred_prob_lr = model_lr_downsampled.predict_proba(X_val_ready)\n",
    "auc_lr_after = roc_auc_score(y_val, y_pred_prob_lr[:, -1])\n",
    "auc_lr_after"
   ]
  },
  {
   "cell_type": "code",
   "execution_count": 77,
   "id": "0f36fbe5-136e-4d59-8ab8-e6f1a4738829",
   "metadata": {
    "tags": []
   },
   "outputs": [
    {
     "data": {
      "text/plain": [
       "0.8777429110671487"
      ]
     },
     "execution_count": 77,
     "metadata": {},
     "output_type": "execute_result"
    }
   ],
   "source": [
    "auc_lr"
   ]
  },
  {
   "cell_type": "code",
   "execution_count": 78,
   "id": "5a215888-bc14-43e0-8a50-a984ec2f8018",
   "metadata": {
    "tags": []
   },
   "outputs": [],
   "source": [
    "# # Display confusion matrix  # DISABLED for data privacy reason!\n",
    "# cm_lr_after = confusion_matrix(y_true=y_val, y_pred=y_pred_lr)\n",
    "# disp = ConfusionMatrixDisplay(confusion_matrix=cm_lr_after, display_labels=model_lr_downsampled.classes_)\n",
    "# disp.plot()\n",
    "\n",
    "# plt.show()"
   ]
  },
  {
   "cell_type": "code",
   "execution_count": 79,
   "id": "7d26dd8e-5b78-4e82-b132-432ca34e63e2",
   "metadata": {
    "tags": []
   },
   "outputs": [
    {
     "data": {
      "image/png": "[encoded data removed]",
      "text/plain": [
       "<Figure size 640x480 with 1 Axes>"
      ]
     },
     "metadata": {},
     "output_type": "display_data"
    }
   ],
   "source": [
    "# ROC\n",
    "fpr_lr, tpr_lr, th_lr = roc_curve(y_val, y_pred_prob_lr[:, -1])\n",
    "\n",
    "plot_roc_curve([fpr_lr], [tpr_lr], label_list=['LR'], auc_list=[auc_lr_after])"
   ]
  },
  {
   "cell_type": "code",
   "execution_count": null,
   "id": "ab5ae594-af09-45cf-ac03-264c861fe89d",
   "metadata": {},
   "outputs": [],
   "source": []
  },
  {
   "cell_type": "markdown",
   "id": "ac9266e7-ec4d-4a6e-b5ae-cd37cb8d3d2d",
   "metadata": {},
   "source": [
    "## 5. Feature Importance"
   ]
  },
  {
   "cell_type": "code",
   "execution_count": 80,
   "id": "1b5a2ad2-86d5-480e-91bb-b93aa6f894a5",
   "metadata": {
    "tags": []
   },
   "outputs": [],
   "source": [
    "# Calculate feature importance\n",
    "feature_importance = abs(model_lr.coef_[0])\n",
    "feature_importance = 100.0 * (feature_importance / feature_importance.max())\n",
    "\n",
    "# feature_importance"
   ]
  },
  {
   "cell_type": "code",
   "execution_count": 81,
   "id": "1426a20c-aaf9-43f8-b0db-f9464d12f4c0",
   "metadata": {
    "tags": []
   },
   "outputs": [],
   "source": [
    "# # Custom function for Feature Importance for LR  # DISABLED for data privacy reason!\n",
    "# import numpy as np\n",
    "\n",
    "# def plot_feature_importance_lr(lr_model, colnames_x, threshold_importance=None):\n",
    "#     # Compute feature importance\n",
    "#     feature_importance = abs(lr_model.coef_[0])\n",
    "#     feature_importance = 100.0 * (feature_importance / feature_importance.max())\n",
    "\n",
    "#     # Keep strong importance\n",
    "#     if threshold_importance is not None:\n",
    "#         feature_importance = feature_importance[feature_importance > threshold_importance]\n",
    "\n",
    "#     # Plot importance\n",
    "#     idx_sorted = np.argsort(feature_importance)\n",
    "#     pos = np.arange(idx_sorted.shape[0]) + 0.5\n",
    "\n",
    "#     fig = plt.figure()\n",
    "#     ax = fig.add_subplot(1, 1, 1)\n",
    "    \n",
    "#     ax.barh(pos, feature_importance[idx_sorted], align='center')\n",
    "#     ax.set_yticks(pos)\n",
    "#     ax.set_yticklabels(np.array(X.columns)[idx_sorted], fontsize=12)\n",
    "#     ax.set_xlabel('Relative Feature Importance')\n",
    "    \n",
    "#     plt.tight_layout()   \n",
    "#     plt.show()"
   ]
  },
  {
   "cell_type": "code",
   "execution_count": 82,
   "id": "ea4ce5c8-e571-4c3b-bfe8-b9187f9cb8e2",
   "metadata": {
    "tags": []
   },
   "outputs": [],
   "source": [
    "# plot_feature_importance_lr(model_lr, colnames_x=X_train_ready.columns, threshold_importance=15)"
   ]
  },
  {
   "cell_type": "code",
   "execution_count": 83,
   "id": "67fa91ec-511c-4c56-8481-884f59326a60",
   "metadata": {
    "tags": []
   },
   "outputs": [],
   "source": [
    "# Save model for later use   ##################################################################################################################\n",
    "\n",
    "# Import library\n",
    "import joblib\n",
    "\n",
    "# Save model\n",
    "filepath_model = os.path.join(DIR_MODELS, 'model_lr.pkl')\n",
    "with open(filepath_model, 'wb') as fp:\n",
    "    joblib.dump(model_lr_downsampled, fp)"
   ]
  },
  {
   "cell_type": "markdown",
   "id": "eaad522d-f36c-4b54-8a9c-793505fb764c",
   "metadata": {},
   "source": [
    "# 6. Load saved model and do predictions"
   ]
  },
  {
   "cell_type": "code",
   "execution_count": 84,
   "id": "b3b693ca-da9a-42ed-bb37-6f6e4496ec01",
   "metadata": {
    "tags": []
   },
   "outputs": [],
   "source": [
    "# Load saved model\n",
    "filepath_saved_model = os.path.join(DIR_MODELS, 'model_lr.pkl')\n",
    "loaded_model = joblib.load(filepath_saved_model)"
   ]
  },
  {
   "cell_type": "code",
   "execution_count": 85,
   "id": "c2c74994-eb45-4380-bbec-b063196907be",
   "metadata": {
    "tags": []
   },
   "outputs": [
    {
     "data": {
      "text/html": [
       "<style>#sk-container-id-4 {color: black;background-color: white;}#sk-container-id-4 pre{padding: 0;}#sk-container-id-4 div.sk-toggleable {background-color: white;}#sk-container-id-4 label.sk-toggleable__label {cursor: pointer;display: block;width: 100%;margin-bottom: 0;padding: 0.3em;box-sizing: border-box;text-align: center;}#sk-container-id-4 label.sk-toggleable__label-arrow:before {content: \"▸\";float: left;margin-right: 0.25em;color: #696969;}#sk-container-id-4 label.sk-toggleable__label-arrow:hover:before {color: black;}#sk-container-id-4 div.sk-estimator:hover label.sk-toggleable__label-arrow:before {color: black;}#sk-container-id-4 div.sk-toggleable__content {max-height: 0;max-width: 0;overflow: hidden;text-align: left;background-color: #f0f8ff;}#sk-container-id-4 div.sk-toggleable__content pre {margin: 0.2em;color: black;border-radius: 0.25em;background-color: #f0f8ff;}#sk-container-id-4 input.sk-toggleable__control:checked~div.sk-toggleable__content {max-height: 200px;max-width: 100%;overflow: auto;}#sk-container-id-4 input.sk-toggleable__control:checked~label.sk-toggleable__label-arrow:before {content: \"▾\";}#sk-container-id-4 div.sk-estimator input.sk-toggleable__control:checked~label.sk-toggleable__label {background-color: #d4ebff;}#sk-container-id-4 div.sk-label input.sk-toggleable__control:checked~label.sk-toggleable__label {background-color: #d4ebff;}#sk-container-id-4 input.sk-hidden--visually {border: 0;clip: rect(1px 1px 1px 1px);clip: rect(1px, 1px, 1px, 1px);height: 1px;margin: -1px;overflow: hidden;padding: 0;position: absolute;width: 1px;}#sk-container-id-4 div.sk-estimator {font-family: monospace;background-color: #f0f8ff;border: 1px dotted black;border-radius: 0.25em;box-sizing: border-box;margin-bottom: 0.5em;}#sk-container-id-4 div.sk-estimator:hover {background-color: #d4ebff;}#sk-container-id-4 div.sk-parallel-item::after {content: \"\";width: 100%;border-bottom: 1px solid gray;flex-grow: 1;}#sk-container-id-4 div.sk-label:hover label.sk-toggleable__label {background-color: #d4ebff;}#sk-container-id-4 div.sk-serial::before {content: \"\";position: absolute;border-left: 1px solid gray;box-sizing: border-box;top: 0;bottom: 0;left: 50%;z-index: 0;}#sk-container-id-4 div.sk-serial {display: flex;flex-direction: column;align-items: center;background-color: white;padding-right: 0.2em;padding-left: 0.2em;position: relative;}#sk-container-id-4 div.sk-item {position: relative;z-index: 1;}#sk-container-id-4 div.sk-parallel {display: flex;align-items: stretch;justify-content: center;background-color: white;position: relative;}#sk-container-id-4 div.sk-item::before, #sk-container-id-4 div.sk-parallel-item::before {content: \"\";position: absolute;border-left: 1px solid gray;box-sizing: border-box;top: 0;bottom: 0;left: 50%;z-index: -1;}#sk-container-id-4 div.sk-parallel-item {display: flex;flex-direction: column;z-index: 1;position: relative;background-color: white;}#sk-container-id-4 div.sk-parallel-item:first-child::after {align-self: flex-end;width: 50%;}#sk-container-id-4 div.sk-parallel-item:last-child::after {align-self: flex-start;width: 50%;}#sk-container-id-4 div.sk-parallel-item:only-child::after {width: 0;}#sk-container-id-4 div.sk-dashed-wrapped {border: 1px dashed gray;margin: 0 0.4em 0.5em 0.4em;box-sizing: border-box;padding-bottom: 0.4em;background-color: white;}#sk-container-id-4 div.sk-label label {font-family: monospace;font-weight: bold;display: inline-block;line-height: 1.2em;}#sk-container-id-4 div.sk-label-container {text-align: center;}#sk-container-id-4 div.sk-container {/* jupyter's `normalize.less` sets `[hidden] { display: none; }` but bootstrap.min.css set `[hidden] { display: none !important; }` so we also need the `!important` here to be able to override the default hidden behavior on the sphinx rendered scikit-learn.org. See: https://github.com/scikit-learn/scikit-learn/issues/21755 */display: inline-block !important;position: relative;}#sk-container-id-4 div.sk-text-repr-fallback {display: none;}</style><div id=\"sk-container-id-4\" class=\"sk-top-container\"><div class=\"sk-text-repr-fallback\"><pre>LogisticRegression(max_iter=1000, random_state=101)</pre><b>In a Jupyter environment, please rerun this cell to show the HTML representation or trust the notebook. <br />On GitHub, the HTML representation is unable to render, please try loading this page with nbviewer.org.</b></div><div class=\"sk-container\" hidden><div class=\"sk-item\"><div class=\"sk-estimator sk-toggleable\"><input class=\"sk-toggleable__control sk-hidden--visually\" id=\"sk-estimator-id-4\" type=\"checkbox\" checked><label for=\"sk-estimator-id-4\" class=\"sk-toggleable__label sk-toggleable__label-arrow\">LogisticRegression</label><div class=\"sk-toggleable__content\"><pre>LogisticRegression(max_iter=1000, random_state=101)</pre></div></div></div></div></div>"
      ],
      "text/plain": [
       "LogisticRegression(max_iter=1000, random_state=101)"
      ]
     },
     "execution_count": 85,
     "metadata": {},
     "output_type": "execute_result"
    }
   ],
   "source": [
    "loaded_model"
   ]
  },
  {
   "cell_type": "code",
   "execution_count": 86,
   "id": "d7591ed2-318b-4179-8513-a2f5739afb11",
   "metadata": {
    "tags": []
   },
   "outputs": [],
   "source": [
    "# Do prediction\n",
    "y_pred = loaded_model.predict(X_val_ready)"
   ]
  },
  {
   "cell_type": "code",
   "execution_count": 87,
   "id": "7553c334-9b30-4167-98f8-1ce69e29558a",
   "metadata": {
    "tags": []
   },
   "outputs": [],
   "source": [
    "# y_pred"
   ]
  },
  {
   "cell_type": "code",
   "execution_count": 88,
   "id": "7acb219b-2a62-424f-bf45-9ee02f74d55e",
   "metadata": {
    "tags": []
   },
   "outputs": [],
   "source": [
    "# len(y_pred)"
   ]
  },
  {
   "cell_type": "code",
   "execution_count": 89,
   "id": "305e960a-11e5-4504-b9c7-d46f99cd7a65",
   "metadata": {
    "tags": []
   },
   "outputs": [],
   "source": [
    "# np.unique(y_pred, return_counts=True)"
   ]
  },
  {
   "cell_type": "code",
   "execution_count": null,
   "id": "71de3a87-124d-457f-8ac8-482e2881c88b",
   "metadata": {},
   "outputs": [],
   "source": []
  }
 ],
 "metadata": {
  "kernelspec": {
   "display_name": "Python 3 (ipykernel)",
   "language": "python",
   "name": "python3"
  },
  "language_info": {
   "codemirror_mode": {
    "name": "ipython",
    "version": 3
   },
   "file_extension": ".py",
   "mimetype": "text/x-python",
   "name": "python",
   "nbconvert_exporter": "python",
   "pygments_lexer": "ipython3",
   "version": "3.8.10"
  }
 },
 "nbformat": 4,
 "nbformat_minor": 5
}
