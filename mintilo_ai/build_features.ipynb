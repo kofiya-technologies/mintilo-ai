{
 "cells": [
  {
   "cell_type": "markdown",
   "id": "f486fb39-fcab-484f-8634-33fd1742ed52",
   "metadata": {},
   "source": [
    "# 1. Load data"
   ]
  },
  {
   "cell_type": "markdown",
   "id": "92b95590-7337-42dd-964e-cb233cff053d",
   "metadata": {},
   "source": [
    "## 1.1 Load main analysis table"
   ]
  },
  {
   "cell_type": "code",
   "execution_count": 1,
   "id": "003733d6-ad95-4149-8e4c-b177e7fd942c",
   "metadata": {
    "tags": []
   },
   "outputs": [],
   "source": [
    "# Import library\n",
    "import pandas as pd\n",
    "\n",
    "# Suppress SettingWithCopyWarning\n",
    "pd.options.mode.chained_assignment = None"
   ]
  },
  {
   "cell_type": "code",
   "execution_count": 2,
   "id": "36917713-b426-44ae-956e-43781ee23907",
   "metadata": {
    "tags": []
   },
   "outputs": [],
   "source": [
    "# Load main analysis table\n",
    "filepath_data = r'D:\\PycharmProjects\\mintilo-ai\\data\\dhs-table-kr-bitew2020-ml-paper.csv'\n",
    "\n",
    "with open(filepath_data, 'rb') as fp:\n",
    "    data = pd.read_csv(fp)"
   ]
  },
  {
   "cell_type": "code",
   "execution_count": 3,
   "id": "8220bc0e-c0bf-44af-bc30-6f1808b9a153",
   "metadata": {
    "tags": []
   },
   "outputs": [
    {
     "data": {
      "text/plain": [
       "(10641, 25)"
      ]
     },
     "execution_count": 3,
     "metadata": {},
     "output_type": "execute_result"
    }
   ],
   "source": [
    "# Check data\n",
    "data.shape"
   ]
  },
  {
   "cell_type": "code",
   "execution_count": 4,
   "id": "a2f6f695-7973-472a-9959-51a18471b74d",
   "metadata": {
    "tags": []
   },
   "outputs": [
    {
     "data": {
      "text/html": [
       "<div>\n",
       "<style scoped>\n",
       "    .dataframe tbody tr th:only-of-type {\n",
       "        vertical-align: middle;\n",
       "    }\n",
       "\n",
       "    .dataframe tbody tr th {\n",
       "        vertical-align: top;\n",
       "    }\n",
       "\n",
       "    .dataframe thead th {\n",
       "        text-align: right;\n",
       "    }\n",
       "</style>\n",
       "<table border=\"1\" class=\"dataframe\">\n",
       "  <thead>\n",
       "    <tr style=\"text-align: right;\">\n",
       "      <th></th>\n",
       "      <th>B7</th>\n",
       "      <th>B8</th>\n",
       "      <th>B13</th>\n",
       "      <th>B19</th>\n",
       "      <th>HW1</th>\n",
       "      <th>B4</th>\n",
       "      <th>BORD</th>\n",
       "      <th>V212</th>\n",
       "      <th>V012</th>\n",
       "      <th>V025</th>\n",
       "      <th>...</th>\n",
       "      <th>M15</th>\n",
       "      <th>M17</th>\n",
       "      <th>V312</th>\n",
       "      <th>V225</th>\n",
       "      <th>M14</th>\n",
       "      <th>M70</th>\n",
       "      <th>V024</th>\n",
       "      <th>V445</th>\n",
       "      <th>V426</th>\n",
       "      <th>V136</th>\n",
       "    </tr>\n",
       "  </thead>\n",
       "  <tbody>\n",
       "    <tr>\n",
       "      <th>0</th>\n",
       "      <td>NaN</td>\n",
       "      <td>2.0</td>\n",
       "      <td>NaN</td>\n",
       "      <td>31</td>\n",
       "      <td>31.0</td>\n",
       "      <td>1</td>\n",
       "      <td>8</td>\n",
       "      <td>15</td>\n",
       "      <td>38</td>\n",
       "      <td>2</td>\n",
       "      <td>...</td>\n",
       "      <td>11</td>\n",
       "      <td>0</td>\n",
       "      <td>0</td>\n",
       "      <td>NaN</td>\n",
       "      <td>0.0</td>\n",
       "      <td>0.0</td>\n",
       "      <td>4</td>\n",
       "      <td>1765</td>\n",
       "      <td>102.0</td>\n",
       "      <td>11</td>\n",
       "    </tr>\n",
       "    <tr>\n",
       "      <th>1</th>\n",
       "      <td>NaN</td>\n",
       "      <td>3.0</td>\n",
       "      <td>NaN</td>\n",
       "      <td>44</td>\n",
       "      <td>44.0</td>\n",
       "      <td>1</td>\n",
       "      <td>7</td>\n",
       "      <td>15</td>\n",
       "      <td>38</td>\n",
       "      <td>2</td>\n",
       "      <td>...</td>\n",
       "      <td>11</td>\n",
       "      <td>0</td>\n",
       "      <td>0</td>\n",
       "      <td>NaN</td>\n",
       "      <td>NaN</td>\n",
       "      <td>NaN</td>\n",
       "      <td>4</td>\n",
       "      <td>1765</td>\n",
       "      <td>102.0</td>\n",
       "      <td>11</td>\n",
       "    </tr>\n",
       "    <tr>\n",
       "      <th>2</th>\n",
       "      <td>NaN</td>\n",
       "      <td>4.0</td>\n",
       "      <td>NaN</td>\n",
       "      <td>55</td>\n",
       "      <td>55.0</td>\n",
       "      <td>2</td>\n",
       "      <td>6</td>\n",
       "      <td>15</td>\n",
       "      <td>38</td>\n",
       "      <td>2</td>\n",
       "      <td>...</td>\n",
       "      <td>11</td>\n",
       "      <td>0</td>\n",
       "      <td>0</td>\n",
       "      <td>NaN</td>\n",
       "      <td>NaN</td>\n",
       "      <td>NaN</td>\n",
       "      <td>4</td>\n",
       "      <td>1765</td>\n",
       "      <td>102.0</td>\n",
       "      <td>11</td>\n",
       "    </tr>\n",
       "    <tr>\n",
       "      <th>3</th>\n",
       "      <td>0.0</td>\n",
       "      <td>NaN</td>\n",
       "      <td>0.0</td>\n",
       "      <td>45</td>\n",
       "      <td>NaN</td>\n",
       "      <td>1</td>\n",
       "      <td>8</td>\n",
       "      <td>24</td>\n",
       "      <td>42</td>\n",
       "      <td>2</td>\n",
       "      <td>...</td>\n",
       "      <td>11</td>\n",
       "      <td>0</td>\n",
       "      <td>0</td>\n",
       "      <td>NaN</td>\n",
       "      <td>0.0</td>\n",
       "      <td>0.0</td>\n",
       "      <td>4</td>\n",
       "      <td>2372</td>\n",
       "      <td>101.0</td>\n",
       "      <td>8</td>\n",
       "    </tr>\n",
       "    <tr>\n",
       "      <th>4</th>\n",
       "      <td>NaN</td>\n",
       "      <td>3.0</td>\n",
       "      <td>NaN</td>\n",
       "      <td>44</td>\n",
       "      <td>44.0</td>\n",
       "      <td>1</td>\n",
       "      <td>12</td>\n",
       "      <td>21</td>\n",
       "      <td>46</td>\n",
       "      <td>2</td>\n",
       "      <td>...</td>\n",
       "      <td>11</td>\n",
       "      <td>0</td>\n",
       "      <td>0</td>\n",
       "      <td>NaN</td>\n",
       "      <td>0.0</td>\n",
       "      <td>0.0</td>\n",
       "      <td>4</td>\n",
       "      <td>1913</td>\n",
       "      <td>0.0</td>\n",
       "      <td>11</td>\n",
       "    </tr>\n",
       "  </tbody>\n",
       "</table>\n",
       "<p>5 rows × 25 columns</p>\n",
       "</div>"
      ],
      "text/plain": [
       "    B7   B8  B13  B19   HW1  B4  BORD  V212  V012  V025  ...  M15  M17  V312  \\\n",
       "0  NaN  2.0  NaN   31  31.0   1     8    15    38     2  ...   11    0     0   \n",
       "1  NaN  3.0  NaN   44  44.0   1     7    15    38     2  ...   11    0     0   \n",
       "2  NaN  4.0  NaN   55  55.0   2     6    15    38     2  ...   11    0     0   \n",
       "3  0.0  NaN  0.0   45   NaN   1     8    24    42     2  ...   11    0     0   \n",
       "4  NaN  3.0  NaN   44  44.0   1    12    21    46     2  ...   11    0     0   \n",
       "\n",
       "   V225  M14  M70  V024  V445   V426  V136  \n",
       "0   NaN  0.0  0.0     4  1765  102.0    11  \n",
       "1   NaN  NaN  NaN     4  1765  102.0    11  \n",
       "2   NaN  NaN  NaN     4  1765  102.0    11  \n",
       "3   NaN  0.0  0.0     4  2372  101.0     8  \n",
       "4   NaN  0.0  0.0     4  1913    0.0    11  \n",
       "\n",
       "[5 rows x 25 columns]"
      ]
     },
     "execution_count": 4,
     "metadata": {},
     "output_type": "execute_result"
    }
   ],
   "source": [
    "data.head()"
   ]
  },
  {
   "cell_type": "markdown",
   "id": "686a75c6-b298-4f6a-9413-55441def729d",
   "metadata": {},
   "source": [
    "## 1.2 Load schema definition table"
   ]
  },
  {
   "cell_type": "code",
   "execution_count": 5,
   "id": "2a7acd0a-a759-468f-9b46-66056eb43205",
   "metadata": {
    "tags": []
   },
   "outputs": [],
   "source": [
    "# Load schema definition table\n",
    "filepath_data = r'D:\\PycharmProjects\\mintilo-ai\\mintilo_ai\\schema_definition.csv'\n",
    "\n",
    "with open(filepath_data, 'rb') as fp:\n",
    "    schema_definition = pd.read_csv(fp)"
   ]
  },
  {
   "cell_type": "code",
   "execution_count": 6,
   "id": "4d083f11-cf6e-4a55-a419-3fa6e14317b7",
   "metadata": {
    "tags": []
   },
   "outputs": [
    {
     "data": {
      "text/plain": [
       "(20, 4)"
      ]
     },
     "execution_count": 6,
     "metadata": {},
     "output_type": "execute_result"
    }
   ],
   "source": [
    "# Check data\n",
    "schema_definition.shape"
   ]
  },
  {
   "cell_type": "code",
   "execution_count": 7,
   "id": "91e06202-a749-496c-a350-31c3bf2a0978",
   "metadata": {
    "tags": []
   },
   "outputs": [
    {
     "data": {
      "text/html": [
       "<div>\n",
       "<style scoped>\n",
       "    .dataframe tbody tr th:only-of-type {\n",
       "        vertical-align: middle;\n",
       "    }\n",
       "\n",
       "    .dataframe tbody tr th {\n",
       "        vertical-align: top;\n",
       "    }\n",
       "\n",
       "    .dataframe thead th {\n",
       "        text-align: right;\n",
       "    }\n",
       "</style>\n",
       "<table border=\"1\" class=\"dataframe\">\n",
       "  <thead>\n",
       "    <tr style=\"text-align: right;\">\n",
       "      <th></th>\n",
       "      <th>VariableName</th>\n",
       "      <th>VariableCode</th>\n",
       "      <th>VariableType</th>\n",
       "      <th>Query</th>\n",
       "    </tr>\n",
       "  </thead>\n",
       "  <tbody>\n",
       "    <tr>\n",
       "      <th>0</th>\n",
       "      <td>HasChildDiedU5</td>\n",
       "      <td>B7, B8, B13, B19, HW1</td>\n",
       "      <td>label</td>\n",
       "      <td>select * from \".\\ET_2016_DHS_07082021_1932_581...</td>\n",
       "    </tr>\n",
       "    <tr>\n",
       "      <th>1</th>\n",
       "      <td>ChildSex</td>\n",
       "      <td>B4</td>\n",
       "      <td>feature_categorical</td>\n",
       "      <td>select * from \".\\ET_2016_DHS_07082021_1932_581...</td>\n",
       "    </tr>\n",
       "    <tr>\n",
       "      <th>2</th>\n",
       "      <td>BirthOrder</td>\n",
       "      <td>BORD</td>\n",
       "      <td>feature_numeric</td>\n",
       "      <td>select * from \".\\ET_2016_DHS_07082021_1932_581...</td>\n",
       "    </tr>\n",
       "    <tr>\n",
       "      <th>3</th>\n",
       "      <td>MotherAgeAtFirstBirth</td>\n",
       "      <td>V212</td>\n",
       "      <td>feature_numeric</td>\n",
       "      <td>select * from \".\\ET_2016_DHS_07082021_1932_581...</td>\n",
       "    </tr>\n",
       "    <tr>\n",
       "      <th>4</th>\n",
       "      <td>AgeOfMother</td>\n",
       "      <td>V012</td>\n",
       "      <td>feature_numeric</td>\n",
       "      <td>select * from \".\\ET_2016_DHS_07082021_1932_581...</td>\n",
       "    </tr>\n",
       "  </tbody>\n",
       "</table>\n",
       "</div>"
      ],
      "text/plain": [
       "            VariableName           VariableCode         VariableType  \\\n",
       "0         HasChildDiedU5  B7, B8, B13, B19, HW1                label   \n",
       "1               ChildSex                     B4  feature_categorical   \n",
       "2             BirthOrder                   BORD      feature_numeric   \n",
       "3  MotherAgeAtFirstBirth                   V212      feature_numeric   \n",
       "4            AgeOfMother                   V012      feature_numeric   \n",
       "\n",
       "                                               Query  \n",
       "0  select * from \".\\ET_2016_DHS_07082021_1932_581...  \n",
       "1  select * from \".\\ET_2016_DHS_07082021_1932_581...  \n",
       "2  select * from \".\\ET_2016_DHS_07082021_1932_581...  \n",
       "3  select * from \".\\ET_2016_DHS_07082021_1932_581...  \n",
       "4  select * from \".\\ET_2016_DHS_07082021_1932_581...  "
      ]
     },
     "execution_count": 7,
     "metadata": {},
     "output_type": "execute_result"
    }
   ],
   "source": [
    "schema_definition.head()"
   ]
  },
  {
   "cell_type": "markdown",
   "id": "a6b9754f-0968-4f07-ac43-750692c297d8",
   "metadata": {},
   "source": [
    "## 1.3 Load metadata table for variable value"
   ]
  },
  {
   "cell_type": "code",
   "execution_count": 8,
   "id": "da750616-14c8-4520-8e05-f9038d544bfb",
   "metadata": {
    "tags": []
   },
   "outputs": [],
   "source": [
    "# Load metadata table for variable value\n",
    "filepath_data = r'D:\\PycharmProjects\\mintilo-ai\\mintilo_ai\\dhs-metadata-variable-value-kr-bitew2020-ml-paper.csv'\n",
    "\n",
    "with open(filepath_data, 'rb') as fp:\n",
    "    metadata_variable_value = pd.read_csv(fp)"
   ]
  },
  {
   "cell_type": "code",
   "execution_count": 9,
   "id": "a99f1ece-990f-461c-86fb-090c9a096c04",
   "metadata": {
    "tags": []
   },
   "outputs": [
    {
     "data": {
      "text/plain": [
       "(6646, 5)"
      ]
     },
     "execution_count": 9,
     "metadata": {},
     "output_type": "execute_result"
    }
   ],
   "source": [
    "# Check data\n",
    "metadata_variable_value.shape"
   ]
  },
  {
   "cell_type": "code",
   "execution_count": 10,
   "id": "c2b012fa-e03b-4b65-9b45-eff02dc15469",
   "metadata": {
    "tags": []
   },
   "outputs": [
    {
     "data": {
      "text/html": [
       "<div>\n",
       "<style scoped>\n",
       "    .dataframe tbody tr th:only-of-type {\n",
       "        vertical-align: middle;\n",
       "    }\n",
       "\n",
       "    .dataframe tbody tr th {\n",
       "        vertical-align: top;\n",
       "    }\n",
       "\n",
       "    .dataframe thead th {\n",
       "        text-align: right;\n",
       "    }\n",
       "</style>\n",
       "<table border=\"1\" class=\"dataframe\">\n",
       "  <thead>\n",
       "    <tr style=\"text-align: right;\">\n",
       "      <th></th>\n",
       "      <th>FileCode</th>\n",
       "      <th>Name</th>\n",
       "      <th>Value</th>\n",
       "      <th>ValueDesc</th>\n",
       "      <th>ValueType</th>\n",
       "    </tr>\n",
       "  </thead>\n",
       "  <tbody>\n",
       "    <tr>\n",
       "      <th>0</th>\n",
       "      <td>ET_2016_DHS_07082021_1932_58107.ETKR71FL</td>\n",
       "      <td>V012</td>\n",
       "      <td>'  '</td>\n",
       "      <td>Not applicable</td>\n",
       "      <td>ExplicitValue</td>\n",
       "    </tr>\n",
       "    <tr>\n",
       "      <th>1</th>\n",
       "      <td>ET_2016_DHS_07082021_1932_58107.ETKR71FL</td>\n",
       "      <td>V012</td>\n",
       "      <td>15</td>\n",
       "      <td>NaN</td>\n",
       "      <td>ExpandedRange</td>\n",
       "    </tr>\n",
       "    <tr>\n",
       "      <th>2</th>\n",
       "      <td>ET_2016_DHS_07082021_1932_58107.ETKR71FL</td>\n",
       "      <td>V012</td>\n",
       "      <td>16</td>\n",
       "      <td>NaN</td>\n",
       "      <td>ExpandedRange</td>\n",
       "    </tr>\n",
       "    <tr>\n",
       "      <th>3</th>\n",
       "      <td>ET_2016_DHS_07082021_1932_58107.ETKR71FL</td>\n",
       "      <td>V012</td>\n",
       "      <td>17</td>\n",
       "      <td>NaN</td>\n",
       "      <td>ExpandedRange</td>\n",
       "    </tr>\n",
       "    <tr>\n",
       "      <th>4</th>\n",
       "      <td>ET_2016_DHS_07082021_1932_58107.ETKR71FL</td>\n",
       "      <td>V012</td>\n",
       "      <td>18</td>\n",
       "      <td>NaN</td>\n",
       "      <td>ExpandedRange</td>\n",
       "    </tr>\n",
       "  </tbody>\n",
       "</table>\n",
       "</div>"
      ],
      "text/plain": [
       "                                   FileCode  Name Value       ValueDesc  \\\n",
       "0  ET_2016_DHS_07082021_1932_58107.ETKR71FL  V012  '  '  Not applicable   \n",
       "1  ET_2016_DHS_07082021_1932_58107.ETKR71FL  V012    15             NaN   \n",
       "2  ET_2016_DHS_07082021_1932_58107.ETKR71FL  V012    16             NaN   \n",
       "3  ET_2016_DHS_07082021_1932_58107.ETKR71FL  V012    17             NaN   \n",
       "4  ET_2016_DHS_07082021_1932_58107.ETKR71FL  V012    18             NaN   \n",
       "\n",
       "       ValueType  \n",
       "0  ExplicitValue  \n",
       "1  ExpandedRange  \n",
       "2  ExpandedRange  \n",
       "3  ExpandedRange  \n",
       "4  ExpandedRange  "
      ]
     },
     "execution_count": 10,
     "metadata": {},
     "output_type": "execute_result"
    }
   ],
   "source": [
    "metadata_variable_value.head()"
   ]
  },
  {
   "cell_type": "markdown",
   "id": "6fea4132-176b-4d51-b62c-575005069c1c",
   "metadata": {},
   "source": [
    "## 1.4 Load metadata table for variable name"
   ]
  },
  {
   "cell_type": "code",
   "execution_count": 11,
   "id": "13ef37f9-5c7e-433b-af7d-d8258413f5ca",
   "metadata": {
    "tags": []
   },
   "outputs": [],
   "source": [
    "# Load metadata table for variable value\n",
    "filepath_data = r'D:\\PycharmProjects\\mintilo-ai\\mintilo_ai\\dhs-metadata-variable-name-kr-bitew2020-ml-paper.csv'\n",
    "\n",
    "with open(filepath_data, 'rb') as fp:\n",
    "    metadata_variable_name = pd.read_csv(fp)"
   ]
  },
  {
   "cell_type": "code",
   "execution_count": 12,
   "id": "fce83bc1-380a-4c90-bfd0-2a6b2340d679",
   "metadata": {
    "tags": []
   },
   "outputs": [
    {
     "data": {
      "text/plain": [
       "(25, 19)"
      ]
     },
     "execution_count": 12,
     "metadata": {},
     "output_type": "execute_result"
    }
   ],
   "source": [
    "metadata_variable_name.shape"
   ]
  },
  {
   "cell_type": "code",
   "execution_count": 13,
   "id": "e0912cbb-0b29-41fb-a507-2b84d77b3fe8",
   "metadata": {
    "tags": []
   },
   "outputs": [
    {
     "data": {
      "text/html": [
       "<div>\n",
       "<style scoped>\n",
       "    .dataframe tbody tr th:only-of-type {\n",
       "        vertical-align: middle;\n",
       "    }\n",
       "\n",
       "    .dataframe tbody tr th {\n",
       "        vertical-align: top;\n",
       "    }\n",
       "\n",
       "    .dataframe thead th {\n",
       "        text-align: right;\n",
       "    }\n",
       "</style>\n",
       "<table border=\"1\" class=\"dataframe\">\n",
       "  <thead>\n",
       "    <tr style=\"text-align: right;\">\n",
       "      <th></th>\n",
       "      <th>ItemType</th>\n",
       "      <th>FileCode</th>\n",
       "      <th>RecordName</th>\n",
       "      <th>RecordTypeValue</th>\n",
       "      <th>RecordLabel</th>\n",
       "      <th>Name</th>\n",
       "      <th>Label</th>\n",
       "      <th>Start</th>\n",
       "      <th>Len</th>\n",
       "      <th>Occurrences</th>\n",
       "      <th>ZeroFill</th>\n",
       "      <th>DecimalChar</th>\n",
       "      <th>Decimal</th>\n",
       "      <th>FMETYPE</th>\n",
       "      <th>FMETYPE.1</th>\n",
       "      <th>FMETYPE.2</th>\n",
       "      <th>FMETYPE.3</th>\n",
       "      <th>FMETYPE.4</th>\n",
       "      <th>FMETYPE.5</th>\n",
       "    </tr>\n",
       "  </thead>\n",
       "  <tbody>\n",
       "    <tr>\n",
       "      <th>0</th>\n",
       "      <td>Item</td>\n",
       "      <td>ET_2016_DHS_07082021_1932_58107_MINI.ETKR71FL</td>\n",
       "      <td>RECORD1</td>\n",
       "      <td>NaN</td>\n",
       "      <td>RECORD1</td>\n",
       "      <td>V012</td>\n",
       "      <td>Respondent's current age</td>\n",
       "      <td>72</td>\n",
       "      <td>2</td>\n",
       "      <td>NaN</td>\n",
       "      <td>No</td>\n",
       "      <td>No</td>\n",
       "      <td>NaN</td>\n",
       "      <td>fme_char(2)</td>\n",
       "      <td>fme_char(2)</td>\n",
       "      <td>fme_char(2)</td>\n",
       "      <td>fme_char(2)</td>\n",
       "      <td>fme_char(2)</td>\n",
       "      <td>fme_char(2)</td>\n",
       "    </tr>\n",
       "    <tr>\n",
       "      <th>1</th>\n",
       "      <td>Item</td>\n",
       "      <td>ET_2016_DHS_07082021_1932_58107_MINI.ETKR71FL</td>\n",
       "      <td>RECORD1</td>\n",
       "      <td>NaN</td>\n",
       "      <td>RECORD1</td>\n",
       "      <td>V024</td>\n",
       "      <td>Region</td>\n",
       "      <td>99</td>\n",
       "      <td>2</td>\n",
       "      <td>NaN</td>\n",
       "      <td>No</td>\n",
       "      <td>No</td>\n",
       "      <td>NaN</td>\n",
       "      <td>fme_char(2)</td>\n",
       "      <td>fme_char(2)</td>\n",
       "      <td>fme_char(2)</td>\n",
       "      <td>fme_char(2)</td>\n",
       "      <td>fme_char(2)</td>\n",
       "      <td>fme_char(2)</td>\n",
       "    </tr>\n",
       "    <tr>\n",
       "      <th>2</th>\n",
       "      <td>Item</td>\n",
       "      <td>ET_2016_DHS_07082021_1932_58107_MINI.ETKR71FL</td>\n",
       "      <td>RECORD1</td>\n",
       "      <td>NaN</td>\n",
       "      <td>RECORD1</td>\n",
       "      <td>V025</td>\n",
       "      <td>Type of place of residence</td>\n",
       "      <td>101</td>\n",
       "      <td>1</td>\n",
       "      <td>NaN</td>\n",
       "      <td>No</td>\n",
       "      <td>No</td>\n",
       "      <td>NaN</td>\n",
       "      <td>fme_char(1)</td>\n",
       "      <td>fme_char(1)</td>\n",
       "      <td>fme_char(1)</td>\n",
       "      <td>fme_char(1)</td>\n",
       "      <td>fme_char(1)</td>\n",
       "      <td>fme_char(1)</td>\n",
       "    </tr>\n",
       "    <tr>\n",
       "      <th>3</th>\n",
       "      <td>Item</td>\n",
       "      <td>ET_2016_DHS_07082021_1932_58107_MINI.ETKR71FL</td>\n",
       "      <td>RECORD1</td>\n",
       "      <td>NaN</td>\n",
       "      <td>RECORD1</td>\n",
       "      <td>V106</td>\n",
       "      <td>Highest educational level</td>\n",
       "      <td>152</td>\n",
       "      <td>1</td>\n",
       "      <td>NaN</td>\n",
       "      <td>No</td>\n",
       "      <td>No</td>\n",
       "      <td>NaN</td>\n",
       "      <td>fme_char(1)</td>\n",
       "      <td>fme_char(1)</td>\n",
       "      <td>fme_char(1)</td>\n",
       "      <td>fme_char(1)</td>\n",
       "      <td>fme_char(1)</td>\n",
       "      <td>fme_char(1)</td>\n",
       "    </tr>\n",
       "    <tr>\n",
       "      <th>4</th>\n",
       "      <td>Item</td>\n",
       "      <td>ET_2016_DHS_07082021_1932_58107_MINI.ETKR71FL</td>\n",
       "      <td>RECORD1</td>\n",
       "      <td>NaN</td>\n",
       "      <td>RECORD1</td>\n",
       "      <td>V113</td>\n",
       "      <td>Source of drinking water</td>\n",
       "      <td>155</td>\n",
       "      <td>2</td>\n",
       "      <td>NaN</td>\n",
       "      <td>No</td>\n",
       "      <td>No</td>\n",
       "      <td>NaN</td>\n",
       "      <td>fme_char(2)</td>\n",
       "      <td>fme_char(2)</td>\n",
       "      <td>fme_char(2)</td>\n",
       "      <td>fme_char(2)</td>\n",
       "      <td>fme_char(2)</td>\n",
       "      <td>fme_char(2)</td>\n",
       "    </tr>\n",
       "  </tbody>\n",
       "</table>\n",
       "</div>"
      ],
      "text/plain": [
       "  ItemType                                       FileCode RecordName  \\\n",
       "0     Item  ET_2016_DHS_07082021_1932_58107_MINI.ETKR71FL    RECORD1   \n",
       "1     Item  ET_2016_DHS_07082021_1932_58107_MINI.ETKR71FL    RECORD1   \n",
       "2     Item  ET_2016_DHS_07082021_1932_58107_MINI.ETKR71FL    RECORD1   \n",
       "3     Item  ET_2016_DHS_07082021_1932_58107_MINI.ETKR71FL    RECORD1   \n",
       "4     Item  ET_2016_DHS_07082021_1932_58107_MINI.ETKR71FL    RECORD1   \n",
       "\n",
       "   RecordTypeValue RecordLabel  Name                       Label  Start  Len  \\\n",
       "0              NaN     RECORD1  V012    Respondent's current age     72    2   \n",
       "1              NaN     RECORD1  V024                      Region     99    2   \n",
       "2              NaN     RECORD1  V025  Type of place of residence    101    1   \n",
       "3              NaN     RECORD1  V106   Highest educational level    152    1   \n",
       "4              NaN     RECORD1  V113    Source of drinking water    155    2   \n",
       "\n",
       "   Occurrences ZeroFill DecimalChar  Decimal      FMETYPE    FMETYPE.1  \\\n",
       "0          NaN       No          No      NaN  fme_char(2)  fme_char(2)   \n",
       "1          NaN       No          No      NaN  fme_char(2)  fme_char(2)   \n",
       "2          NaN       No          No      NaN  fme_char(1)  fme_char(1)   \n",
       "3          NaN       No          No      NaN  fme_char(1)  fme_char(1)   \n",
       "4          NaN       No          No      NaN  fme_char(2)  fme_char(2)   \n",
       "\n",
       "     FMETYPE.2    FMETYPE.3    FMETYPE.4    FMETYPE.5  \n",
       "0  fme_char(2)  fme_char(2)  fme_char(2)  fme_char(2)  \n",
       "1  fme_char(2)  fme_char(2)  fme_char(2)  fme_char(2)  \n",
       "2  fme_char(1)  fme_char(1)  fme_char(1)  fme_char(1)  \n",
       "3  fme_char(1)  fme_char(1)  fme_char(1)  fme_char(1)  \n",
       "4  fme_char(2)  fme_char(2)  fme_char(2)  fme_char(2)  "
      ]
     },
     "execution_count": 13,
     "metadata": {},
     "output_type": "execute_result"
    }
   ],
   "source": [
    "metadata_variable_name.head()"
   ]
  },
  {
   "cell_type": "markdown",
   "id": "d99b65b7-8c31-49b0-ac69-f72303773727",
   "metadata": {},
   "source": [
    "# 2. Derive target / label variable"
   ]
  },
  {
   "cell_type": "code",
   "execution_count": 14,
   "id": "3c541469-4a64-416f-934b-6de124b9a044",
   "metadata": {
    "tags": []
   },
   "outputs": [
    {
     "data": {
      "text/html": [
       "<div>\n",
       "<style scoped>\n",
       "    .dataframe tbody tr th:only-of-type {\n",
       "        vertical-align: middle;\n",
       "    }\n",
       "\n",
       "    .dataframe tbody tr th {\n",
       "        vertical-align: top;\n",
       "    }\n",
       "\n",
       "    .dataframe thead th {\n",
       "        text-align: right;\n",
       "    }\n",
       "</style>\n",
       "<table border=\"1\" class=\"dataframe\">\n",
       "  <thead>\n",
       "    <tr style=\"text-align: right;\">\n",
       "      <th></th>\n",
       "      <th>VariableName</th>\n",
       "      <th>VariableCode</th>\n",
       "      <th>VariableType</th>\n",
       "      <th>Query</th>\n",
       "    </tr>\n",
       "  </thead>\n",
       "  <tbody>\n",
       "  </tbody>\n",
       "</table>\n",
       "</div>"
      ],
      "text/plain": [
       "Empty DataFrame\n",
       "Columns: [VariableName, VariableCode, VariableType, Query]\n",
       "Index: []"
      ]
     },
     "execution_count": 14,
     "metadata": {},
     "output_type": "execute_result"
    }
   ],
   "source": [
    "# Get columns of interest for deriving label variable\n",
    "schema_definition[schema_definition['VariableName'] == 'IsChildDeadAlive']"
   ]
  },
  {
   "cell_type": "code",
   "execution_count": 15,
   "id": "e2258eff-8544-47cd-8b5e-6b1412d0e892",
   "metadata": {
    "tags": []
   },
   "outputs": [
    {
     "data": {
      "text/html": [
       "<div>\n",
       "<style scoped>\n",
       "    .dataframe tbody tr th:only-of-type {\n",
       "        vertical-align: middle;\n",
       "    }\n",
       "\n",
       "    .dataframe tbody tr th {\n",
       "        vertical-align: top;\n",
       "    }\n",
       "\n",
       "    .dataframe thead th {\n",
       "        text-align: right;\n",
       "    }\n",
       "</style>\n",
       "<table border=\"1\" class=\"dataframe\">\n",
       "  <thead>\n",
       "    <tr style=\"text-align: right;\">\n",
       "      <th></th>\n",
       "      <th>B7</th>\n",
       "      <th>B13</th>\n",
       "      <th>B19</th>\n",
       "      <th>HW1</th>\n",
       "    </tr>\n",
       "  </thead>\n",
       "  <tbody>\n",
       "    <tr>\n",
       "      <th>0</th>\n",
       "      <td>NaN</td>\n",
       "      <td>NaN</td>\n",
       "      <td>31</td>\n",
       "      <td>31.0</td>\n",
       "    </tr>\n",
       "    <tr>\n",
       "      <th>1</th>\n",
       "      <td>NaN</td>\n",
       "      <td>NaN</td>\n",
       "      <td>44</td>\n",
       "      <td>44.0</td>\n",
       "    </tr>\n",
       "    <tr>\n",
       "      <th>2</th>\n",
       "      <td>NaN</td>\n",
       "      <td>NaN</td>\n",
       "      <td>55</td>\n",
       "      <td>55.0</td>\n",
       "    </tr>\n",
       "    <tr>\n",
       "      <th>3</th>\n",
       "      <td>0.0</td>\n",
       "      <td>0.0</td>\n",
       "      <td>45</td>\n",
       "      <td>NaN</td>\n",
       "    </tr>\n",
       "    <tr>\n",
       "      <th>4</th>\n",
       "      <td>NaN</td>\n",
       "      <td>NaN</td>\n",
       "      <td>44</td>\n",
       "      <td>44.0</td>\n",
       "    </tr>\n",
       "  </tbody>\n",
       "</table>\n",
       "</div>"
      ],
      "text/plain": [
       "    B7  B13  B19   HW1\n",
       "0  NaN  NaN   31  31.0\n",
       "1  NaN  NaN   44  44.0\n",
       "2  NaN  NaN   55  55.0\n",
       "3  0.0  0.0   45   NaN\n",
       "4  NaN  NaN   44  44.0"
      ]
     },
     "execution_count": 15,
     "metadata": {},
     "output_type": "execute_result"
    }
   ],
   "source": [
    "# Select variable of interest\n",
    "col_of_interest = ['B7', 'B13', 'B19', 'HW1']\n",
    "\n",
    "label_df = data[col_of_interest]\n",
    "\n",
    "label_df.head()"
   ]
  },
  {
   "cell_type": "code",
   "execution_count": 16,
   "id": "60d840b6-6f43-4b6c-a604-c5311470b8fb",
   "metadata": {
    "tags": []
   },
   "outputs": [
    {
     "data": {
      "text/html": [
       "<div>\n",
       "<style scoped>\n",
       "    .dataframe tbody tr th:only-of-type {\n",
       "        vertical-align: middle;\n",
       "    }\n",
       "\n",
       "    .dataframe tbody tr th {\n",
       "        vertical-align: top;\n",
       "    }\n",
       "\n",
       "    .dataframe thead th {\n",
       "        text-align: right;\n",
       "    }\n",
       "</style>\n",
       "<table border=\"1\" class=\"dataframe\">\n",
       "  <thead>\n",
       "    <tr style=\"text-align: right;\">\n",
       "      <th></th>\n",
       "      <th>ItemType</th>\n",
       "      <th>FileCode</th>\n",
       "      <th>RecordName</th>\n",
       "      <th>RecordTypeValue</th>\n",
       "      <th>RecordLabel</th>\n",
       "      <th>Name</th>\n",
       "      <th>Label</th>\n",
       "      <th>Start</th>\n",
       "      <th>Len</th>\n",
       "      <th>Occurrences</th>\n",
       "      <th>ZeroFill</th>\n",
       "      <th>DecimalChar</th>\n",
       "      <th>Decimal</th>\n",
       "      <th>FMETYPE</th>\n",
       "      <th>FMETYPE.1</th>\n",
       "      <th>FMETYPE.2</th>\n",
       "      <th>FMETYPE.3</th>\n",
       "      <th>FMETYPE.4</th>\n",
       "      <th>FMETYPE.5</th>\n",
       "    </tr>\n",
       "  </thead>\n",
       "  <tbody>\n",
       "    <tr>\n",
       "      <th>16</th>\n",
       "      <td>Item</td>\n",
       "      <td>ET_2016_DHS_07082021_1932_58107_MINI.ETKR71FL</td>\n",
       "      <td>RECORD1</td>\n",
       "      <td>NaN</td>\n",
       "      <td>RECORD1</td>\n",
       "      <td>B7</td>\n",
       "      <td>Age at death (months, imputed)</td>\n",
       "      <td>871</td>\n",
       "      <td>3</td>\n",
       "      <td>NaN</td>\n",
       "      <td>No</td>\n",
       "      <td>No</td>\n",
       "      <td>NaN</td>\n",
       "      <td>fme_char(3)</td>\n",
       "      <td>fme_char(3)</td>\n",
       "      <td>fme_char(3)</td>\n",
       "      <td>fme_char(3)</td>\n",
       "      <td>fme_char(3)</td>\n",
       "      <td>fme_char(3)</td>\n",
       "    </tr>\n",
       "    <tr>\n",
       "      <th>18</th>\n",
       "      <td>Item</td>\n",
       "      <td>ET_2016_DHS_07082021_1932_58107_MINI.ETKR71FL</td>\n",
       "      <td>RECORD1</td>\n",
       "      <td>NaN</td>\n",
       "      <td>RECORD1</td>\n",
       "      <td>B13</td>\n",
       "      <td>Flag for age at death</td>\n",
       "      <td>884</td>\n",
       "      <td>1</td>\n",
       "      <td>NaN</td>\n",
       "      <td>No</td>\n",
       "      <td>No</td>\n",
       "      <td>NaN</td>\n",
       "      <td>fme_char(1)</td>\n",
       "      <td>fme_char(1)</td>\n",
       "      <td>fme_char(1)</td>\n",
       "      <td>fme_char(1)</td>\n",
       "      <td>fme_char(1)</td>\n",
       "      <td>fme_char(1)</td>\n",
       "    </tr>\n",
       "    <tr>\n",
       "      <th>19</th>\n",
       "      <td>Item</td>\n",
       "      <td>ET_2016_DHS_07082021_1932_58107_MINI.ETKR71FL</td>\n",
       "      <td>RECORD1</td>\n",
       "      <td>NaN</td>\n",
       "      <td>RECORD1</td>\n",
       "      <td>B19</td>\n",
       "      <td>Current age of child in months</td>\n",
       "      <td>895</td>\n",
       "      <td>3</td>\n",
       "      <td>NaN</td>\n",
       "      <td>No</td>\n",
       "      <td>No</td>\n",
       "      <td>NaN</td>\n",
       "      <td>fme_char(3)</td>\n",
       "      <td>fme_char(3)</td>\n",
       "      <td>fme_char(3)</td>\n",
       "      <td>fme_char(3)</td>\n",
       "      <td>fme_char(3)</td>\n",
       "      <td>fme_char(3)</td>\n",
       "    </tr>\n",
       "    <tr>\n",
       "      <th>24</th>\n",
       "      <td>Item</td>\n",
       "      <td>ET_2016_DHS_07082021_1932_58107_MINI.ETKR71FL</td>\n",
       "      <td>RECORD1</td>\n",
       "      <td>NaN</td>\n",
       "      <td>RECORD1</td>\n",
       "      <td>HW1</td>\n",
       "      <td>Child's age in months</td>\n",
       "      <td>1511</td>\n",
       "      <td>2</td>\n",
       "      <td>NaN</td>\n",
       "      <td>No</td>\n",
       "      <td>No</td>\n",
       "      <td>NaN</td>\n",
       "      <td>fme_char(2)</td>\n",
       "      <td>fme_char(2)</td>\n",
       "      <td>fme_char(2)</td>\n",
       "      <td>fme_char(2)</td>\n",
       "      <td>fme_char(2)</td>\n",
       "      <td>fme_char(2)</td>\n",
       "    </tr>\n",
       "  </tbody>\n",
       "</table>\n",
       "</div>"
      ],
      "text/plain": [
       "   ItemType                                       FileCode RecordName  \\\n",
       "16     Item  ET_2016_DHS_07082021_1932_58107_MINI.ETKR71FL    RECORD1   \n",
       "18     Item  ET_2016_DHS_07082021_1932_58107_MINI.ETKR71FL    RECORD1   \n",
       "19     Item  ET_2016_DHS_07082021_1932_58107_MINI.ETKR71FL    RECORD1   \n",
       "24     Item  ET_2016_DHS_07082021_1932_58107_MINI.ETKR71FL    RECORD1   \n",
       "\n",
       "    RecordTypeValue RecordLabel Name                           Label  Start  \\\n",
       "16              NaN     RECORD1   B7  Age at death (months, imputed)    871   \n",
       "18              NaN     RECORD1  B13           Flag for age at death    884   \n",
       "19              NaN     RECORD1  B19  Current age of child in months    895   \n",
       "24              NaN     RECORD1  HW1           Child's age in months   1511   \n",
       "\n",
       "    Len  Occurrences ZeroFill DecimalChar  Decimal      FMETYPE    FMETYPE.1  \\\n",
       "16    3          NaN       No          No      NaN  fme_char(3)  fme_char(3)   \n",
       "18    1          NaN       No          No      NaN  fme_char(1)  fme_char(1)   \n",
       "19    3          NaN       No          No      NaN  fme_char(3)  fme_char(3)   \n",
       "24    2          NaN       No          No      NaN  fme_char(2)  fme_char(2)   \n",
       "\n",
       "      FMETYPE.2    FMETYPE.3    FMETYPE.4    FMETYPE.5  \n",
       "16  fme_char(3)  fme_char(3)  fme_char(3)  fme_char(3)  \n",
       "18  fme_char(1)  fme_char(1)  fme_char(1)  fme_char(1)  \n",
       "19  fme_char(3)  fme_char(3)  fme_char(3)  fme_char(3)  \n",
       "24  fme_char(2)  fme_char(2)  fme_char(2)  fme_char(2)  "
      ]
     },
     "execution_count": 16,
     "metadata": {},
     "output_type": "execute_result"
    }
   ],
   "source": [
    "# Check variable names from metadata table\n",
    "metadata_variable_name[metadata_variable_name['Name'].isin(col_of_interest)]"
   ]
  },
  {
   "cell_type": "code",
   "execution_count": 17,
   "id": "6ddb5b08-9346-46f3-a2f4-1b6ead858971",
   "metadata": {
    "tags": []
   },
   "outputs": [
    {
     "data": {
      "text/plain": [
       "B7     10006\n",
       "B13    10006\n",
       "B19        0\n",
       "HW1      945\n",
       "dtype: int64"
      ]
     },
     "execution_count": 17,
     "metadata": {},
     "output_type": "execute_result"
    }
   ],
   "source": [
    "# Explore column of interest variables\n",
    "label_df.isnull().sum()"
   ]
  },
  {
   "cell_type": "markdown",
   "id": "e1a47dcc-4266-42e1-827f-106bb7ed134a",
   "metadata": {},
   "source": [
    "## 2.1 Display distribution of child age"
   ]
  },
  {
   "cell_type": "code",
   "execution_count": 18,
   "id": "d79591eb-eb90-432e-b61f-9aa8a5af0a98",
   "metadata": {
    "tags": []
   },
   "outputs": [],
   "source": [
    "# Import library\n",
    "import matplotlib.pyplot as plt\n",
    "\n",
    "plt.rcParams['figure.figsize'] = (10, 5)"
   ]
  },
  {
   "cell_type": "code",
   "execution_count": 19,
   "id": "d194f771-bd9d-4da3-ba5b-52d0c2b8dc00",
   "metadata": {
    "tags": []
   },
   "outputs": [
    {
     "data": {
      "text/plain": [
       "<matplotlib.legend.Legend at 0x26806ecac40>"
      ]
     },
     "execution_count": 19,
     "metadata": {},
     "output_type": "execute_result"
    },
    {
     "data": {
      "image/png": "[encoded data removed]",
      "text/plain": [
       "<Figure size 1000x500 with 1 Axes>"
      ]
     },
     "metadata": {},
     "output_type": "display_data"
    }
   ],
   "source": [
    "# Distribution of child age\n",
    "label_df['B7'].hist(bins=50, label='B7 (Age at death)')\n",
    "\n",
    "plt.legend()"
   ]
  },
  {
   "cell_type": "code",
   "execution_count": 20,
   "id": "05167616-e8bb-4201-b81f-3f5406e06836",
   "metadata": {
    "tags": []
   },
   "outputs": [
    {
     "data": {
      "text/plain": [
       "<matplotlib.legend.Legend at 0x2680a2b0670>"
      ]
     },
     "execution_count": 20,
     "metadata": {},
     "output_type": "execute_result"
    },
    {
     "data": {
      "image/png": "[encoded data removed]",
      "text/plain": [
       "<Figure size 1000x500 with 1 Axes>"
      ]
     },
     "metadata": {},
     "output_type": "display_data"
    }
   ],
   "source": [
    "# Distribution of child age\n",
    "label_df['HW1'].hist(bins=50, label='HW1 (Child age in months)')\n",
    "\n",
    "plt.legend()"
   ]
  },
  {
   "cell_type": "markdown",
   "id": "46078ea4-4a5d-4352-a006-d84620163d38",
   "metadata": {},
   "source": [
    "## 2.2 Derive label using B19 and B13 variables"
   ]
  },
  {
   "cell_type": "code",
   "execution_count": 21,
   "id": "0b31fb94-116e-4c99-b531-e50bac6908bb",
   "metadata": {
    "tags": []
   },
   "outputs": [
    {
     "data": {
      "text/plain": [
       "NaN    10006\n",
       "0.0      634\n",
       "4.0        1\n",
       "Name: B13, dtype: int64"
      ]
     },
     "execution_count": 21,
     "metadata": {},
     "output_type": "execute_result"
    }
   ],
   "source": [
    "# Check what values does B13 (Flag for age at death) takes\n",
    "label_df['B13'].value_counts(dropna=False)"
   ]
  },
  {
   "cell_type": "code",
   "execution_count": 22,
   "id": "2de0f2ed-0ccb-4d2a-8417-b798594adc63",
   "metadata": {
    "tags": []
   },
   "outputs": [
    {
     "data": {
      "text/html": [
       "<div>\n",
       "<style scoped>\n",
       "    .dataframe tbody tr th:only-of-type {\n",
       "        vertical-align: middle;\n",
       "    }\n",
       "\n",
       "    .dataframe tbody tr th {\n",
       "        vertical-align: top;\n",
       "    }\n",
       "\n",
       "    .dataframe thead th {\n",
       "        text-align: right;\n",
       "    }\n",
       "</style>\n",
       "<table border=\"1\" class=\"dataframe\">\n",
       "  <thead>\n",
       "    <tr style=\"text-align: right;\">\n",
       "      <th></th>\n",
       "      <th>FileCode</th>\n",
       "      <th>Name</th>\n",
       "      <th>Value</th>\n",
       "      <th>ValueDesc</th>\n",
       "      <th>ValueType</th>\n",
       "    </tr>\n",
       "  </thead>\n",
       "  <tbody>\n",
       "    <tr>\n",
       "      <th>6565</th>\n",
       "      <td>ET_2016_DHS_07082021_1932_58107.ETKR71FL</td>\n",
       "      <td>B13</td>\n",
       "      <td>0</td>\n",
       "      <td>No flag</td>\n",
       "      <td>ExplicitValue</td>\n",
       "    </tr>\n",
       "    <tr>\n",
       "      <th>6566</th>\n",
       "      <td>ET_2016_DHS_07082021_1932_58107.ETKR71FL</td>\n",
       "      <td>B13</td>\n",
       "      <td>1</td>\n",
       "      <td>&gt; interview</td>\n",
       "      <td>ExplicitValue</td>\n",
       "    </tr>\n",
       "    <tr>\n",
       "      <th>6567</th>\n",
       "      <td>ET_2016_DHS_07082021_1932_58107.ETKR71FL</td>\n",
       "      <td>B13</td>\n",
       "      <td>2</td>\n",
       "      <td>&lt; breastfeeding</td>\n",
       "      <td>ExplicitValue</td>\n",
       "    </tr>\n",
       "    <tr>\n",
       "      <th>6568</th>\n",
       "      <td>ET_2016_DHS_07082021_1932_58107.ETKR71FL</td>\n",
       "      <td>B13</td>\n",
       "      <td>3</td>\n",
       "      <td>&lt; age supplemented</td>\n",
       "      <td>ExplicitValue</td>\n",
       "    </tr>\n",
       "    <tr>\n",
       "      <th>6569</th>\n",
       "      <td>ET_2016_DHS_07082021_1932_58107.ETKR71FL</td>\n",
       "      <td>B13</td>\n",
       "      <td>4</td>\n",
       "      <td>&lt; first breastfed</td>\n",
       "      <td>ExplicitValue</td>\n",
       "    </tr>\n",
       "    <tr>\n",
       "      <th>6570</th>\n",
       "      <td>ET_2016_DHS_07082021_1932_58107.ETKR71FL</td>\n",
       "      <td>B13</td>\n",
       "      <td>5</td>\n",
       "      <td>&lt; last vaccination</td>\n",
       "      <td>ExplicitValue</td>\n",
       "    </tr>\n",
       "    <tr>\n",
       "      <th>6571</th>\n",
       "      <td>ET_2016_DHS_07082021_1932_58107.ETKR71FL</td>\n",
       "      <td>B13</td>\n",
       "      <td>6</td>\n",
       "      <td>Outside range</td>\n",
       "      <td>ExplicitValue</td>\n",
       "    </tr>\n",
       "    <tr>\n",
       "      <th>6572</th>\n",
       "      <td>ET_2016_DHS_07082021_1932_58107.ETKR71FL</td>\n",
       "      <td>B13</td>\n",
       "      <td>7</td>\n",
       "      <td>Imputed, units given</td>\n",
       "      <td>ExplicitValue</td>\n",
       "    </tr>\n",
       "    <tr>\n",
       "      <th>6573</th>\n",
       "      <td>ET_2016_DHS_07082021_1932_58107.ETKR71FL</td>\n",
       "      <td>B13</td>\n",
       "      <td>8</td>\n",
       "      <td>Imputed, no units</td>\n",
       "      <td>ExplicitValue</td>\n",
       "    </tr>\n",
       "    <tr>\n",
       "      <th>6574</th>\n",
       "      <td>ET_2016_DHS_07082021_1932_58107.ETKR71FL</td>\n",
       "      <td>B13</td>\n",
       "      <td>' '</td>\n",
       "      <td>Not applicable</td>\n",
       "      <td>ExplicitValue</td>\n",
       "    </tr>\n",
       "  </tbody>\n",
       "</table>\n",
       "</div>"
      ],
      "text/plain": [
       "                                      FileCode Name Value  \\\n",
       "6565  ET_2016_DHS_07082021_1932_58107.ETKR71FL  B13     0   \n",
       "6566  ET_2016_DHS_07082021_1932_58107.ETKR71FL  B13     1   \n",
       "6567  ET_2016_DHS_07082021_1932_58107.ETKR71FL  B13     2   \n",
       "6568  ET_2016_DHS_07082021_1932_58107.ETKR71FL  B13     3   \n",
       "6569  ET_2016_DHS_07082021_1932_58107.ETKR71FL  B13     4   \n",
       "6570  ET_2016_DHS_07082021_1932_58107.ETKR71FL  B13     5   \n",
       "6571  ET_2016_DHS_07082021_1932_58107.ETKR71FL  B13     6   \n",
       "6572  ET_2016_DHS_07082021_1932_58107.ETKR71FL  B13     7   \n",
       "6573  ET_2016_DHS_07082021_1932_58107.ETKR71FL  B13     8   \n",
       "6574  ET_2016_DHS_07082021_1932_58107.ETKR71FL  B13   ' '   \n",
       "\n",
       "                 ValueDesc      ValueType  \n",
       "6565               No flag  ExplicitValue  \n",
       "6566           > interview  ExplicitValue  \n",
       "6567       < breastfeeding  ExplicitValue  \n",
       "6568    < age supplemented  ExplicitValue  \n",
       "6569     < first breastfed  ExplicitValue  \n",
       "6570    < last vaccination  ExplicitValue  \n",
       "6571         Outside range  ExplicitValue  \n",
       "6572  Imputed, units given  ExplicitValue  \n",
       "6573     Imputed, no units  ExplicitValue  \n",
       "6574        Not applicable  ExplicitValue  "
      ]
     },
     "execution_count": 22,
     "metadata": {},
     "output_type": "execute_result"
    }
   ],
   "source": [
    "# Check B13 in the metadata variable value table\n",
    "metadata_variable_value[metadata_variable_value['Name'] == 'B13']"
   ]
  },
  {
   "cell_type": "code",
   "execution_count": 23,
   "id": "b9c6036a-b932-4420-b251-bce9f3775507",
   "metadata": {
    "tags": []
   },
   "outputs": [],
   "source": [
    "# Derive Child age\n",
    "import numpy as np\n",
    "\n",
    "label_df['ChildAgeInMonthsDerived'] = np.where(label_df['B13'].isnull(), \n",
    "                                               label_df['B19'], label_df['B7'])"
   ]
  },
  {
   "cell_type": "code",
   "execution_count": 24,
   "id": "09423603-f407-42bd-8ef7-11f85df10727",
   "metadata": {
    "tags": []
   },
   "outputs": [
    {
     "data": {
      "text/plain": [
       "B13                        10006\n",
       "B7                         10006\n",
       "B19                            0\n",
       "ChildAgeInMonthsDerived        0\n",
       "dtype: int64"
      ]
     },
     "execution_count": 24,
     "metadata": {},
     "output_type": "execute_result"
    }
   ],
   "source": [
    "# Sanity checks --> NumberOfMissing in ChildAgeInMonthsDerived \n",
    "# 10808+814 = 11622\n",
    "# 1174 - 814 = 360\n",
    "label_df[['B13', 'B7', 'B19', 'ChildAgeInMonthsDerived']].isnull().sum()"
   ]
  },
  {
   "cell_type": "code",
   "execution_count": 25,
   "id": "6dde3662-c6e4-43e7-be5b-dd2517441e01",
   "metadata": {
    "tags": []
   },
   "outputs": [],
   "source": [
    "# Derive main target variable\n",
    "label_df['HasChildDiedU5'] = np.where(label_df['B13'].isnull(), 0, \n",
    "                                      np.where(label_df['B13'].notnull() & (label_df['ChildAgeInMonthsDerived'] <= 60), \n",
    "                                               1, np.NaN))"
   ]
  },
  {
   "cell_type": "code",
   "execution_count": 26,
   "id": "751fd37a-084b-424c-8a3b-120097564c28",
   "metadata": {
    "tags": []
   },
   "outputs": [
    {
     "data": {
      "text/plain": [
       "0.0    10006\n",
       "1.0      635\n",
       "Name: HasChildDiedU5, dtype: int64"
      ]
     },
     "execution_count": 26,
     "metadata": {},
     "output_type": "execute_result"
    }
   ],
   "source": [
    "# Check newly derived target variable\n",
    "# NumberOfAlive = 10,006\n",
    "# NumberOfDied = 635\n",
    "label_df['HasChildDiedU5'].value_counts(dropna=False)"
   ]
  },
  {
   "cell_type": "code",
   "execution_count": 27,
   "id": "a2698c9d-04a4-4a07-9e6b-ce2d301e1594",
   "metadata": {
    "tags": []
   },
   "outputs": [
    {
     "data": {
      "text/html": [
       "<div>\n",
       "<style scoped>\n",
       "    .dataframe tbody tr th:only-of-type {\n",
       "        vertical-align: middle;\n",
       "    }\n",
       "\n",
       "    .dataframe tbody tr th {\n",
       "        vertical-align: top;\n",
       "    }\n",
       "\n",
       "    .dataframe thead th {\n",
       "        text-align: right;\n",
       "    }\n",
       "</style>\n",
       "<table border=\"1\" class=\"dataframe\">\n",
       "  <thead>\n",
       "    <tr style=\"text-align: right;\">\n",
       "      <th></th>\n",
       "      <th>B7</th>\n",
       "      <th>B13</th>\n",
       "      <th>B19</th>\n",
       "      <th>HW1</th>\n",
       "      <th>ChildAgeInMonthsDerived</th>\n",
       "      <th>HasChildDiedU5</th>\n",
       "    </tr>\n",
       "  </thead>\n",
       "  <tbody>\n",
       "    <tr>\n",
       "      <th>0</th>\n",
       "      <td>NaN</td>\n",
       "      <td>NaN</td>\n",
       "      <td>31</td>\n",
       "      <td>31.0</td>\n",
       "      <td>31.0</td>\n",
       "      <td>0.0</td>\n",
       "    </tr>\n",
       "    <tr>\n",
       "      <th>1</th>\n",
       "      <td>NaN</td>\n",
       "      <td>NaN</td>\n",
       "      <td>44</td>\n",
       "      <td>44.0</td>\n",
       "      <td>44.0</td>\n",
       "      <td>0.0</td>\n",
       "    </tr>\n",
       "    <tr>\n",
       "      <th>2</th>\n",
       "      <td>NaN</td>\n",
       "      <td>NaN</td>\n",
       "      <td>55</td>\n",
       "      <td>55.0</td>\n",
       "      <td>55.0</td>\n",
       "      <td>0.0</td>\n",
       "    </tr>\n",
       "    <tr>\n",
       "      <th>3</th>\n",
       "      <td>0.0</td>\n",
       "      <td>0.0</td>\n",
       "      <td>45</td>\n",
       "      <td>NaN</td>\n",
       "      <td>0.0</td>\n",
       "      <td>1.0</td>\n",
       "    </tr>\n",
       "    <tr>\n",
       "      <th>4</th>\n",
       "      <td>NaN</td>\n",
       "      <td>NaN</td>\n",
       "      <td>44</td>\n",
       "      <td>44.0</td>\n",
       "      <td>44.0</td>\n",
       "      <td>0.0</td>\n",
       "    </tr>\n",
       "  </tbody>\n",
       "</table>\n",
       "</div>"
      ],
      "text/plain": [
       "    B7  B13  B19   HW1  ChildAgeInMonthsDerived  HasChildDiedU5\n",
       "0  NaN  NaN   31  31.0                     31.0             0.0\n",
       "1  NaN  NaN   44  44.0                     44.0             0.0\n",
       "2  NaN  NaN   55  55.0                     55.0             0.0\n",
       "3  0.0  0.0   45   NaN                      0.0             1.0\n",
       "4  NaN  NaN   44  44.0                     44.0             0.0"
      ]
     },
     "execution_count": 27,
     "metadata": {},
     "output_type": "execute_result"
    }
   ],
   "source": [
    "label_df.head()"
   ]
  },
  {
   "cell_type": "code",
   "execution_count": 28,
   "id": "cc336530-0034-4a8e-bf48-4658696b4fa3",
   "metadata": {
    "tags": []
   },
   "outputs": [
    {
     "data": {
      "text/plain": [
       "<matplotlib.legend.Legend at 0x2680a2b0250>"
      ]
     },
     "execution_count": 28,
     "metadata": {},
     "output_type": "execute_result"
    },
    {
     "data": {
      "image/png": "[encoded data removed]",
      "text/plain": [
       "<Figure size 1000x500 with 1 Axes>"
      ]
     },
     "metadata": {},
     "output_type": "display_data"
    }
   ],
   "source": [
    "# Distribution of mortality rate by age\n",
    "label_df.loc[label_df['HasChildDiedU5'] == 1, 'ChildAgeInMonthsDerived'].hist(bins=50, label='Died')\n",
    "label_df.loc[label_df['HasChildDiedU5'] == 0, 'ChildAgeInMonthsDerived'].hist(bins=50, label='Alive', alpha=0.5)\n",
    "\n",
    "plt.legend()"
   ]
  },
  {
   "cell_type": "markdown",
   "id": "2eb35b9f-e835-4999-8026-9450ba90a3f9",
   "metadata": {},
   "source": [
    "# 3. Clean and Recode categorical features"
   ]
  },
  {
   "cell_type": "code",
   "execution_count": 29,
   "id": "32267cb2-f942-4f88-bb4a-86b24cde426c",
   "metadata": {
    "tags": []
   },
   "outputs": [
    {
     "data": {
      "text/html": [
       "<div>\n",
       "<style scoped>\n",
       "    .dataframe tbody tr th:only-of-type {\n",
       "        vertical-align: middle;\n",
       "    }\n",
       "\n",
       "    .dataframe tbody tr th {\n",
       "        vertical-align: top;\n",
       "    }\n",
       "\n",
       "    .dataframe thead th {\n",
       "        text-align: right;\n",
       "    }\n",
       "</style>\n",
       "<table border=\"1\" class=\"dataframe\">\n",
       "  <thead>\n",
       "    <tr style=\"text-align: right;\">\n",
       "      <th></th>\n",
       "      <th>VariableName</th>\n",
       "      <th>VariableCode</th>\n",
       "      <th>VariableType</th>\n",
       "      <th>Query</th>\n",
       "    </tr>\n",
       "  </thead>\n",
       "  <tbody>\n",
       "    <tr>\n",
       "      <th>1</th>\n",
       "      <td>ChildSex</td>\n",
       "      <td>B4</td>\n",
       "      <td>feature_categorical</td>\n",
       "      <td>select * from \".\\ET_2016_DHS_07082021_1932_581...</td>\n",
       "    </tr>\n",
       "    <tr>\n",
       "      <th>5</th>\n",
       "      <td>Residence</td>\n",
       "      <td>V025</td>\n",
       "      <td>feature_categorical</td>\n",
       "      <td>select * from \".\\ET_2016_DHS_07082021_1932_581...</td>\n",
       "    </tr>\n",
       "    <tr>\n",
       "      <th>6</th>\n",
       "      <td>Education</td>\n",
       "      <td>V106</td>\n",
       "      <td>feature_categorical</td>\n",
       "      <td>select * from \".\\ET_2016_DHS_07082021_1932_581...</td>\n",
       "    </tr>\n",
       "    <tr>\n",
       "      <th>7</th>\n",
       "      <td>WealthIndex</td>\n",
       "      <td>V190</td>\n",
       "      <td>feature_categorical</td>\n",
       "      <td>select * from \".\\ET_2016_DHS_07082021_1932_581...</td>\n",
       "    </tr>\n",
       "    <tr>\n",
       "      <th>8</th>\n",
       "      <td>WaterSource</td>\n",
       "      <td>V113</td>\n",
       "      <td>feature_categorical</td>\n",
       "      <td>select * from \".\\ET_2016_DHS_07082021_1932_581...</td>\n",
       "    </tr>\n",
       "    <tr>\n",
       "      <th>10</th>\n",
       "      <td>ToiletFacility</td>\n",
       "      <td>V116</td>\n",
       "      <td>feature_categorical</td>\n",
       "      <td>select * from \".\\ET_2016_DHS_07082021_1932_581...</td>\n",
       "    </tr>\n",
       "    <tr>\n",
       "      <th>11</th>\n",
       "      <td>PlaceOfDelivery</td>\n",
       "      <td>M15</td>\n",
       "      <td>feature_categorical</td>\n",
       "      <td>select * from \".\\ET_2016_DHS_07082021_1932_581...</td>\n",
       "    </tr>\n",
       "    <tr>\n",
       "      <th>12</th>\n",
       "      <td>DeliveryByCaesareanSection</td>\n",
       "      <td>M17</td>\n",
       "      <td>feature_categorical</td>\n",
       "      <td>select * from \".\\ET_2016_DHS_07082021_1932_581...</td>\n",
       "    </tr>\n",
       "    <tr>\n",
       "      <th>13</th>\n",
       "      <td>ContraceptiveUse</td>\n",
       "      <td>V312</td>\n",
       "      <td>feature_categorical</td>\n",
       "      <td>select * from \".\\ET_2016_DHS_07082021_1932_581...</td>\n",
       "    </tr>\n",
       "    <tr>\n",
       "      <th>14</th>\n",
       "      <td>ChildWanted</td>\n",
       "      <td>V225</td>\n",
       "      <td>feature_categorical</td>\n",
       "      <td>select * from \".\\ET_2016_DHS_07082021_1932_581...</td>\n",
       "    </tr>\n",
       "    <tr>\n",
       "      <th>16</th>\n",
       "      <td>PostnatalCareVisits</td>\n",
       "      <td>M70</td>\n",
       "      <td>feature_categorical</td>\n",
       "      <td>select * from \".\\ET_2016_DHS_07082021_1932_581...</td>\n",
       "    </tr>\n",
       "    <tr>\n",
       "      <th>17</th>\n",
       "      <td>Region</td>\n",
       "      <td>V024</td>\n",
       "      <td>feature_categorical</td>\n",
       "      <td>select * from \".\\ET_2016_DHS_07082021_1932_581...</td>\n",
       "    </tr>\n",
       "  </tbody>\n",
       "</table>\n",
       "</div>"
      ],
      "text/plain": [
       "                  VariableName VariableCode         VariableType  \\\n",
       "1                     ChildSex           B4  feature_categorical   \n",
       "5                    Residence         V025  feature_categorical   \n",
       "6                    Education         V106  feature_categorical   \n",
       "7                  WealthIndex         V190  feature_categorical   \n",
       "8                  WaterSource         V113  feature_categorical   \n",
       "10              ToiletFacility         V116  feature_categorical   \n",
       "11             PlaceOfDelivery          M15  feature_categorical   \n",
       "12  DeliveryByCaesareanSection          M17  feature_categorical   \n",
       "13            ContraceptiveUse         V312  feature_categorical   \n",
       "14                 ChildWanted         V225  feature_categorical   \n",
       "16         PostnatalCareVisits          M70  feature_categorical   \n",
       "17                      Region         V024  feature_categorical   \n",
       "\n",
       "                                                Query  \n",
       "1   select * from \".\\ET_2016_DHS_07082021_1932_581...  \n",
       "5   select * from \".\\ET_2016_DHS_07082021_1932_581...  \n",
       "6   select * from \".\\ET_2016_DHS_07082021_1932_581...  \n",
       "7   select * from \".\\ET_2016_DHS_07082021_1932_581...  \n",
       "8   select * from \".\\ET_2016_DHS_07082021_1932_581...  \n",
       "10  select * from \".\\ET_2016_DHS_07082021_1932_581...  \n",
       "11  select * from \".\\ET_2016_DHS_07082021_1932_581...  \n",
       "12  select * from \".\\ET_2016_DHS_07082021_1932_581...  \n",
       "13  select * from \".\\ET_2016_DHS_07082021_1932_581...  \n",
       "14  select * from \".\\ET_2016_DHS_07082021_1932_581...  \n",
       "16  select * from \".\\ET_2016_DHS_07082021_1932_581...  \n",
       "17  select * from \".\\ET_2016_DHS_07082021_1932_581...  "
      ]
     },
     "execution_count": 29,
     "metadata": {},
     "output_type": "execute_result"
    }
   ],
   "source": [
    "# Get schema definition for categorical features\n",
    "schema_definition_cat = schema_definition[schema_definition['VariableType'] == 'feature_categorical']\n",
    "schema_definition_cat"
   ]
  },
  {
   "cell_type": "code",
   "execution_count": 30,
   "id": "3ee4d6b0-1826-444b-b533-fde3219957a9",
   "metadata": {
    "tags": []
   },
   "outputs": [
    {
     "data": {
      "text/plain": [
       "['B4',\n",
       " 'V025',\n",
       " 'V106',\n",
       " 'V190',\n",
       " 'V113',\n",
       " 'V116',\n",
       " 'M15',\n",
       " 'M17',\n",
       " 'V312',\n",
       " 'V225',\n",
       " 'M70',\n",
       " 'V024']"
      ]
     },
     "execution_count": 30,
     "metadata": {},
     "output_type": "execute_result"
    }
   ],
   "source": [
    "# Get categorical features from schema definition table\n",
    "features_cat = schema_definition_cat['VariableCode'].to_list()\n",
    "features_cat"
   ]
  },
  {
   "cell_type": "code",
   "execution_count": 31,
   "id": "24ff93ce-f1b9-4e21-ad4a-db2ebacc5fd0",
   "metadata": {
    "tags": []
   },
   "outputs": [
    {
     "data": {
      "text/html": [
       "<div>\n",
       "<style scoped>\n",
       "    .dataframe tbody tr th:only-of-type {\n",
       "        vertical-align: middle;\n",
       "    }\n",
       "\n",
       "    .dataframe tbody tr th {\n",
       "        vertical-align: top;\n",
       "    }\n",
       "\n",
       "    .dataframe thead th {\n",
       "        text-align: right;\n",
       "    }\n",
       "</style>\n",
       "<table border=\"1\" class=\"dataframe\">\n",
       "  <thead>\n",
       "    <tr style=\"text-align: right;\">\n",
       "      <th></th>\n",
       "      <th>B4</th>\n",
       "      <th>V025</th>\n",
       "      <th>V106</th>\n",
       "      <th>V190</th>\n",
       "      <th>V113</th>\n",
       "      <th>V116</th>\n",
       "      <th>M15</th>\n",
       "      <th>M17</th>\n",
       "      <th>V312</th>\n",
       "      <th>V225</th>\n",
       "      <th>M70</th>\n",
       "      <th>V024</th>\n",
       "    </tr>\n",
       "  </thead>\n",
       "  <tbody>\n",
       "    <tr>\n",
       "      <th>0</th>\n",
       "      <td>1</td>\n",
       "      <td>2</td>\n",
       "      <td>0</td>\n",
       "      <td>2</td>\n",
       "      <td>41</td>\n",
       "      <td>31</td>\n",
       "      <td>11</td>\n",
       "      <td>0</td>\n",
       "      <td>0</td>\n",
       "      <td>NaN</td>\n",
       "      <td>0.0</td>\n",
       "      <td>4</td>\n",
       "    </tr>\n",
       "    <tr>\n",
       "      <th>1</th>\n",
       "      <td>1</td>\n",
       "      <td>2</td>\n",
       "      <td>0</td>\n",
       "      <td>2</td>\n",
       "      <td>41</td>\n",
       "      <td>31</td>\n",
       "      <td>11</td>\n",
       "      <td>0</td>\n",
       "      <td>0</td>\n",
       "      <td>NaN</td>\n",
       "      <td>NaN</td>\n",
       "      <td>4</td>\n",
       "    </tr>\n",
       "    <tr>\n",
       "      <th>2</th>\n",
       "      <td>2</td>\n",
       "      <td>2</td>\n",
       "      <td>0</td>\n",
       "      <td>2</td>\n",
       "      <td>41</td>\n",
       "      <td>31</td>\n",
       "      <td>11</td>\n",
       "      <td>0</td>\n",
       "      <td>0</td>\n",
       "      <td>NaN</td>\n",
       "      <td>NaN</td>\n",
       "      <td>4</td>\n",
       "    </tr>\n",
       "    <tr>\n",
       "      <th>3</th>\n",
       "      <td>1</td>\n",
       "      <td>2</td>\n",
       "      <td>1</td>\n",
       "      <td>2</td>\n",
       "      <td>14</td>\n",
       "      <td>23</td>\n",
       "      <td>11</td>\n",
       "      <td>0</td>\n",
       "      <td>0</td>\n",
       "      <td>NaN</td>\n",
       "      <td>0.0</td>\n",
       "      <td>4</td>\n",
       "    </tr>\n",
       "    <tr>\n",
       "      <th>4</th>\n",
       "      <td>1</td>\n",
       "      <td>2</td>\n",
       "      <td>0</td>\n",
       "      <td>2</td>\n",
       "      <td>41</td>\n",
       "      <td>22</td>\n",
       "      <td>11</td>\n",
       "      <td>0</td>\n",
       "      <td>0</td>\n",
       "      <td>NaN</td>\n",
       "      <td>0.0</td>\n",
       "      <td>4</td>\n",
       "    </tr>\n",
       "  </tbody>\n",
       "</table>\n",
       "</div>"
      ],
      "text/plain": [
       "   B4  V025  V106  V190  V113  V116  M15  M17  V312  V225  M70  V024\n",
       "0   1     2     0     2    41    31   11    0     0   NaN  0.0     4\n",
       "1   1     2     0     2    41    31   11    0     0   NaN  NaN     4\n",
       "2   2     2     0     2    41    31   11    0     0   NaN  NaN     4\n",
       "3   1     2     1     2    14    23   11    0     0   NaN  0.0     4\n",
       "4   1     2     0     2    41    22   11    0     0   NaN  0.0     4"
      ]
     },
     "execution_count": 31,
     "metadata": {},
     "output_type": "execute_result"
    }
   ],
   "source": [
    "# Get data with categorical features\n",
    "data_cat = data[features_cat]\n",
    "\n",
    "data_cat.head()"
   ]
  },
  {
   "cell_type": "code",
   "execution_count": 32,
   "id": "b82adc3f-fbc3-480f-9d80-1f5f1ca83679",
   "metadata": {
    "tags": []
   },
   "outputs": [
    {
     "data": {
      "text/plain": [
       "(10641, 12)"
      ]
     },
     "execution_count": 32,
     "metadata": {},
     "output_type": "execute_result"
    }
   ],
   "source": [
    "data_cat.shape"
   ]
  },
  {
   "cell_type": "code",
   "execution_count": 33,
   "id": "d22527eb-a0ab-4d68-9764-270d0afd8dbb",
   "metadata": {
    "tags": []
   },
   "outputs": [
    {
     "name": "stdout",
     "output_type": "stream",
     "text": [
      "\n",
      "INFO - Processing var=B4...\n",
      "\tPossible values: \n",
      "\t{1: 'Male', 2: 'Female'}\n",
      "\n",
      "INFO - Processing var=V025...\n",
      "\tPossible values: \n",
      "\t{1: 'Urban', 2: 'Rural'}\n",
      "\n",
      "INFO - Processing var=V106...\n",
      "\tPossible values: \n",
      "\t{0: 'No education', 1: 'Primary', 2: 'Secondary', 3: 'Higher', 9: 'Missing'}\n",
      "\n",
      "INFO - Processing var=V190...\n",
      "\tPossible values: \n",
      "\t{1: 'Poorest', 2: 'Poorer', 3: 'Middle', 4: 'Richer', 5: 'Richest'}\n",
      "\n",
      "INFO - Processing var=V113...\n",
      "\tPossible values: \n",
      "\t{10: 'PIPED WATER', 11: 'Piped into dwelling', 12: 'Piped to yard/plot', 13: 'Piped to neighbor', 14: 'Public tap/standpipe', 20: 'TUBE WELL WATER', 21: 'Tube well or borehole', 30: 'DUG WELL (OPEN/PROTECTED)', 31: 'Protected well', 32: 'Unprotected well', 40: 'SURFACE WATER', 41: 'Protected spring', 42: 'Unprotected spring', 43: 'River/dam/lake/ponds/stream/canal/irrigation channel', 51: 'Rainwater', 61: 'Tanker truck', 62: 'Cart with small tank', 71: 'Bottled water', 96: 'Other', 97: 'Not a dejure resident', 99: 'Missing'}\n",
      "\n",
      "INFO - Processing var=V116...\n",
      "\tPossible values: \n",
      "\t{10: 'FLUSH TOILET', 11: 'Flush to piped sewer system', 12: 'Flush to septic tank', 13: 'Flush to pit latrine', 14: 'Flush to somewhere else', 15: \"Flush, don't know where\", 20: 'PIT TOILET LATRINE', 21: 'Ventilated Improved Pit latrine (VIP)', 22: 'Pit latrine with slab', 23: 'Pit latrine without slab/open pit', 30: 'NO FACILITY', 31: 'No facility/bush/field', 41: 'Composting toilet', 42: 'Bucket toilet', 43: 'Hanging toilet/latrine', 96: 'Other', 97: 'Not a dejure resident', 99: 'Missing'}\n",
      "\n",
      "INFO - Processing var=M15...\n",
      "\tPossible values: \n",
      "\t{10: 'HOME', 11: \"Respondent's home\", 12: 'Other home', 20: 'PUBLIC SECTOR', 21: 'Government hospital', 22: 'Government health center', 23: 'Government health post', 26: 'Other public sector', 30: 'PRIVATE SECTOR', 31: 'Private hospital', 32: 'Private clinic', 36: 'Other private sector', 40: 'NGO', 41: 'NGO: health facility', 46: 'NGO: Other health facility', 96: 'Other', 99: 'Missing'}\n",
      "\n",
      "INFO - Processing var=M17...\n",
      "\tPossible values: \n",
      "\t{0: 'No', 1: 'Yes', 9: 'Missing'}\n",
      "\n",
      "INFO - Processing var=V312...\n",
      "\tPossible values: \n",
      "\t{0: 'Not using', 1: 'Pill', 2: 'IUD', 3: 'Injections', 4: 'Diaphragm', 5: 'Male condom', 6: 'Female sterilization', 7: 'Male sterilization', 8: 'Periodic abstinence', 9: 'Withdrawal', 10: 'Other traditional', 11: 'Implants/Norplant', 12: 'Prolonged abstinence', 13: 'Lactational amenorrhea (LAM)', 14: 'Female condom', 15: 'Foam or jelly', 16: 'Emergency contraception', 17: 'Other modern method', 18: 'Standard days method (SDM)', 19: 'Specific method 1', 20: 'Specific method 2', 99: 'Missing'}\n",
      "\n",
      "INFO - Processing var=V225...\n",
      "\tPossible values: \n",
      "\t{1: 'Then', 2: 'Later', 3: 'Not at all', 9: 'Missing'}\n",
      "\n",
      "INFO - Processing var=M70...\n",
      "\tPossible values: \n",
      "\t{0: 'No', 1: 'Yes', 8: \"Don't know\", 9: 'Missing'}\n",
      "\n",
      "INFO - Processing var=V024...\n",
      "\tPossible values: \n",
      "\t{1: 'Tigray', 2: 'Afar', 3: 'Amhara', 4: 'Oromia', 5: 'Somali', 6: 'Benishangul', 7: 'SNNPR', 8: 'Gambela', 9: 'Harari', 10: 'Addis Adaba', 11: 'Dire Dawa'}\n"
     ]
    }
   ],
   "source": [
    "############################################################################################################\n",
    "# Let's first check what values do categorical variables take!\n",
    "############################################################################################################\n",
    "for var in features_cat:\n",
    "    print(\"\\nINFO - Processing var={}...\".format(var))\n",
    "    \n",
    "    try:\n",
    "        # Get metadata data for selected variable\n",
    "        mtd = metadata_variable_value[metadata_variable_value['Name'] == var]\n",
    "        mtd = mtd[~mtd['ValueDesc'].isin(['Not applicable'])]\n",
    "        \n",
    "        # Get recoding values\n",
    "        mtd_dict = dict(zip(mtd['Value'].astype(int), mtd['ValueDesc']))\n",
    "        print(\"\\tPossible values: \\n\\t{}\".format(mtd_dict))\n",
    "    except Exception as err:\n",
    "        print(\"\\tERROR - Failed due to {}\".format(traceback.print_exc()))\n",
    "        \n",
    "        continue"
   ]
  },
  {
   "cell_type": "markdown",
   "id": "4cb7d679-f7c8-4cf4-ac49-a2e0ed6402f6",
   "metadata": {},
   "source": [
    "### FINDINGS\n",
    "\n",
    "* V106 - 9: 'Missing'\n",
    "* V113 - 97: 'Not a dejure resident', 99: 'Missing'\n",
    "* V116 - 97: 'Not a dejure resident', 99: 'Missing'\n",
    "* M15 - 99: 'Missing'\n",
    "* M17 - 9: 'Missing'\n",
    "* V312 - 99: 'Missing'\n",
    "* V225 - 9: 'Missing'\n",
    "* M70 - 9: 'Missing'"
   ]
  },
  {
   "cell_type": "code",
   "execution_count": 34,
   "id": "dfc9b7dd-5160-47da-95a8-7052e50af909",
   "metadata": {
    "tags": []
   },
   "outputs": [],
   "source": [
    "# Custom function to clean and recode categorical functions\n",
    "def recode_categorical_features(df, features_cat, metadata_variable_value_table):\n",
    "    df_out = df.copy()\n",
    "    \n",
    "    for var in features_cat:\n",
    "        print(\"Processing categorical variable = {}...\".format(var))\n",
    "        \n",
    "        try:\n",
    "            # Step 1. Get metadata value for selected variable\n",
    "            metadata_selected = metadata_variable_value_table[metadata_variable_value_table['Name'] == var]\n",
    "            metadata_selected = metadata_selected[~metadata_selected['ValueDesc'].isin(['Not applicable'])]\n",
    "            \n",
    "            # Step 2. Create a metadata dictionary for recoding\n",
    "            metadata_selected_dict = dict(zip(metadata_selected['Value'].astype(int), metadata_selected['ValueDesc']))\n",
    "            \n",
    "            # Step 3. Recode values to categorical using metadata dictionary\n",
    "            varname_lhs = ''.join([var, '_recoded'])\n",
    "            \n",
    "            df_out[varname_lhs] = df_out[var].map(metadata_selected_dict)\n",
    "            \n",
    "            # Step 4. Recoding \"Missing\", \"Not a dejure resident\" and \"Don't know\" values to a proper missing value (NONE) \n",
    "            df_out[varname_lhs] = np.where(df_out[varname_lhs].isin([\"Missing\", \"Not a dejure resident\", \"Don't know\"]),\n",
    "                                           None, df_out[varname_lhs])\n",
    "            \n",
    "            # Step 5. Drop the original variable after recoding\n",
    "            df_out.drop([var], axis='columns', inplace=True)\n",
    "        except Exception as err:\n",
    "            print(\"\\tERROR - Failed to process variable due to {}\".format(err))\n",
    "            \n",
    "            continue\n",
    "            \n",
    "    return df_out"
   ]
  },
  {
   "cell_type": "code",
   "execution_count": 35,
   "id": "9e2b3c02-2b95-4cb1-8437-c7fad856e5ff",
   "metadata": {
    "tags": []
   },
   "outputs": [
    {
     "name": "stdout",
     "output_type": "stream",
     "text": [
      "Processing categorical variable = B4...\n",
      "Processing categorical variable = V025...\n",
      "Processing categorical variable = V106...\n",
      "Processing categorical variable = V190...\n",
      "Processing categorical variable = V113...\n",
      "Processing categorical variable = V116...\n",
      "Processing categorical variable = M15...\n",
      "Processing categorical variable = M17...\n",
      "Processing categorical variable = V312...\n",
      "Processing categorical variable = V225...\n",
      "Processing categorical variable = M70...\n",
      "Processing categorical variable = V024...\n",
      "\n",
      "data (10641, 25)\n",
      "data_cat_prep1 (10641, 12)\n"
     ]
    }
   ],
   "source": [
    "# Clean and Recode categorical features\n",
    "data_cat_prep1 = recode_categorical_features(df=data_cat, \n",
    "                                             features_cat=features_cat, \n",
    "                                             metadata_variable_value_table=metadata_variable_value)\n",
    "\n",
    "# Sanity checks\n",
    "print('\\ndata', data.shape)\n",
    "print('data_cat_prep1', data_cat_prep1.shape)"
   ]
  },
  {
   "cell_type": "code",
   "execution_count": 36,
   "id": "1fe35a95-c745-4a08-b7af-1c9c754c1359",
   "metadata": {
    "tags": []
   },
   "outputs": [
    {
     "data": {
      "text/html": [
       "<div>\n",
       "<style scoped>\n",
       "    .dataframe tbody tr th:only-of-type {\n",
       "        vertical-align: middle;\n",
       "    }\n",
       "\n",
       "    .dataframe tbody tr th {\n",
       "        vertical-align: top;\n",
       "    }\n",
       "\n",
       "    .dataframe thead th {\n",
       "        text-align: right;\n",
       "    }\n",
       "</style>\n",
       "<table border=\"1\" class=\"dataframe\">\n",
       "  <thead>\n",
       "    <tr style=\"text-align: right;\">\n",
       "      <th></th>\n",
       "      <th>B4_recoded</th>\n",
       "      <th>V025_recoded</th>\n",
       "      <th>V106_recoded</th>\n",
       "      <th>V190_recoded</th>\n",
       "      <th>V113_recoded</th>\n",
       "      <th>V116_recoded</th>\n",
       "      <th>M15_recoded</th>\n",
       "      <th>M17_recoded</th>\n",
       "      <th>V312_recoded</th>\n",
       "      <th>V225_recoded</th>\n",
       "      <th>M70_recoded</th>\n",
       "      <th>V024_recoded</th>\n",
       "    </tr>\n",
       "  </thead>\n",
       "  <tbody>\n",
       "    <tr>\n",
       "      <th>0</th>\n",
       "      <td>Male</td>\n",
       "      <td>Rural</td>\n",
       "      <td>No education</td>\n",
       "      <td>Poorer</td>\n",
       "      <td>Protected spring</td>\n",
       "      <td>No facility/bush/field</td>\n",
       "      <td>Respondent's home</td>\n",
       "      <td>No</td>\n",
       "      <td>Not using</td>\n",
       "      <td>NaN</td>\n",
       "      <td>No</td>\n",
       "      <td>Oromia</td>\n",
       "    </tr>\n",
       "    <tr>\n",
       "      <th>1</th>\n",
       "      <td>Male</td>\n",
       "      <td>Rural</td>\n",
       "      <td>No education</td>\n",
       "      <td>Poorer</td>\n",
       "      <td>Protected spring</td>\n",
       "      <td>No facility/bush/field</td>\n",
       "      <td>Respondent's home</td>\n",
       "      <td>No</td>\n",
       "      <td>Not using</td>\n",
       "      <td>NaN</td>\n",
       "      <td>NaN</td>\n",
       "      <td>Oromia</td>\n",
       "    </tr>\n",
       "    <tr>\n",
       "      <th>2</th>\n",
       "      <td>Female</td>\n",
       "      <td>Rural</td>\n",
       "      <td>No education</td>\n",
       "      <td>Poorer</td>\n",
       "      <td>Protected spring</td>\n",
       "      <td>No facility/bush/field</td>\n",
       "      <td>Respondent's home</td>\n",
       "      <td>No</td>\n",
       "      <td>Not using</td>\n",
       "      <td>NaN</td>\n",
       "      <td>NaN</td>\n",
       "      <td>Oromia</td>\n",
       "    </tr>\n",
       "    <tr>\n",
       "      <th>3</th>\n",
       "      <td>Male</td>\n",
       "      <td>Rural</td>\n",
       "      <td>Primary</td>\n",
       "      <td>Poorer</td>\n",
       "      <td>Public tap/standpipe</td>\n",
       "      <td>Pit latrine without slab/open pit</td>\n",
       "      <td>Respondent's home</td>\n",
       "      <td>No</td>\n",
       "      <td>Not using</td>\n",
       "      <td>NaN</td>\n",
       "      <td>No</td>\n",
       "      <td>Oromia</td>\n",
       "    </tr>\n",
       "    <tr>\n",
       "      <th>4</th>\n",
       "      <td>Male</td>\n",
       "      <td>Rural</td>\n",
       "      <td>No education</td>\n",
       "      <td>Poorer</td>\n",
       "      <td>Protected spring</td>\n",
       "      <td>Pit latrine with slab</td>\n",
       "      <td>Respondent's home</td>\n",
       "      <td>No</td>\n",
       "      <td>Not using</td>\n",
       "      <td>NaN</td>\n",
       "      <td>No</td>\n",
       "      <td>Oromia</td>\n",
       "    </tr>\n",
       "  </tbody>\n",
       "</table>\n",
       "</div>"
      ],
      "text/plain": [
       "  B4_recoded V025_recoded  V106_recoded V190_recoded          V113_recoded  \\\n",
       "0       Male        Rural  No education       Poorer      Protected spring   \n",
       "1       Male        Rural  No education       Poorer      Protected spring   \n",
       "2     Female        Rural  No education       Poorer      Protected spring   \n",
       "3       Male        Rural       Primary       Poorer  Public tap/standpipe   \n",
       "4       Male        Rural  No education       Poorer      Protected spring   \n",
       "\n",
       "                        V116_recoded        M15_recoded M17_recoded  \\\n",
       "0             No facility/bush/field  Respondent's home          No   \n",
       "1             No facility/bush/field  Respondent's home          No   \n",
       "2             No facility/bush/field  Respondent's home          No   \n",
       "3  Pit latrine without slab/open pit  Respondent's home          No   \n",
       "4              Pit latrine with slab  Respondent's home          No   \n",
       "\n",
       "  V312_recoded V225_recoded M70_recoded V024_recoded  \n",
       "0    Not using          NaN          No       Oromia  \n",
       "1    Not using          NaN         NaN       Oromia  \n",
       "2    Not using          NaN         NaN       Oromia  \n",
       "3    Not using          NaN          No       Oromia  \n",
       "4    Not using          NaN          No       Oromia  "
      ]
     },
     "execution_count": 36,
     "metadata": {},
     "output_type": "execute_result"
    }
   ],
   "source": [
    "# Check preprocessed data\n",
    "data_cat_prep1.head()"
   ]
  },
  {
   "cell_type": "code",
   "execution_count": 37,
   "id": "e5921c6c-0ae1-47bd-a69a-5d0fa7e79b47",
   "metadata": {
    "tags": []
   },
   "outputs": [
    {
     "data": {
      "text/html": [
       "<div>\n",
       "<style scoped>\n",
       "    .dataframe tbody tr th:only-of-type {\n",
       "        vertical-align: middle;\n",
       "    }\n",
       "\n",
       "    .dataframe tbody tr th {\n",
       "        vertical-align: top;\n",
       "    }\n",
       "\n",
       "    .dataframe thead th {\n",
       "        text-align: right;\n",
       "    }\n",
       "</style>\n",
       "<table border=\"1\" class=\"dataframe\">\n",
       "  <thead>\n",
       "    <tr style=\"text-align: right;\">\n",
       "      <th></th>\n",
       "      <th>VariableName</th>\n",
       "      <th>VariableCode</th>\n",
       "      <th>VariableType</th>\n",
       "      <th>Query</th>\n",
       "    </tr>\n",
       "  </thead>\n",
       "  <tbody>\n",
       "    <tr>\n",
       "      <th>1</th>\n",
       "      <td>ChildSex</td>\n",
       "      <td>B4</td>\n",
       "      <td>feature_categorical</td>\n",
       "      <td>select * from \".\\ET_2016_DHS_07082021_1932_581...</td>\n",
       "    </tr>\n",
       "    <tr>\n",
       "      <th>5</th>\n",
       "      <td>Residence</td>\n",
       "      <td>V025</td>\n",
       "      <td>feature_categorical</td>\n",
       "      <td>select * from \".\\ET_2016_DHS_07082021_1932_581...</td>\n",
       "    </tr>\n",
       "    <tr>\n",
       "      <th>6</th>\n",
       "      <td>Education</td>\n",
       "      <td>V106</td>\n",
       "      <td>feature_categorical</td>\n",
       "      <td>select * from \".\\ET_2016_DHS_07082021_1932_581...</td>\n",
       "    </tr>\n",
       "    <tr>\n",
       "      <th>7</th>\n",
       "      <td>WealthIndex</td>\n",
       "      <td>V190</td>\n",
       "      <td>feature_categorical</td>\n",
       "      <td>select * from \".\\ET_2016_DHS_07082021_1932_581...</td>\n",
       "    </tr>\n",
       "    <tr>\n",
       "      <th>8</th>\n",
       "      <td>WaterSource</td>\n",
       "      <td>V113</td>\n",
       "      <td>feature_categorical</td>\n",
       "      <td>select * from \".\\ET_2016_DHS_07082021_1932_581...</td>\n",
       "    </tr>\n",
       "    <tr>\n",
       "      <th>10</th>\n",
       "      <td>ToiletFacility</td>\n",
       "      <td>V116</td>\n",
       "      <td>feature_categorical</td>\n",
       "      <td>select * from \".\\ET_2016_DHS_07082021_1932_581...</td>\n",
       "    </tr>\n",
       "    <tr>\n",
       "      <th>11</th>\n",
       "      <td>PlaceOfDelivery</td>\n",
       "      <td>M15</td>\n",
       "      <td>feature_categorical</td>\n",
       "      <td>select * from \".\\ET_2016_DHS_07082021_1932_581...</td>\n",
       "    </tr>\n",
       "    <tr>\n",
       "      <th>12</th>\n",
       "      <td>DeliveryByCaesareanSection</td>\n",
       "      <td>M17</td>\n",
       "      <td>feature_categorical</td>\n",
       "      <td>select * from \".\\ET_2016_DHS_07082021_1932_581...</td>\n",
       "    </tr>\n",
       "    <tr>\n",
       "      <th>13</th>\n",
       "      <td>ContraceptiveUse</td>\n",
       "      <td>V312</td>\n",
       "      <td>feature_categorical</td>\n",
       "      <td>select * from \".\\ET_2016_DHS_07082021_1932_581...</td>\n",
       "    </tr>\n",
       "    <tr>\n",
       "      <th>14</th>\n",
       "      <td>ChildWanted</td>\n",
       "      <td>V225</td>\n",
       "      <td>feature_categorical</td>\n",
       "      <td>select * from \".\\ET_2016_DHS_07082021_1932_581...</td>\n",
       "    </tr>\n",
       "    <tr>\n",
       "      <th>16</th>\n",
       "      <td>PostnatalCareVisits</td>\n",
       "      <td>M70</td>\n",
       "      <td>feature_categorical</td>\n",
       "      <td>select * from \".\\ET_2016_DHS_07082021_1932_581...</td>\n",
       "    </tr>\n",
       "    <tr>\n",
       "      <th>17</th>\n",
       "      <td>Region</td>\n",
       "      <td>V024</td>\n",
       "      <td>feature_categorical</td>\n",
       "      <td>select * from \".\\ET_2016_DHS_07082021_1932_581...</td>\n",
       "    </tr>\n",
       "  </tbody>\n",
       "</table>\n",
       "</div>"
      ],
      "text/plain": [
       "                  VariableName VariableCode         VariableType  \\\n",
       "1                     ChildSex           B4  feature_categorical   \n",
       "5                    Residence         V025  feature_categorical   \n",
       "6                    Education         V106  feature_categorical   \n",
       "7                  WealthIndex         V190  feature_categorical   \n",
       "8                  WaterSource         V113  feature_categorical   \n",
       "10              ToiletFacility         V116  feature_categorical   \n",
       "11             PlaceOfDelivery          M15  feature_categorical   \n",
       "12  DeliveryByCaesareanSection          M17  feature_categorical   \n",
       "13            ContraceptiveUse         V312  feature_categorical   \n",
       "14                 ChildWanted         V225  feature_categorical   \n",
       "16         PostnatalCareVisits          M70  feature_categorical   \n",
       "17                      Region         V024  feature_categorical   \n",
       "\n",
       "                                                Query  \n",
       "1   select * from \".\\ET_2016_DHS_07082021_1932_581...  \n",
       "5   select * from \".\\ET_2016_DHS_07082021_1932_581...  \n",
       "6   select * from \".\\ET_2016_DHS_07082021_1932_581...  \n",
       "7   select * from \".\\ET_2016_DHS_07082021_1932_581...  \n",
       "8   select * from \".\\ET_2016_DHS_07082021_1932_581...  \n",
       "10  select * from \".\\ET_2016_DHS_07082021_1932_581...  \n",
       "11  select * from \".\\ET_2016_DHS_07082021_1932_581...  \n",
       "12  select * from \".\\ET_2016_DHS_07082021_1932_581...  \n",
       "13  select * from \".\\ET_2016_DHS_07082021_1932_581...  \n",
       "14  select * from \".\\ET_2016_DHS_07082021_1932_581...  \n",
       "16  select * from \".\\ET_2016_DHS_07082021_1932_581...  \n",
       "17  select * from \".\\ET_2016_DHS_07082021_1932_581...  "
      ]
     },
     "execution_count": 37,
     "metadata": {},
     "output_type": "execute_result"
    }
   ],
   "source": [
    "schema_definition_cat"
   ]
  },
  {
   "cell_type": "code",
   "execution_count": 38,
   "id": "784dd099-966f-414e-bd48-7ff54fc6741b",
   "metadata": {
    "tags": []
   },
   "outputs": [
    {
     "data": {
      "text/plain": [
       "B4_recoded         0\n",
       "V025_recoded       0\n",
       "V106_recoded       0\n",
       "V190_recoded       0\n",
       "V113_recoded     133\n",
       "V116_recoded     133\n",
       "M15_recoded        0\n",
       "M17_recoded        0\n",
       "V312_recoded       0\n",
       "V225_recoded    9511\n",
       "M70_recoded     3453\n",
       "V024_recoded       0\n",
       "dtype: int64"
      ]
     },
     "execution_count": 38,
     "metadata": {},
     "output_type": "execute_result"
    }
   ],
   "source": [
    "# Check missing records after cleaning and recoding\n",
    "# FINDINGS\n",
    "# - V113_recoded and V116_recoded looks normal!\n",
    "# - V225_recoded = 9511 and M70_recoded = 3453 doesn't look OK! check metadata variable value table!\n",
    "data_cat_prep1.isnull().sum()"
   ]
  },
  {
   "cell_type": "code",
   "execution_count": 39,
   "id": "db87d052-d66e-44cf-9247-2d0b6038995b",
   "metadata": {
    "tags": []
   },
   "outputs": [
    {
     "data": {
      "text/html": [
       "<div>\n",
       "<style scoped>\n",
       "    .dataframe tbody tr th:only-of-type {\n",
       "        vertical-align: middle;\n",
       "    }\n",
       "\n",
       "    .dataframe tbody tr th {\n",
       "        vertical-align: top;\n",
       "    }\n",
       "\n",
       "    .dataframe thead th {\n",
       "        text-align: right;\n",
       "    }\n",
       "</style>\n",
       "<table border=\"1\" class=\"dataframe\">\n",
       "  <thead>\n",
       "    <tr style=\"text-align: right;\">\n",
       "      <th></th>\n",
       "      <th>FileCode</th>\n",
       "      <th>Name</th>\n",
       "      <th>Value</th>\n",
       "      <th>ValueDesc</th>\n",
       "      <th>ValueType</th>\n",
       "    </tr>\n",
       "  </thead>\n",
       "  <tbody>\n",
       "    <tr>\n",
       "      <th>1046</th>\n",
       "      <td>ET_2016_DHS_07082021_1932_58107.ETKR71FL</td>\n",
       "      <td>V225</td>\n",
       "      <td>1</td>\n",
       "      <td>Then</td>\n",
       "      <td>ExplicitValue</td>\n",
       "    </tr>\n",
       "    <tr>\n",
       "      <th>1047</th>\n",
       "      <td>ET_2016_DHS_07082021_1932_58107.ETKR71FL</td>\n",
       "      <td>V225</td>\n",
       "      <td>2</td>\n",
       "      <td>Later</td>\n",
       "      <td>ExplicitValue</td>\n",
       "    </tr>\n",
       "    <tr>\n",
       "      <th>1048</th>\n",
       "      <td>ET_2016_DHS_07082021_1932_58107.ETKR71FL</td>\n",
       "      <td>V225</td>\n",
       "      <td>3</td>\n",
       "      <td>Not at all</td>\n",
       "      <td>ExplicitValue</td>\n",
       "    </tr>\n",
       "    <tr>\n",
       "      <th>1049</th>\n",
       "      <td>ET_2016_DHS_07082021_1932_58107.ETKR71FL</td>\n",
       "      <td>V225</td>\n",
       "      <td>9</td>\n",
       "      <td>Missing</td>\n",
       "      <td>ExplicitValue</td>\n",
       "    </tr>\n",
       "    <tr>\n",
       "      <th>1050</th>\n",
       "      <td>ET_2016_DHS_07082021_1932_58107.ETKR71FL</td>\n",
       "      <td>V225</td>\n",
       "      <td>' '</td>\n",
       "      <td>Not applicable</td>\n",
       "      <td>ExplicitValue</td>\n",
       "    </tr>\n",
       "  </tbody>\n",
       "</table>\n",
       "</div>"
      ],
      "text/plain": [
       "                                      FileCode  Name Value       ValueDesc  \\\n",
       "1046  ET_2016_DHS_07082021_1932_58107.ETKR71FL  V225     1            Then   \n",
       "1047  ET_2016_DHS_07082021_1932_58107.ETKR71FL  V225     2           Later   \n",
       "1048  ET_2016_DHS_07082021_1932_58107.ETKR71FL  V225     3      Not at all   \n",
       "1049  ET_2016_DHS_07082021_1932_58107.ETKR71FL  V225     9         Missing   \n",
       "1050  ET_2016_DHS_07082021_1932_58107.ETKR71FL  V225   ' '  Not applicable   \n",
       "\n",
       "          ValueType  \n",
       "1046  ExplicitValue  \n",
       "1047  ExplicitValue  \n",
       "1048  ExplicitValue  \n",
       "1049  ExplicitValue  \n",
       "1050  ExplicitValue  "
      ]
     },
     "execution_count": 39,
     "metadata": {},
     "output_type": "execute_result"
    }
   ],
   "source": [
    "# Checking metadata variable value table for V225 (ChildWanted)\n",
    "metadata_variable_value[metadata_variable_value['Name'] == 'V225']"
   ]
  },
  {
   "cell_type": "code",
   "execution_count": 40,
   "id": "ff2e9816-8bb9-4471-86ec-da8fccd741b8",
   "metadata": {
    "tags": []
   },
   "outputs": [
    {
     "data": {
      "text/plain": [
       "NaN    9511\n",
       "1.0     878\n",
       "2.0     171\n",
       "3.0      81\n",
       "Name: V225, dtype: int64"
      ]
     },
     "execution_count": 40,
     "metadata": {},
     "output_type": "execute_result"
    }
   ],
   "source": [
    "data['V225'].value_counts(dropna=False)"
   ]
  },
  {
   "cell_type": "code",
   "execution_count": 41,
   "id": "029fc860-da6e-45bc-a564-245e489aa9c3",
   "metadata": {
    "tags": []
   },
   "outputs": [
    {
     "data": {
      "text/plain": [
       "(10641, 11)"
      ]
     },
     "execution_count": 41,
     "metadata": {},
     "output_type": "execute_result"
    }
   ],
   "source": [
    "# Better to drop this variable!\n",
    "data_cat_prep1.drop(['V225_recoded'], axis='columns', inplace=True)\n",
    "\n",
    "data_cat_prep1.shape"
   ]
  },
  {
   "cell_type": "code",
   "execution_count": 42,
   "id": "c23018fe-b583-4e14-b04e-3d817e66694d",
   "metadata": {
    "tags": []
   },
   "outputs": [
    {
     "data": {
      "text/html": [
       "<div>\n",
       "<style scoped>\n",
       "    .dataframe tbody tr th:only-of-type {\n",
       "        vertical-align: middle;\n",
       "    }\n",
       "\n",
       "    .dataframe tbody tr th {\n",
       "        vertical-align: top;\n",
       "    }\n",
       "\n",
       "    .dataframe thead th {\n",
       "        text-align: right;\n",
       "    }\n",
       "</style>\n",
       "<table border=\"1\" class=\"dataframe\">\n",
       "  <thead>\n",
       "    <tr style=\"text-align: right;\">\n",
       "      <th></th>\n",
       "      <th>VariableName</th>\n",
       "      <th>VariableCode</th>\n",
       "      <th>VariableType</th>\n",
       "      <th>Query</th>\n",
       "    </tr>\n",
       "  </thead>\n",
       "  <tbody>\n",
       "    <tr>\n",
       "      <th>0</th>\n",
       "      <td>HasChildDiedU5</td>\n",
       "      <td>B7, B8, B13, B19, HW1</td>\n",
       "      <td>label</td>\n",
       "      <td>select * from \".\\ET_2016_DHS_07082021_1932_581...</td>\n",
       "    </tr>\n",
       "    <tr>\n",
       "      <th>1</th>\n",
       "      <td>ChildSex</td>\n",
       "      <td>B4</td>\n",
       "      <td>feature_categorical</td>\n",
       "      <td>select * from \".\\ET_2016_DHS_07082021_1932_581...</td>\n",
       "    </tr>\n",
       "    <tr>\n",
       "      <th>2</th>\n",
       "      <td>BirthOrder</td>\n",
       "      <td>BORD</td>\n",
       "      <td>feature_numeric</td>\n",
       "      <td>select * from \".\\ET_2016_DHS_07082021_1932_581...</td>\n",
       "    </tr>\n",
       "    <tr>\n",
       "      <th>3</th>\n",
       "      <td>MotherAgeAtFirstBirth</td>\n",
       "      <td>V212</td>\n",
       "      <td>feature_numeric</td>\n",
       "      <td>select * from \".\\ET_2016_DHS_07082021_1932_581...</td>\n",
       "    </tr>\n",
       "    <tr>\n",
       "      <th>4</th>\n",
       "      <td>AgeOfMother</td>\n",
       "      <td>V012</td>\n",
       "      <td>feature_numeric</td>\n",
       "      <td>select * from \".\\ET_2016_DHS_07082021_1932_581...</td>\n",
       "    </tr>\n",
       "    <tr>\n",
       "      <th>5</th>\n",
       "      <td>Residence</td>\n",
       "      <td>V025</td>\n",
       "      <td>feature_categorical</td>\n",
       "      <td>select * from \".\\ET_2016_DHS_07082021_1932_581...</td>\n",
       "    </tr>\n",
       "    <tr>\n",
       "      <th>6</th>\n",
       "      <td>Education</td>\n",
       "      <td>V106</td>\n",
       "      <td>feature_categorical</td>\n",
       "      <td>select * from \".\\ET_2016_DHS_07082021_1932_581...</td>\n",
       "    </tr>\n",
       "    <tr>\n",
       "      <th>7</th>\n",
       "      <td>WealthIndex</td>\n",
       "      <td>V190</td>\n",
       "      <td>feature_categorical</td>\n",
       "      <td>select * from \".\\ET_2016_DHS_07082021_1932_581...</td>\n",
       "    </tr>\n",
       "    <tr>\n",
       "      <th>8</th>\n",
       "      <td>WaterSource</td>\n",
       "      <td>V113</td>\n",
       "      <td>feature_categorical</td>\n",
       "      <td>select * from \".\\ET_2016_DHS_07082021_1932_581...</td>\n",
       "    </tr>\n",
       "    <tr>\n",
       "      <th>9</th>\n",
       "      <td>TimeToWaterSource</td>\n",
       "      <td>V115</td>\n",
       "      <td>feature_numeric</td>\n",
       "      <td>select * from \".\\ET_2016_DHS_07082021_1932_581...</td>\n",
       "    </tr>\n",
       "    <tr>\n",
       "      <th>10</th>\n",
       "      <td>ToiletFacility</td>\n",
       "      <td>V116</td>\n",
       "      <td>feature_categorical</td>\n",
       "      <td>select * from \".\\ET_2016_DHS_07082021_1932_581...</td>\n",
       "    </tr>\n",
       "    <tr>\n",
       "      <th>11</th>\n",
       "      <td>PlaceOfDelivery</td>\n",
       "      <td>M15</td>\n",
       "      <td>feature_categorical</td>\n",
       "      <td>select * from \".\\ET_2016_DHS_07082021_1932_581...</td>\n",
       "    </tr>\n",
       "    <tr>\n",
       "      <th>12</th>\n",
       "      <td>DeliveryByCaesareanSection</td>\n",
       "      <td>M17</td>\n",
       "      <td>feature_categorical</td>\n",
       "      <td>select * from \".\\ET_2016_DHS_07082021_1932_581...</td>\n",
       "    </tr>\n",
       "    <tr>\n",
       "      <th>13</th>\n",
       "      <td>ContraceptiveUse</td>\n",
       "      <td>V312</td>\n",
       "      <td>feature_categorical</td>\n",
       "      <td>select * from \".\\ET_2016_DHS_07082021_1932_581...</td>\n",
       "    </tr>\n",
       "    <tr>\n",
       "      <th>14</th>\n",
       "      <td>AntenatalCareVisits</td>\n",
       "      <td>M14</td>\n",
       "      <td>feature_numeric</td>\n",
       "      <td>select * from \".\\ET_2016_DHS_07082021_1932_581...</td>\n",
       "    </tr>\n",
       "    <tr>\n",
       "      <th>15</th>\n",
       "      <td>PostnatalCareVisits</td>\n",
       "      <td>M70</td>\n",
       "      <td>feature_categorical</td>\n",
       "      <td>select * from \".\\ET_2016_DHS_07082021_1932_581...</td>\n",
       "    </tr>\n",
       "    <tr>\n",
       "      <th>16</th>\n",
       "      <td>Region</td>\n",
       "      <td>V024</td>\n",
       "      <td>feature_categorical</td>\n",
       "      <td>select * from \".\\ET_2016_DHS_07082021_1932_581...</td>\n",
       "    </tr>\n",
       "    <tr>\n",
       "      <th>17</th>\n",
       "      <td>BreastFed</td>\n",
       "      <td>V426</td>\n",
       "      <td>feature_numeric</td>\n",
       "      <td>select * from \".\\ET_2016_DHS_07082021_1932_581...</td>\n",
       "    </tr>\n",
       "    <tr>\n",
       "      <th>18</th>\n",
       "      <td>HouseholdSize</td>\n",
       "      <td>V136</td>\n",
       "      <td>feature_numeric</td>\n",
       "      <td>select * from \".\\ET_2016_DHS_07082021_1932_581...</td>\n",
       "    </tr>\n",
       "  </tbody>\n",
       "</table>\n",
       "</div>"
      ],
      "text/plain": [
       "                  VariableName           VariableCode         VariableType  \\\n",
       "0               HasChildDiedU5  B7, B8, B13, B19, HW1                label   \n",
       "1                     ChildSex                     B4  feature_categorical   \n",
       "2                   BirthOrder                   BORD      feature_numeric   \n",
       "3        MotherAgeAtFirstBirth                   V212      feature_numeric   \n",
       "4                  AgeOfMother                   V012      feature_numeric   \n",
       "5                    Residence                   V025  feature_categorical   \n",
       "6                    Education                   V106  feature_categorical   \n",
       "7                  WealthIndex                   V190  feature_categorical   \n",
       "8                  WaterSource                   V113  feature_categorical   \n",
       "9            TimeToWaterSource                   V115      feature_numeric   \n",
       "10              ToiletFacility                   V116  feature_categorical   \n",
       "11             PlaceOfDelivery                    M15  feature_categorical   \n",
       "12  DeliveryByCaesareanSection                    M17  feature_categorical   \n",
       "13            ContraceptiveUse                   V312  feature_categorical   \n",
       "14         AntenatalCareVisits                    M14      feature_numeric   \n",
       "15         PostnatalCareVisits                    M70  feature_categorical   \n",
       "16                      Region                   V024  feature_categorical   \n",
       "17                   BreastFed                   V426      feature_numeric   \n",
       "18               HouseholdSize                   V136      feature_numeric   \n",
       "\n",
       "                                                Query  \n",
       "0   select * from \".\\ET_2016_DHS_07082021_1932_581...  \n",
       "1   select * from \".\\ET_2016_DHS_07082021_1932_581...  \n",
       "2   select * from \".\\ET_2016_DHS_07082021_1932_581...  \n",
       "3   select * from \".\\ET_2016_DHS_07082021_1932_581...  \n",
       "4   select * from \".\\ET_2016_DHS_07082021_1932_581...  \n",
       "5   select * from \".\\ET_2016_DHS_07082021_1932_581...  \n",
       "6   select * from \".\\ET_2016_DHS_07082021_1932_581...  \n",
       "7   select * from \".\\ET_2016_DHS_07082021_1932_581...  \n",
       "8   select * from \".\\ET_2016_DHS_07082021_1932_581...  \n",
       "9   select * from \".\\ET_2016_DHS_07082021_1932_581...  \n",
       "10  select * from \".\\ET_2016_DHS_07082021_1932_581...  \n",
       "11  select * from \".\\ET_2016_DHS_07082021_1932_581...  \n",
       "12  select * from \".\\ET_2016_DHS_07082021_1932_581...  \n",
       "13  select * from \".\\ET_2016_DHS_07082021_1932_581...  \n",
       "14  select * from \".\\ET_2016_DHS_07082021_1932_581...  \n",
       "15  select * from \".\\ET_2016_DHS_07082021_1932_581...  \n",
       "16  select * from \".\\ET_2016_DHS_07082021_1932_581...  \n",
       "17  select * from \".\\ET_2016_DHS_07082021_1932_581...  \n",
       "18  select * from \".\\ET_2016_DHS_07082021_1932_581...  "
      ]
     },
     "execution_count": 42,
     "metadata": {},
     "output_type": "execute_result"
    }
   ],
   "source": [
    "# Update schema definition\n",
    "schema_definition = schema_definition.drop(schema_definition[schema_definition['VariableCode'] == 'V225'].index)\n",
    "schema_definition.reset_index(drop=True, inplace=True)\n",
    "\n",
    "schema_definition"
   ]
  },
  {
   "cell_type": "code",
   "execution_count": 43,
   "id": "00aada88-c604-4b1f-bbe3-821a88224284",
   "metadata": {
    "tags": []
   },
   "outputs": [
    {
     "data": {
      "text/html": [
       "<div>\n",
       "<style scoped>\n",
       "    .dataframe tbody tr th:only-of-type {\n",
       "        vertical-align: middle;\n",
       "    }\n",
       "\n",
       "    .dataframe tbody tr th {\n",
       "        vertical-align: top;\n",
       "    }\n",
       "\n",
       "    .dataframe thead th {\n",
       "        text-align: right;\n",
       "    }\n",
       "</style>\n",
       "<table border=\"1\" class=\"dataframe\">\n",
       "  <thead>\n",
       "    <tr style=\"text-align: right;\">\n",
       "      <th></th>\n",
       "      <th>FileCode</th>\n",
       "      <th>Name</th>\n",
       "      <th>Value</th>\n",
       "      <th>ValueDesc</th>\n",
       "      <th>ValueType</th>\n",
       "    </tr>\n",
       "  </thead>\n",
       "  <tbody>\n",
       "    <tr>\n",
       "      <th>6640</th>\n",
       "      <td>ET_2016_DHS_07082021_1932_58107.ETKR71FL</td>\n",
       "      <td>M70</td>\n",
       "      <td>0</td>\n",
       "      <td>No</td>\n",
       "      <td>ExplicitValue</td>\n",
       "    </tr>\n",
       "    <tr>\n",
       "      <th>6641</th>\n",
       "      <td>ET_2016_DHS_07082021_1932_58107.ETKR71FL</td>\n",
       "      <td>M70</td>\n",
       "      <td>1</td>\n",
       "      <td>Yes</td>\n",
       "      <td>ExplicitValue</td>\n",
       "    </tr>\n",
       "    <tr>\n",
       "      <th>6642</th>\n",
       "      <td>ET_2016_DHS_07082021_1932_58107.ETKR71FL</td>\n",
       "      <td>M70</td>\n",
       "      <td>8</td>\n",
       "      <td>Don't know</td>\n",
       "      <td>ExplicitValue</td>\n",
       "    </tr>\n",
       "    <tr>\n",
       "      <th>6643</th>\n",
       "      <td>ET_2016_DHS_07082021_1932_58107.ETKR71FL</td>\n",
       "      <td>M70</td>\n",
       "      <td>9</td>\n",
       "      <td>Missing</td>\n",
       "      <td>ExplicitValue</td>\n",
       "    </tr>\n",
       "    <tr>\n",
       "      <th>6644</th>\n",
       "      <td>ET_2016_DHS_07082021_1932_58107.ETKR71FL</td>\n",
       "      <td>M70</td>\n",
       "      <td>' '</td>\n",
       "      <td>Not applicable</td>\n",
       "      <td>ExplicitValue</td>\n",
       "    </tr>\n",
       "  </tbody>\n",
       "</table>\n",
       "</div>"
      ],
      "text/plain": [
       "                                      FileCode Name Value       ValueDesc  \\\n",
       "6640  ET_2016_DHS_07082021_1932_58107.ETKR71FL  M70     0              No   \n",
       "6641  ET_2016_DHS_07082021_1932_58107.ETKR71FL  M70     1             Yes   \n",
       "6642  ET_2016_DHS_07082021_1932_58107.ETKR71FL  M70     8      Don't know   \n",
       "6643  ET_2016_DHS_07082021_1932_58107.ETKR71FL  M70     9         Missing   \n",
       "6644  ET_2016_DHS_07082021_1932_58107.ETKR71FL  M70   ' '  Not applicable   \n",
       "\n",
       "          ValueType  \n",
       "6640  ExplicitValue  \n",
       "6641  ExplicitValue  \n",
       "6642  ExplicitValue  \n",
       "6643  ExplicitValue  \n",
       "6644  ExplicitValue  "
      ]
     },
     "execution_count": 43,
     "metadata": {},
     "output_type": "execute_result"
    }
   ],
   "source": [
    "# Checking metadata variable value table for M70 (PostnatalCareVisits)\n",
    "metadata_variable_value[metadata_variable_value['Name'] == 'M70']"
   ]
  },
  {
   "cell_type": "code",
   "execution_count": 44,
   "id": "51f9f482-a154-46ac-8b78-56b0f79bbec6",
   "metadata": {
    "tags": []
   },
   "outputs": [
    {
     "data": {
      "text/plain": [
       "0.0    6513\n",
       "NaN    3448\n",
       "1.0     675\n",
       "8.0       5\n",
       "Name: M70, dtype: int64"
      ]
     },
     "execution_count": 44,
     "metadata": {},
     "output_type": "execute_result"
    }
   ],
   "source": [
    "data['M70'].value_counts(dropna=False)"
   ]
  },
  {
   "cell_type": "markdown",
   "id": "b2e95026-6890-4503-88a5-dee36bb01086",
   "metadata": {},
   "source": [
    "## 3.1 Further recoding for categorical features as suggested by Bitew et al (2020)\n",
    "\n",
    "* WealthIndex\n",
    "* WaterSource\n",
    "* ToiletFacility\n",
    "* PlaceOfDelivery\n",
    "* ContraceptiveUse"
   ]
  },
  {
   "cell_type": "code",
   "execution_count": 45,
   "id": "61d5c505-845f-47c1-a293-994ffee8ff59",
   "metadata": {
    "tags": []
   },
   "outputs": [
    {
     "data": {
      "text/plain": [
       "Poorest    3993\n",
       "Richest    2092\n",
       "Poorer     1782\n",
       "Middle     1466\n",
       "Richer     1308\n",
       "Name: V190_recoded, dtype: int64"
      ]
     },
     "execution_count": 45,
     "metadata": {},
     "output_type": "execute_result"
    }
   ],
   "source": [
    "# Recode Wealth Index into ['Low', 'Middle', 'High']      ###################################################################################\n",
    "data_cat_prep1['V190_recoded'].value_counts(dropna=False)"
   ]
  },
  {
   "cell_type": "code",
   "execution_count": 46,
   "id": "10e0e88d-6fa0-4c2d-929a-f41868b705bd",
   "metadata": {
    "tags": []
   },
   "outputs": [
    {
     "data": {
      "text/plain": [
       "V190_recoded  V190_recoded_further\n",
       "Poorest       Low                     3993\n",
       "Richest       High                    2092\n",
       "Poorer        Low                     1782\n",
       "Middle        Middle                  1466\n",
       "Richer        High                    1308\n",
       "dtype: int64"
      ]
     },
     "execution_count": 46,
     "metadata": {},
     "output_type": "execute_result"
    }
   ],
   "source": [
    "# Recode Wealth Index into ['Low', 'Middle', 'High'] according to Bitew et al (2020)\n",
    "data_cat_prep1['V190_recoded_further'] = np.where(data_cat_prep1['V190_recoded'].isin(['Poorest', 'Poorer']),\n",
    "                                                  'Low',\n",
    "                                                  np.where(data_cat_prep1['V190_recoded'].isin(['Richest', 'Richer']),\n",
    "                                                           'High', \n",
    "                                                           data_cat_prep1['V190_recoded']))\n",
    "\n",
    "# Sanity checks\n",
    "data_cat_prep1[['V190_recoded', 'V190_recoded_further']].value_counts(dropna=False)"
   ]
  },
  {
   "cell_type": "code",
   "execution_count": 47,
   "id": "52715bb3-b0c2-46c5-aa2e-b31cb6b9543f",
   "metadata": {},
   "outputs": [
    {
     "data": {
      "text/plain": [
       "(10641, 11)"
      ]
     },
     "execution_count": 47,
     "metadata": {},
     "output_type": "execute_result"
    }
   ],
   "source": [
    "# Drop original variable after recoding\n",
    "data_cat_prep1.drop(['V190_recoded'], axis='columns', inplace=True)\n",
    "\n",
    "data_cat_prep1.shape"
   ]
  },
  {
   "cell_type": "code",
   "execution_count": 48,
   "id": "5c3a6121-9082-4978-8d73-41e8ea9b866d",
   "metadata": {
    "tags": []
   },
   "outputs": [
    {
     "data": {
      "text/plain": [
       "Unprotected spring                                      1631\n",
       "Public tap/standpipe                                    1616\n",
       "Tube well or borehole                                   1481\n",
       "River/dam/lake/ponds/stream/canal/irrigation channel    1461\n",
       "Piped to yard/plot                                       995\n",
       "Unprotected well                                         907\n",
       "Protected spring                                         811\n",
       "Protected well                                           806\n",
       "Piped to neighbor                                        374\n",
       "Piped into dwelling                                      148\n",
       "None                                                     133\n",
       "Tanker truck                                              82\n",
       "Rainwater                                                 78\n",
       "Cart with small tank                                      72\n",
       "Bottled water                                             40\n",
       "Other                                                      6\n",
       "Name: V113_recoded, dtype: int64"
      ]
     },
     "execution_count": 48,
     "metadata": {},
     "output_type": "execute_result"
    }
   ],
   "source": [
    "# Recode Water source into ['Improved', 'Unimproved'] according to Bitew et al (2020)      ###################################################################################\n",
    "data_cat_prep1['V113_recoded'].value_counts(dropna=False)"
   ]
  },
  {
   "cell_type": "code",
   "execution_count": 49,
   "id": "8ceb3bc5-3518-4052-899b-60c3c2a7b76f",
   "metadata": {
    "tags": []
   },
   "outputs": [
    {
     "data": {
      "text/plain": [
       "V113_recoded                                          V113_recoded_further\n",
       "Unprotected spring                                    unimproved              1631\n",
       "Public tap/standpipe                                  improved                1616\n",
       "Tube well or borehole                                 improved                1481\n",
       "River/dam/lake/ponds/stream/canal/irrigation channel  unimproved              1461\n",
       "Piped to yard/plot                                    improved                 995\n",
       "Unprotected well                                      unimproved               907\n",
       "Protected spring                                      improved                 811\n",
       "Protected well                                        improved                 806\n",
       "Piped to neighbor                                     improved                 374\n",
       "Piped into dwelling                                   improved                 148\n",
       "NaN                                                   NaN                      133\n",
       "Tanker truck                                          improved                  82\n",
       "Rainwater                                             unimproved                78\n",
       "Cart with small tank                                  improved                  72\n",
       "Bottled water                                         improved                  40\n",
       "Other                                                 Other                      6\n",
       "dtype: int64"
      ]
     },
     "execution_count": 49,
     "metadata": {},
     "output_type": "execute_result"
    }
   ],
   "source": [
    "# Recode Water source into ['Improved', 'Unimproved']\n",
    "improved_group = ['Public tap/standpipe', 'Tube well or borehole', 'Piped to yard/plot', 'Protected spring',\n",
    "                 'Protected well', 'Piped to neighbor', 'Piped into dwelling', 'Tanker truck', 'Cart with small tank', 'Bottled water']\n",
    "unimproved_group = ['Unprotected spring', 'River/dam/lake/ponds/stream/canal/irrigation channel',\n",
    "                   'Unprotected well', 'Rainwater']\n",
    "\n",
    "data_cat_prep1['V113_recoded_further'] = np.where(data_cat_prep1['V113_recoded'].isin(improved_group),\n",
    "                                                  'improved',\n",
    "                                                  np.where(data_cat_prep1['V113_recoded'].isin(unimproved_group),\n",
    "                                                           'unimproved',\n",
    "                                                           np.where(data_cat_prep1['V113_recoded'].isnull(),\n",
    "                                                                    None,\n",
    "                                                                    data_cat_prep1['V113_recoded'])))\n",
    "\n",
    "# Sanity checks\n",
    "data_cat_prep1[['V113_recoded', 'V113_recoded_further']].value_counts(dropna=False)"
   ]
  },
  {
   "cell_type": "code",
   "execution_count": 50,
   "id": "e7354421-547e-40e8-9a8b-c45863e37aa7",
   "metadata": {
    "tags": []
   },
   "outputs": [
    {
     "data": {
      "text/plain": [
       "(10641, 11)"
      ]
     },
     "execution_count": 50,
     "metadata": {},
     "output_type": "execute_result"
    }
   ],
   "source": [
    "# Drop original variable after recoding\n",
    "data_cat_prep1.drop(['V113_recoded'], axis='columns', inplace=True)\n",
    "\n",
    "data_cat_prep1.shape"
   ]
  },
  {
   "cell_type": "code",
   "execution_count": 51,
   "id": "f5d0354a-f470-4d92-8227-4c15ccc9326a",
   "metadata": {
    "tags": []
   },
   "outputs": [
    {
     "data": {
      "text/plain": [
       "No facility/bush/field                   4675\n",
       "Pit latrine without slab/open pit        3965\n",
       "Pit latrine with slab                    1264\n",
       "Flush to pit latrine                      221\n",
       "None                                      133\n",
       "Flush to septic tank                      132\n",
       "Composting toilet                          64\n",
       "Ventilated Improved Pit latrine (VIP)      60\n",
       "Flush to piped sewer system                49\n",
       "Other                                      44\n",
       "Hanging toilet/latrine                     13\n",
       "Flush to somewhere else                    11\n",
       "Flush, don't know where                     9\n",
       "Bucket toilet                               1\n",
       "Name: V116_recoded, dtype: int64"
      ]
     },
     "execution_count": 51,
     "metadata": {},
     "output_type": "execute_result"
    }
   ],
   "source": [
    "# Recode Toilet facility into ['Improved', 'Unimproved'] according to Bitew et al (2020)      ###################################################################################\n",
    "data_cat_prep1['V116_recoded'].value_counts(dropna=False)"
   ]
  },
  {
   "cell_type": "code",
   "execution_count": 52,
   "id": "4fc2e03d-c5ac-44e4-9a50-c1d7a142ffee",
   "metadata": {
    "tags": []
   },
   "outputs": [
    {
     "data": {
      "text/plain": [
       "V116_recoded                           V116_recoded_further\n",
       "No facility/bush/field                 unimproved              4675\n",
       "Pit latrine without slab/open pit      unimproved              3965\n",
       "Pit latrine with slab                  improved                1264\n",
       "Flush to pit latrine                   improved                 221\n",
       "NaN                                    NaN                      133\n",
       "Flush to septic tank                   improved                 132\n",
       "Composting toilet                      improved                  64\n",
       "Ventilated Improved Pit latrine (VIP)  improved                  60\n",
       "Flush to piped sewer system            improved                  49\n",
       "Other                                  Other                     44\n",
       "Hanging toilet/latrine                 improved                  13\n",
       "Flush to somewhere else                improved                  11\n",
       "Flush, don't know where                improved                   9\n",
       "Bucket toilet                          improved                   1\n",
       "dtype: int64"
      ]
     },
     "execution_count": 52,
     "metadata": {},
     "output_type": "execute_result"
    }
   ],
   "source": [
    "# Recode Toilet facility into ['Improved', 'Unimproved'] \n",
    "improved_group = ['Pit latrine with slab', 'Flush to pit latrine', 'Flush to septic tank', 'Composting toilet',\n",
    "                 'Ventilated Improved Pit latrine (VIP)', 'Flush to piped sewer system', 'Hanging toilet/latrine', \n",
    "                 'Flush to somewhere else', \"Flush, don't know where\", 'Bucket toilet']\n",
    "unimproved_group = ['No facility/bush/field', 'Pit latrine without slab/open pit']\n",
    "\n",
    "data_cat_prep1['V116_recoded_further'] = np.where(data_cat_prep1['V116_recoded'].isin(improved_group),\n",
    "                                                  'improved',\n",
    "                                                  np.where(data_cat_prep1['V116_recoded'].isin(unimproved_group),\n",
    "                                                           'unimproved',\n",
    "                                                           np.where(data_cat_prep1['V116_recoded'].isnull(),\n",
    "                                                                    None,\n",
    "                                                                    data_cat_prep1['V116_recoded'])))\n",
    "\n",
    "# Sanity checks\n",
    "data_cat_prep1[['V116_recoded', 'V116_recoded_further']].value_counts(dropna=False)"
   ]
  },
  {
   "cell_type": "code",
   "execution_count": 53,
   "id": "62f31b79-10d0-40e0-8afc-f1f31bbf3601",
   "metadata": {
    "tags": []
   },
   "outputs": [
    {
     "data": {
      "text/plain": [
       "(10641, 11)"
      ]
     },
     "execution_count": 53,
     "metadata": {},
     "output_type": "execute_result"
    }
   ],
   "source": [
    "# Drop original variable after recoding\n",
    "data_cat_prep1.drop(['V116_recoded'], axis='columns', inplace=True)\n",
    "\n",
    "data_cat_prep1.shape"
   ]
  },
  {
   "cell_type": "code",
   "execution_count": 54,
   "id": "018c95ce-5f2e-40df-bffe-e1c7d56674f1",
   "metadata": {
    "tags": []
   },
   "outputs": [
    {
     "data": {
      "text/plain": [
       "Respondent's home             6960\n",
       "Government health center      1701\n",
       "Government hospital           1131\n",
       "Private hospital               219\n",
       "Other home                     195\n",
       "Government health post         190\n",
       "Other                          116\n",
       "NGO: health facility            78\n",
       "Private clinic                  42\n",
       "NGO: Other health facility       6\n",
       "Other private sector             2\n",
       "Other public sector              1\n",
       "Name: M15_recoded, dtype: int64"
      ]
     },
     "execution_count": 54,
     "metadata": {},
     "output_type": "execute_result"
    }
   ],
   "source": [
    "# Recode Place of delivery into ['Fac with CS delivery', 'Fac without CS delivery', 'Home'] according to Bitew et al (2020)      ###################################################################################\n",
    "data_cat_prep1['M15_recoded'].value_counts(dropna=False)"
   ]
  },
  {
   "cell_type": "code",
   "execution_count": 55,
   "id": "74c94f88-df34-4b24-9119-6092c74ba32a",
   "metadata": {
    "tags": []
   },
   "outputs": [
    {
     "data": {
      "text/plain": [
       "M15_recoded                 M15_recoded_further\n",
       "Respondent's home           home                   6960\n",
       "Government health center    health_center          1701\n",
       "Government hospital         health_center          1131\n",
       "Private hospital            health_center           219\n",
       "Other home                  home                    195\n",
       "Government health post      health_center           190\n",
       "Other                       Other                   116\n",
       "NGO: health facility        health_center            78\n",
       "Private clinic              health_center            42\n",
       "NGO: Other health facility  health_center             6\n",
       "Other private sector        Other                     2\n",
       "Other public sector         Other                     1\n",
       "dtype: int64"
      ]
     },
     "execution_count": 55,
     "metadata": {},
     "output_type": "execute_result"
    }
   ],
   "source": [
    "# Recode Place of delivery into ['Fac with CS delivery', 'Fac without CS delivery', 'Home']\n",
    "home_group = [\"Respondent's home\", 'Other home']\n",
    "health_facility_group = ['Government health center', 'Government hospital', 'Private hospital', 'Government health post',\n",
    "                         'NGO: health facility', 'Private clinic', 'NGO: Other health facility']   # CS stands for Caesarean section\n",
    "other_group = ['Other private sector', 'Other public sector', 'Other']\n",
    "\n",
    "data_cat_prep1['M15_recoded_further'] = np.where(data_cat_prep1['M15_recoded'].isin(home_group),\n",
    "                                                 'home',\n",
    "                                                 np.where(data_cat_prep1['M15_recoded'].isin(health_facility_group),\n",
    "                                                          'health_center',\n",
    "                                                          np.where(data_cat_prep1['M15_recoded'].isin(other_group),\n",
    "                                                                   'Other',\n",
    "                                                                   np.where(data_cat_prep1['M15_recoded'].isnull(),\n",
    "                                                                            None,\n",
    "                                                                            data_cat_prep1['M15_recoded']))))\n",
    "\n",
    "# Sanity checks\n",
    "data_cat_prep1[['M15_recoded', 'M15_recoded_further']].value_counts(dropna=False)"
   ]
  },
  {
   "cell_type": "code",
   "execution_count": 56,
   "id": "87f84b7a-3061-4717-ae93-6a006531ac3d",
   "metadata": {
    "tags": []
   },
   "outputs": [
    {
     "data": {
      "text/plain": [
       "(10641, 11)"
      ]
     },
     "execution_count": 56,
     "metadata": {},
     "output_type": "execute_result"
    }
   ],
   "source": [
    "# Drop original variable after recoding\n",
    "data_cat_prep1.drop(['M15_recoded'], axis='columns', inplace=True)\n",
    "\n",
    "data_cat_prep1.shape"
   ]
  },
  {
   "cell_type": "code",
   "execution_count": 57,
   "id": "d64a930f-68ec-44ba-ba22-7d1d069bfc3e",
   "metadata": {
    "tags": []
   },
   "outputs": [
    {
     "data": {
      "text/plain": [
       "Not using                       7888\n",
       "Injections                      1629\n",
       "Implants/Norplant                667\n",
       "Pill                             184\n",
       "IUD                              150\n",
       "Periodic abstinence               48\n",
       "Lactational amenorrhea (LAM)      23\n",
       "Female sterilization              18\n",
       "Withdrawal                        14\n",
       "Standard days method (SDM)        11\n",
       "Male condom                        9\n",
       "Name: V312_recoded, dtype: int64"
      ]
     },
     "execution_count": 57,
     "metadata": {},
     "output_type": "execute_result"
    }
   ],
   "source": [
    "# Recode Contraceptive use into ['Yes', 'No'] according to Bitew et al (2020)      ###################################################################################\n",
    "data_cat_prep1['V312_recoded'].value_counts(dropna=False)"
   ]
  },
  {
   "cell_type": "code",
   "execution_count": 58,
   "id": "ce41b9d4-3100-4b91-9a26-1b02925d0a9a",
   "metadata": {
    "tags": []
   },
   "outputs": [
    {
     "data": {
      "text/plain": [
       "V312_recoded                  V312_recoded_further\n",
       "Not using                     no                      7888\n",
       "Injections                    yes                     1629\n",
       "Implants/Norplant             yes                      667\n",
       "Pill                          yes                      184\n",
       "IUD                           yes                      150\n",
       "Periodic abstinence           yes                       48\n",
       "Lactational amenorrhea (LAM)  yes                       23\n",
       "Female sterilization          yes                       18\n",
       "Withdrawal                    yes                       14\n",
       "Standard days method (SDM)    yes                       11\n",
       "Male condom                   yes                        9\n",
       "dtype: int64"
      ]
     },
     "execution_count": 58,
     "metadata": {},
     "output_type": "execute_result"
    }
   ],
   "source": [
    "# Recode Contraceptive use into ['Yes', 'No']\n",
    "data_cat_prep1['V312_recoded_further'] = np.where(data_cat_prep1['V312_recoded'].isnull(),\n",
    "                                                  None,\n",
    "                                                  np.where(data_cat_prep1['V312_recoded'] == 'Not using',\n",
    "                                                           'no',\n",
    "                                                           'yes'))\n",
    "\n",
    "# Sanity checks\n",
    "data_cat_prep1[['V312_recoded', 'V312_recoded_further']].value_counts(dropna=False)"
   ]
  },
  {
   "cell_type": "code",
   "execution_count": 59,
   "id": "0ce69a94-2277-4392-96e6-2d4710e17e5a",
   "metadata": {
    "tags": []
   },
   "outputs": [
    {
     "data": {
      "text/plain": [
       "(10641, 11)"
      ]
     },
     "execution_count": 59,
     "metadata": {},
     "output_type": "execute_result"
    }
   ],
   "source": [
    "# Drop original variable after recoding\n",
    "data_cat_prep1.drop(['V312_recoded'], axis='columns', inplace=True)\n",
    "\n",
    "data_cat_prep1.shape"
   ]
  },
  {
   "cell_type": "code",
   "execution_count": 60,
   "id": "e4549b81-0ff7-40ca-afdf-57232f47e47e",
   "metadata": {
    "tags": []
   },
   "outputs": [
    {
     "data": {
      "text/html": [
       "<div>\n",
       "<style scoped>\n",
       "    .dataframe tbody tr th:only-of-type {\n",
       "        vertical-align: middle;\n",
       "    }\n",
       "\n",
       "    .dataframe tbody tr th {\n",
       "        vertical-align: top;\n",
       "    }\n",
       "\n",
       "    .dataframe thead th {\n",
       "        text-align: right;\n",
       "    }\n",
       "</style>\n",
       "<table border=\"1\" class=\"dataframe\">\n",
       "  <thead>\n",
       "    <tr style=\"text-align: right;\">\n",
       "      <th></th>\n",
       "      <th>B4_recoded</th>\n",
       "      <th>V025_recoded</th>\n",
       "      <th>V106_recoded</th>\n",
       "      <th>M17_recoded</th>\n",
       "      <th>M70_recoded</th>\n",
       "      <th>V024_recoded</th>\n",
       "      <th>V190_recoded_further</th>\n",
       "      <th>V113_recoded_further</th>\n",
       "      <th>V116_recoded_further</th>\n",
       "      <th>M15_recoded_further</th>\n",
       "      <th>V312_recoded_further</th>\n",
       "    </tr>\n",
       "  </thead>\n",
       "  <tbody>\n",
       "    <tr>\n",
       "      <th>0</th>\n",
       "      <td>Male</td>\n",
       "      <td>Rural</td>\n",
       "      <td>No education</td>\n",
       "      <td>No</td>\n",
       "      <td>No</td>\n",
       "      <td>Oromia</td>\n",
       "      <td>Low</td>\n",
       "      <td>improved</td>\n",
       "      <td>unimproved</td>\n",
       "      <td>home</td>\n",
       "      <td>no</td>\n",
       "    </tr>\n",
       "    <tr>\n",
       "      <th>1</th>\n",
       "      <td>Male</td>\n",
       "      <td>Rural</td>\n",
       "      <td>No education</td>\n",
       "      <td>No</td>\n",
       "      <td>NaN</td>\n",
       "      <td>Oromia</td>\n",
       "      <td>Low</td>\n",
       "      <td>improved</td>\n",
       "      <td>unimproved</td>\n",
       "      <td>home</td>\n",
       "      <td>no</td>\n",
       "    </tr>\n",
       "    <tr>\n",
       "      <th>2</th>\n",
       "      <td>Female</td>\n",
       "      <td>Rural</td>\n",
       "      <td>No education</td>\n",
       "      <td>No</td>\n",
       "      <td>NaN</td>\n",
       "      <td>Oromia</td>\n",
       "      <td>Low</td>\n",
       "      <td>improved</td>\n",
       "      <td>unimproved</td>\n",
       "      <td>home</td>\n",
       "      <td>no</td>\n",
       "    </tr>\n",
       "    <tr>\n",
       "      <th>3</th>\n",
       "      <td>Male</td>\n",
       "      <td>Rural</td>\n",
       "      <td>Primary</td>\n",
       "      <td>No</td>\n",
       "      <td>No</td>\n",
       "      <td>Oromia</td>\n",
       "      <td>Low</td>\n",
       "      <td>improved</td>\n",
       "      <td>unimproved</td>\n",
       "      <td>home</td>\n",
       "      <td>no</td>\n",
       "    </tr>\n",
       "    <tr>\n",
       "      <th>4</th>\n",
       "      <td>Male</td>\n",
       "      <td>Rural</td>\n",
       "      <td>No education</td>\n",
       "      <td>No</td>\n",
       "      <td>No</td>\n",
       "      <td>Oromia</td>\n",
       "      <td>Low</td>\n",
       "      <td>improved</td>\n",
       "      <td>improved</td>\n",
       "      <td>home</td>\n",
       "      <td>no</td>\n",
       "    </tr>\n",
       "  </tbody>\n",
       "</table>\n",
       "</div>"
      ],
      "text/plain": [
       "  B4_recoded V025_recoded  V106_recoded M17_recoded M70_recoded V024_recoded  \\\n",
       "0       Male        Rural  No education          No          No       Oromia   \n",
       "1       Male        Rural  No education          No         NaN       Oromia   \n",
       "2     Female        Rural  No education          No         NaN       Oromia   \n",
       "3       Male        Rural       Primary          No          No       Oromia   \n",
       "4       Male        Rural  No education          No          No       Oromia   \n",
       "\n",
       "  V190_recoded_further V113_recoded_further V116_recoded_further  \\\n",
       "0                  Low             improved           unimproved   \n",
       "1                  Low             improved           unimproved   \n",
       "2                  Low             improved           unimproved   \n",
       "3                  Low             improved           unimproved   \n",
       "4                  Low             improved             improved   \n",
       "\n",
       "  M15_recoded_further V312_recoded_further  \n",
       "0                home                   no  \n",
       "1                home                   no  \n",
       "2                home                   no  \n",
       "3                home                   no  \n",
       "4                home                   no  "
      ]
     },
     "execution_count": 60,
     "metadata": {},
     "output_type": "execute_result"
    }
   ],
   "source": [
    "# Final checks\n",
    "data_cat_prep1.head()"
   ]
  },
  {
   "cell_type": "code",
   "execution_count": 61,
   "id": "656e4e21-5a16-4780-92d1-ddb0f6667cd4",
   "metadata": {
    "tags": []
   },
   "outputs": [
    {
     "data": {
      "text/plain": [
       "B4_recoded                 0\n",
       "V025_recoded               0\n",
       "V106_recoded               0\n",
       "M17_recoded                0\n",
       "M70_recoded             3453\n",
       "V024_recoded               0\n",
       "V190_recoded_further       0\n",
       "V113_recoded_further     133\n",
       "V116_recoded_further     133\n",
       "M15_recoded_further        0\n",
       "V312_recoded_further       0\n",
       "dtype: int64"
      ]
     },
     "execution_count": 61,
     "metadata": {},
     "output_type": "execute_result"
    }
   ],
   "source": [
    "data_cat_prep1.isnull().sum()"
   ]
  },
  {
   "cell_type": "markdown",
   "id": "4e0be3a8-04bb-474a-900a-aa48dbaadbb6",
   "metadata": {},
   "source": [
    "# 4. Clean numeric features"
   ]
  },
  {
   "cell_type": "code",
   "execution_count": 62,
   "id": "4ac61c2f-25c9-44fd-9011-a9a69da43d49",
   "metadata": {
    "tags": []
   },
   "outputs": [
    {
     "data": {
      "text/html": [
       "<div>\n",
       "<style scoped>\n",
       "    .dataframe tbody tr th:only-of-type {\n",
       "        vertical-align: middle;\n",
       "    }\n",
       "\n",
       "    .dataframe tbody tr th {\n",
       "        vertical-align: top;\n",
       "    }\n",
       "\n",
       "    .dataframe thead th {\n",
       "        text-align: right;\n",
       "    }\n",
       "</style>\n",
       "<table border=\"1\" class=\"dataframe\">\n",
       "  <thead>\n",
       "    <tr style=\"text-align: right;\">\n",
       "      <th></th>\n",
       "      <th>VariableName</th>\n",
       "      <th>VariableCode</th>\n",
       "      <th>VariableType</th>\n",
       "      <th>Query</th>\n",
       "    </tr>\n",
       "  </thead>\n",
       "  <tbody>\n",
       "    <tr>\n",
       "      <th>2</th>\n",
       "      <td>BirthOrder</td>\n",
       "      <td>BORD</td>\n",
       "      <td>feature_numeric</td>\n",
       "      <td>select * from \".\\ET_2016_DHS_07082021_1932_581...</td>\n",
       "    </tr>\n",
       "    <tr>\n",
       "      <th>3</th>\n",
       "      <td>MotherAgeAtFirstBirth</td>\n",
       "      <td>V212</td>\n",
       "      <td>feature_numeric</td>\n",
       "      <td>select * from \".\\ET_2016_DHS_07082021_1932_581...</td>\n",
       "    </tr>\n",
       "    <tr>\n",
       "      <th>4</th>\n",
       "      <td>AgeOfMother</td>\n",
       "      <td>V012</td>\n",
       "      <td>feature_numeric</td>\n",
       "      <td>select * from \".\\ET_2016_DHS_07082021_1932_581...</td>\n",
       "    </tr>\n",
       "    <tr>\n",
       "      <th>9</th>\n",
       "      <td>TimeToWaterSource</td>\n",
       "      <td>V115</td>\n",
       "      <td>feature_numeric</td>\n",
       "      <td>select * from \".\\ET_2016_DHS_07082021_1932_581...</td>\n",
       "    </tr>\n",
       "    <tr>\n",
       "      <th>14</th>\n",
       "      <td>AntenatalCareVisits</td>\n",
       "      <td>M14</td>\n",
       "      <td>feature_numeric</td>\n",
       "      <td>select * from \".\\ET_2016_DHS_07082021_1932_581...</td>\n",
       "    </tr>\n",
       "    <tr>\n",
       "      <th>17</th>\n",
       "      <td>BreastFed</td>\n",
       "      <td>V426</td>\n",
       "      <td>feature_numeric</td>\n",
       "      <td>select * from \".\\ET_2016_DHS_07082021_1932_581...</td>\n",
       "    </tr>\n",
       "    <tr>\n",
       "      <th>18</th>\n",
       "      <td>HouseholdSize</td>\n",
       "      <td>V136</td>\n",
       "      <td>feature_numeric</td>\n",
       "      <td>select * from \".\\ET_2016_DHS_07082021_1932_581...</td>\n",
       "    </tr>\n",
       "  </tbody>\n",
       "</table>\n",
       "</div>"
      ],
      "text/plain": [
       "             VariableName VariableCode     VariableType  \\\n",
       "2              BirthOrder         BORD  feature_numeric   \n",
       "3   MotherAgeAtFirstBirth         V212  feature_numeric   \n",
       "4             AgeOfMother         V012  feature_numeric   \n",
       "9       TimeToWaterSource         V115  feature_numeric   \n",
       "14    AntenatalCareVisits          M14  feature_numeric   \n",
       "17              BreastFed         V426  feature_numeric   \n",
       "18          HouseholdSize         V136  feature_numeric   \n",
       "\n",
       "                                                Query  \n",
       "2   select * from \".\\ET_2016_DHS_07082021_1932_581...  \n",
       "3   select * from \".\\ET_2016_DHS_07082021_1932_581...  \n",
       "4   select * from \".\\ET_2016_DHS_07082021_1932_581...  \n",
       "9   select * from \".\\ET_2016_DHS_07082021_1932_581...  \n",
       "14  select * from \".\\ET_2016_DHS_07082021_1932_581...  \n",
       "17  select * from \".\\ET_2016_DHS_07082021_1932_581...  \n",
       "18  select * from \".\\ET_2016_DHS_07082021_1932_581...  "
      ]
     },
     "execution_count": 62,
     "metadata": {},
     "output_type": "execute_result"
    }
   ],
   "source": [
    "# Get schema definition for numeric features\n",
    "schema_definition_num = schema_definition[schema_definition['VariableType'] == 'feature_numeric']\n",
    "schema_definition_num"
   ]
  },
  {
   "cell_type": "code",
   "execution_count": 63,
   "id": "176d7513-6f27-4f1d-9f6d-12b75ff14b05",
   "metadata": {
    "tags": []
   },
   "outputs": [
    {
     "data": {
      "text/plain": [
       "['BORD', 'V212', 'V012', 'V115', 'M14', 'V426', 'V136']"
      ]
     },
     "execution_count": 63,
     "metadata": {},
     "output_type": "execute_result"
    }
   ],
   "source": [
    "# Get numeric features from schema definition table\n",
    "features_num = schema_definition_num['VariableCode'].to_list()\n",
    "features_num"
   ]
  },
  {
   "cell_type": "code",
   "execution_count": 64,
   "id": "0e502dd2-8ed8-42b5-ab36-61067692ff32",
   "metadata": {
    "tags": []
   },
   "outputs": [
    {
     "data": {
      "text/html": [
       "<div>\n",
       "<style scoped>\n",
       "    .dataframe tbody tr th:only-of-type {\n",
       "        vertical-align: middle;\n",
       "    }\n",
       "\n",
       "    .dataframe tbody tr th {\n",
       "        vertical-align: top;\n",
       "    }\n",
       "\n",
       "    .dataframe thead th {\n",
       "        text-align: right;\n",
       "    }\n",
       "</style>\n",
       "<table border=\"1\" class=\"dataframe\">\n",
       "  <thead>\n",
       "    <tr style=\"text-align: right;\">\n",
       "      <th></th>\n",
       "      <th>BORD</th>\n",
       "      <th>V212</th>\n",
       "      <th>V012</th>\n",
       "      <th>V115</th>\n",
       "      <th>M14</th>\n",
       "      <th>V426</th>\n",
       "      <th>V136</th>\n",
       "    </tr>\n",
       "  </thead>\n",
       "  <tbody>\n",
       "    <tr>\n",
       "      <th>0</th>\n",
       "      <td>8</td>\n",
       "      <td>15</td>\n",
       "      <td>38</td>\n",
       "      <td>45</td>\n",
       "      <td>0.0</td>\n",
       "      <td>102.0</td>\n",
       "      <td>11</td>\n",
       "    </tr>\n",
       "    <tr>\n",
       "      <th>1</th>\n",
       "      <td>7</td>\n",
       "      <td>15</td>\n",
       "      <td>38</td>\n",
       "      <td>45</td>\n",
       "      <td>NaN</td>\n",
       "      <td>102.0</td>\n",
       "      <td>11</td>\n",
       "    </tr>\n",
       "    <tr>\n",
       "      <th>2</th>\n",
       "      <td>6</td>\n",
       "      <td>15</td>\n",
       "      <td>38</td>\n",
       "      <td>45</td>\n",
       "      <td>NaN</td>\n",
       "      <td>102.0</td>\n",
       "      <td>11</td>\n",
       "    </tr>\n",
       "    <tr>\n",
       "      <th>3</th>\n",
       "      <td>8</td>\n",
       "      <td>24</td>\n",
       "      <td>42</td>\n",
       "      <td>30</td>\n",
       "      <td>0.0</td>\n",
       "      <td>101.0</td>\n",
       "      <td>8</td>\n",
       "    </tr>\n",
       "    <tr>\n",
       "      <th>4</th>\n",
       "      <td>12</td>\n",
       "      <td>21</td>\n",
       "      <td>46</td>\n",
       "      <td>40</td>\n",
       "      <td>0.0</td>\n",
       "      <td>0.0</td>\n",
       "      <td>11</td>\n",
       "    </tr>\n",
       "  </tbody>\n",
       "</table>\n",
       "</div>"
      ],
      "text/plain": [
       "   BORD  V212  V012  V115  M14   V426  V136\n",
       "0     8    15    38    45  0.0  102.0    11\n",
       "1     7    15    38    45  NaN  102.0    11\n",
       "2     6    15    38    45  NaN  102.0    11\n",
       "3     8    24    42    30  0.0  101.0     8\n",
       "4    12    21    46    40  0.0    0.0    11"
      ]
     },
     "execution_count": 64,
     "metadata": {},
     "output_type": "execute_result"
    }
   ],
   "source": [
    "# Get data with numeric features\n",
    "data_num = data[features_num]\n",
    "\n",
    "data_num.head()"
   ]
  },
  {
   "cell_type": "code",
   "execution_count": 65,
   "id": "55fc3fcf-9567-4887-ac6e-9d357acb4ebc",
   "metadata": {
    "tags": []
   },
   "outputs": [
    {
     "data": {
      "text/plain": [
       "(10641, 7)"
      ]
     },
     "execution_count": 65,
     "metadata": {},
     "output_type": "execute_result"
    }
   ],
   "source": [
    "data_num.shape"
   ]
  },
  {
   "cell_type": "code",
   "execution_count": 66,
   "id": "09cf4bcd-06fa-4f2a-8777-6c1bc9af083e",
   "metadata": {
    "tags": []
   },
   "outputs": [
    {
     "name": "stdout",
     "output_type": "stream",
     "text": [
      "\n",
      "INFO - Processing var=BORD...\n",
      "\tPossible values: \n",
      "\t{}\n",
      "\n",
      "INFO - Processing var=V212...\n",
      "\tPossible values: \n",
      "\t{}\n",
      "\n",
      "INFO - Processing var=V012...\n",
      "\tPossible values: \n",
      "\t{}\n",
      "\n",
      "INFO - Processing var=V115...\n",
      "\tPossible values: \n",
      "\t{996: 'On premises', 997: 'Not a dejure resident', 998: \"Don't know\", 999: 'Missing'}\n",
      "\n",
      "INFO - Processing var=M14...\n",
      "\tPossible values: \n",
      "\t{0: 'No antenatal visits', 98: \"Don't know\", 99: 'Missing'}\n",
      "\n",
      "INFO - Processing var=V426...\n",
      "\tPossible values: \n",
      "\t{0: 'Immediately', 100: 'Within first hour', 101: 'Hours: 1', 199: 'Hours: number missing', 201: 'Days: 1', 299: 'Days: number missing', 999: 'Missing'}\n",
      "\n",
      "INFO - Processing var=V136...\n",
      "\tPossible values: \n",
      "\t{}\n"
     ]
    }
   ],
   "source": [
    "############################################################################################################\n",
    "# Let's first check what values do numeric variables take!\n",
    "############################################################################################################\n",
    "for var in features_num:\n",
    "    print(\"\\nINFO - Processing var={}...\".format(var))\n",
    "    \n",
    "    try:\n",
    "        # Get metadata data for selected variable\n",
    "        mtd = metadata_variable_value[metadata_variable_value['Name'] == var]\n",
    "        mtd = mtd[~mtd['ValueDesc'].isin(['Not applicable'])]\n",
    "        \n",
    "        # Added for numeric features since we're interested to clean missing values!\n",
    "        mtd = mtd[mtd['ValueDesc'].notnull()]\n",
    "        \n",
    "        # Get recoding values\n",
    "        mtd_dict = dict(zip(mtd['Value'].astype(int), mtd['ValueDesc']))\n",
    "        print(\"\\tPossible values: \\n\\t{}\".format(mtd_dict))\n",
    "    except Exception as err:\n",
    "        print(\"\\tERROR - Failed due to {}\".format(traceback.print_exc()))\n",
    "        \n",
    "        continue"
   ]
  },
  {
   "cell_type": "markdown",
   "id": "838172c9-3696-485c-ad68-bd6927954ce8",
   "metadata": {},
   "source": [
    "### FINDINGS\n",
    "\n",
    "* V115 - {996: 'On premises', 997: 'Not a dejure resident', 998: \"Don't know\", 999: 'Missing'}\n",
    "* M14 - {0: 'No antenatal visits', 98: \"Don't know\", 99: 'Missing'}\n",
    "* V445 - {9998: 'Flagged cases', 9999: 'Missing'}\n",
    "* V426 - {0: 'Immediately', 100: 'Within first hour', 101: 'Hours: 1', 199: 'Hours: number missing', 201: 'Days: 1', 299: 'Days: number missing', 999: 'Missing'}"
   ]
  },
  {
   "cell_type": "code",
   "execution_count": 67,
   "id": "a8950580-17ca-4ff1-9dbe-b84d0c803f0e",
   "metadata": {
    "tags": []
   },
   "outputs": [
    {
     "data": {
      "text/plain": [
       "996    1789\n",
       "30     1679\n",
       "60     1432\n",
       "10     1074\n",
       "20      762\n",
       "       ... \n",
       "560       1\n",
       "340       1\n",
       "14        1\n",
       "260       1\n",
       "51        1\n",
       "Name: V115, Length: 69, dtype: int64"
      ]
     },
     "execution_count": 67,
     "metadata": {},
     "output_type": "execute_result"
    }
   ],
   "source": [
    "# Clean V115 (Time to water source) variable    ###############################################################################################\n",
    "# V115 - {996: 'On premises', 997: 'Not a dejure resident', 998: \"Don't know\", 999: 'Missing'}\n",
    "\n",
    "# Check variable distribution\n",
    "data_num['V115'].value_counts(dropna=False)"
   ]
  },
  {
   "cell_type": "code",
   "execution_count": 68,
   "id": "3ab1e0cf-bbc4-46cb-8b83-2fe9ae157a38",
   "metadata": {
    "tags": []
   },
   "outputs": [
    {
     "data": {
      "text/plain": [
       "V115\n",
       "996     1789\n",
       "997      133\n",
       "998       49\n",
       "dtype: int64"
      ]
     },
     "execution_count": 68,
     "metadata": {},
     "output_type": "execute_result"
    }
   ],
   "source": [
    "data_num[data_num['V115'].isin([996, 997, 998, 998])][['V115']].value_counts()"
   ]
  },
  {
   "cell_type": "code",
   "execution_count": 69,
   "id": "fad58890-b2ea-4fd5-a014-d9d3931276e3",
   "metadata": {
    "tags": []
   },
   "outputs": [
    {
     "data": {
      "text/plain": [
       "V115  V115_recoded\n",
       "996   0.0             1789\n",
       "997   NaN              133\n",
       "998   NaN               49\n",
       "dtype: int64"
      ]
     },
     "execution_count": 69,
     "metadata": {},
     "output_type": "execute_result"
    }
   ],
   "source": [
    "# Recoding rule for V115 (Time to water source)\n",
    "# V115 = 996 --> V115 = 0 (on premises)\n",
    "# V115 in [997, 998, 999]  --> V115 = None (missing indicator)\n",
    "data_num['V115_recoded'] = np.where(data_num['V115'].isnull(),\n",
    "                                    np.NaN,\n",
    "                                    np.where(data_num['V115'].isin([997, 998, 999]),\n",
    "                                             np.NaN,\n",
    "                                             np.where(data_num['V115'] == 996,\n",
    "                                                      0,\n",
    "                                                      data_num['V115'])))\n",
    "\n",
    "# Sanity checks\n",
    "data_num[data_num['V115'].isin([996, 997, 998, 998])][['V115', 'V115_recoded']].value_counts(dropna=False)"
   ]
  },
  {
   "cell_type": "code",
   "execution_count": 70,
   "id": "749ffdf5-689d-44c5-830a-23996f785cef",
   "metadata": {
    "tags": []
   },
   "outputs": [
    {
     "data": {
      "text/plain": [
       "(10641, 7)"
      ]
     },
     "execution_count": 70,
     "metadata": {},
     "output_type": "execute_result"
    }
   ],
   "source": [
    "# Drop original variable after recoding\n",
    "data_num.drop(['V115'], axis='columns', inplace=True)\n",
    "\n",
    "data_num.shape"
   ]
  },
  {
   "cell_type": "code",
   "execution_count": 71,
   "id": "e8825fac-f767-42d5-8847-893fb27599e1",
   "metadata": {
    "tags": []
   },
   "outputs": [
    {
     "data": {
      "text/plain": [
       "NaN     3448\n",
       "0.0     2481\n",
       "3.0     1187\n",
       "4.0     1136\n",
       "5.0      621\n",
       "2.0      563\n",
       "6.0      402\n",
       "1.0      342\n",
       "7.0      187\n",
       "8.0      108\n",
       "9.0       63\n",
       "10.0      39\n",
       "98.0      19\n",
       "12.0      12\n",
       "20.0      10\n",
       "11.0       8\n",
       "13.0       6\n",
       "14.0       4\n",
       "15.0       4\n",
       "16.0       1\n",
       "Name: M14, dtype: int64"
      ]
     },
     "execution_count": 71,
     "metadata": {},
     "output_type": "execute_result"
    }
   ],
   "source": [
    "# Clean M14 (Antenatal care visits) variable    ###############################################################################################\n",
    "# M14 - {0: 'No antenatal visits', 98: \"Don't know\", 99: 'Missing'}\n",
    "\n",
    "# Check variable distribution\n",
    "data_num['M14'].value_counts(dropna=False)"
   ]
  },
  {
   "cell_type": "code",
   "execution_count": 72,
   "id": "cc3d82e0-d7b0-402b-85fc-8388aab29120",
   "metadata": {
    "tags": []
   },
   "outputs": [
    {
     "data": {
      "text/plain": [
       "M14   M14_recoded\n",
       "NaN   NaN            3448\n",
       "0.0   0.0            2481\n",
       "3.0   3.0            1187\n",
       "4.0   4.0            1136\n",
       "5.0   5.0             621\n",
       "2.0   2.0             563\n",
       "6.0   6.0             402\n",
       "1.0   1.0             342\n",
       "7.0   7.0             187\n",
       "8.0   8.0             108\n",
       "9.0   9.0              63\n",
       "10.0  10.0             39\n",
       "98.0  NaN              19\n",
       "12.0  12.0             12\n",
       "20.0  20.0             10\n",
       "11.0  11.0              8\n",
       "13.0  13.0              6\n",
       "14.0  14.0              4\n",
       "15.0  15.0              4\n",
       "16.0  16.0              1\n",
       "dtype: int64"
      ]
     },
     "execution_count": 72,
     "metadata": {},
     "output_type": "execute_result"
    }
   ],
   "source": [
    "# Recoding rule for M14 (Antenatal care visits)\n",
    "# M14 in [98, 99]  --> M14 = None (missing indicator)\n",
    "data_num['M14_recoded'] = np.where(data_num['M14'].isnull(),\n",
    "                                   np.NaN,\n",
    "                                   np.where(data_num['M14'].isin([98, 99]),\n",
    "                                            np.NaN,\n",
    "                                            data_num['M14']))\n",
    "\n",
    "# Sanity checks\n",
    "data_num[['M14', 'M14_recoded']].value_counts(dropna=False)"
   ]
  },
  {
   "cell_type": "code",
   "execution_count": 73,
   "id": "32329f36-7468-49c0-b142-b0fd2892cff5",
   "metadata": {
    "tags": []
   },
   "outputs": [
    {
     "data": {
      "text/plain": [
       "(10641, 7)"
      ]
     },
     "execution_count": 73,
     "metadata": {},
     "output_type": "execute_result"
    }
   ],
   "source": [
    "# Drop original variable after recoding\n",
    "data_num.drop(['M14'], axis='columns', inplace=True)\n",
    "\n",
    "data_num.shape"
   ]
  },
  {
   "cell_type": "code",
   "execution_count": 74,
   "id": "ba7fdcd8-3e11-4be8-b7dc-597b6520785e",
   "metadata": {
    "tags": []
   },
   "outputs": [
    {
     "data": {
      "text/plain": [
       "0.0      7051\n",
       "101.0     833\n",
       "NaN       403\n",
       "102.0     401\n",
       "100.0     392\n",
       "201.0     282\n",
       "103.0     223\n",
       "203.0     213\n",
       "202.0     204\n",
       "104.0     123\n",
       "112.0      91\n",
       "106.0      86\n",
       "105.0      72\n",
       "108.0      47\n",
       "110.0      36\n",
       "204.0      32\n",
       "107.0      25\n",
       "120.0      18\n",
       "205.0      17\n",
       "109.0      13\n",
       "207.0      10\n",
       "111.0       9\n",
       "116.0       8\n",
       "118.0       7\n",
       "215.0       6\n",
       "206.0       5\n",
       "114.0       5\n",
       "117.0       5\n",
       "123.0       3\n",
       "208.0       3\n",
       "220.0       3\n",
       "212.0       3\n",
       "121.0       3\n",
       "122.0       2\n",
       "210.0       2\n",
       "223.0       2\n",
       "115.0       1\n",
       "214.0       1\n",
       "209.0       1\n",
       "Name: V426, dtype: int64"
      ]
     },
     "execution_count": 74,
     "metadata": {},
     "output_type": "execute_result"
    }
   ],
   "source": [
    "# Clean V426 (Breast fed) variable    ###############################################################################################\n",
    "# V426 - {0: 'Immediately', 100: 'Within first hour', 101: 'Hours: 1', 199: 'Hours: number missing', 201: 'Days: 1', 299: 'Days: number missing', 999: 'Missing'}\n",
    "\n",
    "# Check variable distribution\n",
    "data_num['V426'].value_counts(dropna=False)"
   ]
  },
  {
   "cell_type": "code",
   "execution_count": 75,
   "id": "a75f9a76-e1bc-4e8d-af14-c503b334481e",
   "metadata": {
    "tags": []
   },
   "outputs": [
    {
     "data": {
      "text/plain": [
       "V426   V426_recoded\n",
       "0.0    0.0             7051\n",
       "101.0  101.0            833\n",
       "NaN    NaN              403\n",
       "102.0  102.0            401\n",
       "100.0  100.0            392\n",
       "201.0  201.0            282\n",
       "103.0  103.0            223\n",
       "203.0  203.0            213\n",
       "202.0  202.0            204\n",
       "104.0  104.0            123\n",
       "112.0  112.0             91\n",
       "106.0  106.0             86\n",
       "105.0  105.0             72\n",
       "108.0  108.0             47\n",
       "110.0  110.0             36\n",
       "204.0  204.0             32\n",
       "107.0  107.0             25\n",
       "120.0  120.0             18\n",
       "205.0  205.0             17\n",
       "109.0  109.0             13\n",
       "207.0  207.0             10\n",
       "111.0  111.0              9\n",
       "116.0  116.0              8\n",
       "118.0  118.0              7\n",
       "215.0  215.0              6\n",
       "117.0  117.0              5\n",
       "206.0  206.0              5\n",
       "114.0  114.0              5\n",
       "123.0  123.0              3\n",
       "208.0  208.0              3\n",
       "212.0  212.0              3\n",
       "121.0  121.0              3\n",
       "220.0  220.0              3\n",
       "210.0  210.0              2\n",
       "223.0  223.0              2\n",
       "122.0  122.0              2\n",
       "115.0  115.0              1\n",
       "209.0  209.0              1\n",
       "214.0  214.0              1\n",
       "dtype: int64"
      ]
     },
     "execution_count": 75,
     "metadata": {},
     "output_type": "execute_result"
    }
   ],
   "source": [
    "# Recoding rule for V426 (Breast fed) variable\n",
    "# V426 in [199, 299, 999]  --> V426 = None (missing indicator)\n",
    "data_num['V426_recoded'] = np.where(data_num['V426'].isnull(),\n",
    "                                    np.NaN,\n",
    "                                    np.where(data_num['V426'].isin([199, 299, 999]),\n",
    "                                             np.NaN,\n",
    "                                             data_num['V426']))\n",
    "\n",
    "# Sanity checks\n",
    "data_num[['V426', 'V426_recoded']].value_counts(dropna=False)"
   ]
  },
  {
   "cell_type": "code",
   "execution_count": 76,
   "id": "c6d03da6-60ac-4061-8ec5-a16bd21adbf5",
   "metadata": {
    "tags": []
   },
   "outputs": [
    {
     "data": {
      "text/plain": [
       "(10641, 7)"
      ]
     },
     "execution_count": 76,
     "metadata": {},
     "output_type": "execute_result"
    }
   ],
   "source": [
    "# Drop original variable after recoding\n",
    "data_num.drop(['V426'], axis='columns', inplace=True)\n",
    "\n",
    "data_num.shape"
   ]
  },
  {
   "cell_type": "markdown",
   "id": "8830f454-a089-46ee-8683-3f06c89d05e8",
   "metadata": {},
   "source": [
    "## 4.1 Further recoding of numeric features as suggested by Bitew et al (2020)"
   ]
  },
  {
   "cell_type": "code",
   "execution_count": 77,
   "id": "e62cefb6-9d11-4189-b75b-e405e4847161",
   "metadata": {},
   "outputs": [
    {
     "data": {
      "text/plain": [
       "0.0      7051\n",
       "101.0     833\n",
       "NaN       403\n",
       "102.0     401\n",
       "100.0     392\n",
       "201.0     282\n",
       "103.0     223\n",
       "203.0     213\n",
       "202.0     204\n",
       "104.0     123\n",
       "112.0      91\n",
       "106.0      86\n",
       "105.0      72\n",
       "108.0      47\n",
       "110.0      36\n",
       "204.0      32\n",
       "107.0      25\n",
       "120.0      18\n",
       "205.0      17\n",
       "109.0      13\n",
       "207.0      10\n",
       "111.0       9\n",
       "116.0       8\n",
       "118.0       7\n",
       "215.0       6\n",
       "206.0       5\n",
       "114.0       5\n",
       "117.0       5\n",
       "123.0       3\n",
       "208.0       3\n",
       "220.0       3\n",
       "212.0       3\n",
       "121.0       3\n",
       "122.0       2\n",
       "210.0       2\n",
       "223.0       2\n",
       "115.0       1\n",
       "214.0       1\n",
       "209.0       1\n",
       "Name: V426_recoded, dtype: int64"
      ]
     },
     "execution_count": 77,
     "metadata": {},
     "output_type": "execute_result"
    }
   ],
   "source": [
    "# Let's further recode V426 (Breast fed) variable as suggested by Bitew et al (2020)\n",
    "# V426 - {0: 'Immediately', 100: 'Within first hour', 101: 'Hours: 1', 201: 'Days: 1'}\n",
    "data_num['V426_recoded'].value_counts(dropna=False)"
   ]
  },
  {
   "cell_type": "code",
   "execution_count": 78,
   "id": "386256ac-7942-4831-9d0b-ad106e6dc935",
   "metadata": {
    "tags": []
   },
   "outputs": [
    {
     "data": {
      "text/plain": [
       "V426_recoded  V426_recoded_further         \n",
       "0.0           Within an hour of birth          7051\n",
       "101.0         Greater than an hour of birth     833\n",
       "NaN           nan                               403\n",
       "102.0         Greater than an hour of birth     401\n",
       "100.0         Within an hour of birth           392\n",
       "201.0         Greater than an hour of birth     282\n",
       "103.0         Greater than an hour of birth     223\n",
       "203.0         Greater than an hour of birth     213\n",
       "202.0         Greater than an hour of birth     204\n",
       "104.0         Greater than an hour of birth     123\n",
       "112.0         Greater than an hour of birth      91\n",
       "106.0         Greater than an hour of birth      86\n",
       "105.0         Greater than an hour of birth      72\n",
       "108.0         Greater than an hour of birth      47\n",
       "110.0         Greater than an hour of birth      36\n",
       "204.0         Greater than an hour of birth      32\n",
       "107.0         Greater than an hour of birth      25\n",
       "120.0         Greater than an hour of birth      18\n",
       "205.0         Greater than an hour of birth      17\n",
       "109.0         Greater than an hour of birth      13\n",
       "207.0         Greater than an hour of birth      10\n",
       "111.0         Greater than an hour of birth       9\n",
       "116.0         Greater than an hour of birth       8\n",
       "118.0         Greater than an hour of birth       7\n",
       "215.0         Greater than an hour of birth       6\n",
       "117.0         Greater than an hour of birth       5\n",
       "206.0         Greater than an hour of birth       5\n",
       "114.0         Greater than an hour of birth       5\n",
       "123.0         Greater than an hour of birth       3\n",
       "208.0         Greater than an hour of birth       3\n",
       "212.0         Greater than an hour of birth       3\n",
       "121.0         Greater than an hour of birth       3\n",
       "220.0         Greater than an hour of birth       3\n",
       "210.0         Greater than an hour of birth       2\n",
       "223.0         Greater than an hour of birth       2\n",
       "122.0         Greater than an hour of birth       2\n",
       "115.0         Greater than an hour of birth       1\n",
       "209.0         Greater than an hour of birth       1\n",
       "214.0         Greater than an hour of birth       1\n",
       "dtype: int64"
      ]
     },
     "execution_count": 78,
     "metadata": {},
     "output_type": "execute_result"
    }
   ],
   "source": [
    "# Recoding rule as suggested by Bitew et al (2020)\n",
    "# - Within an hour of birth\n",
    "# - Greater than an hour of birth\n",
    "data_num['V426_recoded_further'] = np.where(data_num['V426_recoded'].isnull(),\n",
    "                                            np.NaN,\n",
    "                                            np.where(data_num['V426_recoded'].isin([0, 100]),\n",
    "                                                     'Within an hour of birth',\n",
    "                                                     'Greater than an hour of birth'))\n",
    "\n",
    "# Sanity checks\n",
    "data_num[['V426_recoded', 'V426_recoded_further']].value_counts(dropna=False)"
   ]
  },
  {
   "cell_type": "code",
   "execution_count": 79,
   "id": "a23ff11a-3050-46aa-9f19-bf4a7f26044c",
   "metadata": {
    "tags": []
   },
   "outputs": [
    {
     "data": {
      "text/plain": [
       "(10641, 7)"
      ]
     },
     "execution_count": 79,
     "metadata": {},
     "output_type": "execute_result"
    }
   ],
   "source": [
    "# Drop original variable after recoding\n",
    "data_num.drop(['V426_recoded'], axis='columns', inplace=True)\n",
    "\n",
    "data_num.shape"
   ]
  },
  {
   "cell_type": "code",
   "execution_count": 80,
   "id": "dcdb2b6f-0c65-422e-8b5a-8336e12ad837",
   "metadata": {
    "tags": []
   },
   "outputs": [],
   "source": [
    "# Update schema definition table since variable type has been changed from numeric to categorical\n",
    "schema_definition.loc[schema_definition['VariableCode'] == 'V426', 'VariableType'] = 'feature_categorical'"
   ]
  },
  {
   "cell_type": "code",
   "execution_count": 81,
   "id": "2ef20afe-2da5-4dfc-9a62-01ceaf097f50",
   "metadata": {
    "tags": []
   },
   "outputs": [
    {
     "data": {
      "text/html": [
       "<div>\n",
       "<style scoped>\n",
       "    .dataframe tbody tr th:only-of-type {\n",
       "        vertical-align: middle;\n",
       "    }\n",
       "\n",
       "    .dataframe tbody tr th {\n",
       "        vertical-align: top;\n",
       "    }\n",
       "\n",
       "    .dataframe thead th {\n",
       "        text-align: right;\n",
       "    }\n",
       "</style>\n",
       "<table border=\"1\" class=\"dataframe\">\n",
       "  <thead>\n",
       "    <tr style=\"text-align: right;\">\n",
       "      <th></th>\n",
       "      <th>VariableName</th>\n",
       "      <th>VariableCode</th>\n",
       "      <th>VariableType</th>\n",
       "      <th>Query</th>\n",
       "    </tr>\n",
       "  </thead>\n",
       "  <tbody>\n",
       "    <tr>\n",
       "      <th>0</th>\n",
       "      <td>HasChildDiedU5</td>\n",
       "      <td>B7, B8, B13, B19, HW1</td>\n",
       "      <td>label</td>\n",
       "      <td>select * from \".\\ET_2016_DHS_07082021_1932_581...</td>\n",
       "    </tr>\n",
       "    <tr>\n",
       "      <th>1</th>\n",
       "      <td>ChildSex</td>\n",
       "      <td>B4</td>\n",
       "      <td>feature_categorical</td>\n",
       "      <td>select * from \".\\ET_2016_DHS_07082021_1932_581...</td>\n",
       "    </tr>\n",
       "    <tr>\n",
       "      <th>2</th>\n",
       "      <td>BirthOrder</td>\n",
       "      <td>BORD</td>\n",
       "      <td>feature_numeric</td>\n",
       "      <td>select * from \".\\ET_2016_DHS_07082021_1932_581...</td>\n",
       "    </tr>\n",
       "    <tr>\n",
       "      <th>3</th>\n",
       "      <td>MotherAgeAtFirstBirth</td>\n",
       "      <td>V212</td>\n",
       "      <td>feature_numeric</td>\n",
       "      <td>select * from \".\\ET_2016_DHS_07082021_1932_581...</td>\n",
       "    </tr>\n",
       "    <tr>\n",
       "      <th>4</th>\n",
       "      <td>AgeOfMother</td>\n",
       "      <td>V012</td>\n",
       "      <td>feature_numeric</td>\n",
       "      <td>select * from \".\\ET_2016_DHS_07082021_1932_581...</td>\n",
       "    </tr>\n",
       "    <tr>\n",
       "      <th>5</th>\n",
       "      <td>Residence</td>\n",
       "      <td>V025</td>\n",
       "      <td>feature_categorical</td>\n",
       "      <td>select * from \".\\ET_2016_DHS_07082021_1932_581...</td>\n",
       "    </tr>\n",
       "    <tr>\n",
       "      <th>6</th>\n",
       "      <td>Education</td>\n",
       "      <td>V106</td>\n",
       "      <td>feature_categorical</td>\n",
       "      <td>select * from \".\\ET_2016_DHS_07082021_1932_581...</td>\n",
       "    </tr>\n",
       "    <tr>\n",
       "      <th>7</th>\n",
       "      <td>WealthIndex</td>\n",
       "      <td>V190</td>\n",
       "      <td>feature_categorical</td>\n",
       "      <td>select * from \".\\ET_2016_DHS_07082021_1932_581...</td>\n",
       "    </tr>\n",
       "    <tr>\n",
       "      <th>8</th>\n",
       "      <td>WaterSource</td>\n",
       "      <td>V113</td>\n",
       "      <td>feature_categorical</td>\n",
       "      <td>select * from \".\\ET_2016_DHS_07082021_1932_581...</td>\n",
       "    </tr>\n",
       "    <tr>\n",
       "      <th>9</th>\n",
       "      <td>TimeToWaterSource</td>\n",
       "      <td>V115</td>\n",
       "      <td>feature_numeric</td>\n",
       "      <td>select * from \".\\ET_2016_DHS_07082021_1932_581...</td>\n",
       "    </tr>\n",
       "    <tr>\n",
       "      <th>10</th>\n",
       "      <td>ToiletFacility</td>\n",
       "      <td>V116</td>\n",
       "      <td>feature_categorical</td>\n",
       "      <td>select * from \".\\ET_2016_DHS_07082021_1932_581...</td>\n",
       "    </tr>\n",
       "    <tr>\n",
       "      <th>11</th>\n",
       "      <td>PlaceOfDelivery</td>\n",
       "      <td>M15</td>\n",
       "      <td>feature_categorical</td>\n",
       "      <td>select * from \".\\ET_2016_DHS_07082021_1932_581...</td>\n",
       "    </tr>\n",
       "    <tr>\n",
       "      <th>12</th>\n",
       "      <td>DeliveryByCaesareanSection</td>\n",
       "      <td>M17</td>\n",
       "      <td>feature_categorical</td>\n",
       "      <td>select * from \".\\ET_2016_DHS_07082021_1932_581...</td>\n",
       "    </tr>\n",
       "    <tr>\n",
       "      <th>13</th>\n",
       "      <td>ContraceptiveUse</td>\n",
       "      <td>V312</td>\n",
       "      <td>feature_categorical</td>\n",
       "      <td>select * from \".\\ET_2016_DHS_07082021_1932_581...</td>\n",
       "    </tr>\n",
       "    <tr>\n",
       "      <th>14</th>\n",
       "      <td>AntenatalCareVisits</td>\n",
       "      <td>M14</td>\n",
       "      <td>feature_numeric</td>\n",
       "      <td>select * from \".\\ET_2016_DHS_07082021_1932_581...</td>\n",
       "    </tr>\n",
       "    <tr>\n",
       "      <th>15</th>\n",
       "      <td>PostnatalCareVisits</td>\n",
       "      <td>M70</td>\n",
       "      <td>feature_categorical</td>\n",
       "      <td>select * from \".\\ET_2016_DHS_07082021_1932_581...</td>\n",
       "    </tr>\n",
       "    <tr>\n",
       "      <th>16</th>\n",
       "      <td>Region</td>\n",
       "      <td>V024</td>\n",
       "      <td>feature_categorical</td>\n",
       "      <td>select * from \".\\ET_2016_DHS_07082021_1932_581...</td>\n",
       "    </tr>\n",
       "    <tr>\n",
       "      <th>17</th>\n",
       "      <td>BreastFed</td>\n",
       "      <td>V426</td>\n",
       "      <td>feature_categorical</td>\n",
       "      <td>select * from \".\\ET_2016_DHS_07082021_1932_581...</td>\n",
       "    </tr>\n",
       "    <tr>\n",
       "      <th>18</th>\n",
       "      <td>HouseholdSize</td>\n",
       "      <td>V136</td>\n",
       "      <td>feature_numeric</td>\n",
       "      <td>select * from \".\\ET_2016_DHS_07082021_1932_581...</td>\n",
       "    </tr>\n",
       "  </tbody>\n",
       "</table>\n",
       "</div>"
      ],
      "text/plain": [
       "                  VariableName           VariableCode         VariableType  \\\n",
       "0               HasChildDiedU5  B7, B8, B13, B19, HW1                label   \n",
       "1                     ChildSex                     B4  feature_categorical   \n",
       "2                   BirthOrder                   BORD      feature_numeric   \n",
       "3        MotherAgeAtFirstBirth                   V212      feature_numeric   \n",
       "4                  AgeOfMother                   V012      feature_numeric   \n",
       "5                    Residence                   V025  feature_categorical   \n",
       "6                    Education                   V106  feature_categorical   \n",
       "7                  WealthIndex                   V190  feature_categorical   \n",
       "8                  WaterSource                   V113  feature_categorical   \n",
       "9            TimeToWaterSource                   V115      feature_numeric   \n",
       "10              ToiletFacility                   V116  feature_categorical   \n",
       "11             PlaceOfDelivery                    M15  feature_categorical   \n",
       "12  DeliveryByCaesareanSection                    M17  feature_categorical   \n",
       "13            ContraceptiveUse                   V312  feature_categorical   \n",
       "14         AntenatalCareVisits                    M14      feature_numeric   \n",
       "15         PostnatalCareVisits                    M70  feature_categorical   \n",
       "16                      Region                   V024  feature_categorical   \n",
       "17                   BreastFed                   V426  feature_categorical   \n",
       "18               HouseholdSize                   V136      feature_numeric   \n",
       "\n",
       "                                                Query  \n",
       "0   select * from \".\\ET_2016_DHS_07082021_1932_581...  \n",
       "1   select * from \".\\ET_2016_DHS_07082021_1932_581...  \n",
       "2   select * from \".\\ET_2016_DHS_07082021_1932_581...  \n",
       "3   select * from \".\\ET_2016_DHS_07082021_1932_581...  \n",
       "4   select * from \".\\ET_2016_DHS_07082021_1932_581...  \n",
       "5   select * from \".\\ET_2016_DHS_07082021_1932_581...  \n",
       "6   select * from \".\\ET_2016_DHS_07082021_1932_581...  \n",
       "7   select * from \".\\ET_2016_DHS_07082021_1932_581...  \n",
       "8   select * from \".\\ET_2016_DHS_07082021_1932_581...  \n",
       "9   select * from \".\\ET_2016_DHS_07082021_1932_581...  \n",
       "10  select * from \".\\ET_2016_DHS_07082021_1932_581...  \n",
       "11  select * from \".\\ET_2016_DHS_07082021_1932_581...  \n",
       "12  select * from \".\\ET_2016_DHS_07082021_1932_581...  \n",
       "13  select * from \".\\ET_2016_DHS_07082021_1932_581...  \n",
       "14  select * from \".\\ET_2016_DHS_07082021_1932_581...  \n",
       "15  select * from \".\\ET_2016_DHS_07082021_1932_581...  \n",
       "16  select * from \".\\ET_2016_DHS_07082021_1932_581...  \n",
       "17  select * from \".\\ET_2016_DHS_07082021_1932_581...  \n",
       "18  select * from \".\\ET_2016_DHS_07082021_1932_581...  "
      ]
     },
     "execution_count": 81,
     "metadata": {},
     "output_type": "execute_result"
    }
   ],
   "source": [
    "schema_definition"
   ]
  },
  {
   "cell_type": "code",
   "execution_count": 82,
   "id": "2a2fc2f9-5d7e-4937-a999-43968cedcaa4",
   "metadata": {
    "tags": []
   },
   "outputs": [
    {
     "data": {
      "text/html": [
       "<div>\n",
       "<style scoped>\n",
       "    .dataframe tbody tr th:only-of-type {\n",
       "        vertical-align: middle;\n",
       "    }\n",
       "\n",
       "    .dataframe tbody tr th {\n",
       "        vertical-align: top;\n",
       "    }\n",
       "\n",
       "    .dataframe thead th {\n",
       "        text-align: right;\n",
       "    }\n",
       "</style>\n",
       "<table border=\"1\" class=\"dataframe\">\n",
       "  <thead>\n",
       "    <tr style=\"text-align: right;\">\n",
       "      <th></th>\n",
       "      <th>BORD</th>\n",
       "      <th>V212</th>\n",
       "      <th>V012</th>\n",
       "      <th>V136</th>\n",
       "      <th>V115_recoded</th>\n",
       "      <th>M14_recoded</th>\n",
       "      <th>V426_recoded_further</th>\n",
       "    </tr>\n",
       "  </thead>\n",
       "  <tbody>\n",
       "    <tr>\n",
       "      <th>0</th>\n",
       "      <td>8</td>\n",
       "      <td>15</td>\n",
       "      <td>38</td>\n",
       "      <td>11</td>\n",
       "      <td>45.0</td>\n",
       "      <td>0.0</td>\n",
       "      <td>Greater than an hour of birth</td>\n",
       "    </tr>\n",
       "    <tr>\n",
       "      <th>1</th>\n",
       "      <td>7</td>\n",
       "      <td>15</td>\n",
       "      <td>38</td>\n",
       "      <td>11</td>\n",
       "      <td>45.0</td>\n",
       "      <td>NaN</td>\n",
       "      <td>Greater than an hour of birth</td>\n",
       "    </tr>\n",
       "    <tr>\n",
       "      <th>2</th>\n",
       "      <td>6</td>\n",
       "      <td>15</td>\n",
       "      <td>38</td>\n",
       "      <td>11</td>\n",
       "      <td>45.0</td>\n",
       "      <td>NaN</td>\n",
       "      <td>Greater than an hour of birth</td>\n",
       "    </tr>\n",
       "    <tr>\n",
       "      <th>3</th>\n",
       "      <td>8</td>\n",
       "      <td>24</td>\n",
       "      <td>42</td>\n",
       "      <td>8</td>\n",
       "      <td>30.0</td>\n",
       "      <td>0.0</td>\n",
       "      <td>Greater than an hour of birth</td>\n",
       "    </tr>\n",
       "    <tr>\n",
       "      <th>4</th>\n",
       "      <td>12</td>\n",
       "      <td>21</td>\n",
       "      <td>46</td>\n",
       "      <td>11</td>\n",
       "      <td>40.0</td>\n",
       "      <td>0.0</td>\n",
       "      <td>Within an hour of birth</td>\n",
       "    </tr>\n",
       "  </tbody>\n",
       "</table>\n",
       "</div>"
      ],
      "text/plain": [
       "   BORD  V212  V012  V136  V115_recoded  M14_recoded  \\\n",
       "0     8    15    38    11          45.0          0.0   \n",
       "1     7    15    38    11          45.0          NaN   \n",
       "2     6    15    38    11          45.0          NaN   \n",
       "3     8    24    42     8          30.0          0.0   \n",
       "4    12    21    46    11          40.0          0.0   \n",
       "\n",
       "            V426_recoded_further  \n",
       "0  Greater than an hour of birth  \n",
       "1  Greater than an hour of birth  \n",
       "2  Greater than an hour of birth  \n",
       "3  Greater than an hour of birth  \n",
       "4        Within an hour of birth  "
      ]
     },
     "execution_count": 82,
     "metadata": {},
     "output_type": "execute_result"
    }
   ],
   "source": [
    "data_num.head()"
   ]
  },
  {
   "cell_type": "code",
   "execution_count": 83,
   "id": "51097170-534e-4c8b-a1b1-f57f144a983a",
   "metadata": {
    "tags": []
   },
   "outputs": [
    {
     "data": {
      "text/plain": [
       "NaN     3467\n",
       "0.0     2481\n",
       "3.0     1187\n",
       "4.0     1136\n",
       "5.0      621\n",
       "2.0      563\n",
       "6.0      402\n",
       "1.0      342\n",
       "7.0      187\n",
       "8.0      108\n",
       "9.0       63\n",
       "10.0      39\n",
       "12.0      12\n",
       "20.0      10\n",
       "11.0       8\n",
       "13.0       6\n",
       "15.0       4\n",
       "14.0       4\n",
       "16.0       1\n",
       "Name: M14_recoded, dtype: int64"
      ]
     },
     "execution_count": 83,
     "metadata": {},
     "output_type": "execute_result"
    }
   ],
   "source": [
    "# Let's further recode M14 (AnetnatalCareVisits) variable as suggested by Bitew et al (2020)\n",
    "data_num['M14_recoded'].value_counts(dropna=False)"
   ]
  },
  {
   "cell_type": "code",
   "execution_count": 84,
   "id": "ec528533-fab6-40c2-807a-078a30d3dc91",
   "metadata": {
    "tags": []
   },
   "outputs": [
    {
     "data": {
      "text/plain": [
       "M14_recoded  M14_recoded_further\n",
       "NaN          nan                    3467\n",
       "0.0          No visit               2481\n",
       "3.0          1 - 4 visits           1187\n",
       "4.0          1 - 4 visits           1136\n",
       "5.0          5+ visits               621\n",
       "2.0          1 - 4 visits            563\n",
       "6.0          5+ visits               402\n",
       "1.0          1 - 4 visits            342\n",
       "7.0          5+ visits               187\n",
       "8.0          5+ visits               108\n",
       "9.0          5+ visits                63\n",
       "10.0         5+ visits                39\n",
       "12.0         5+ visits                12\n",
       "20.0         5+ visits                10\n",
       "11.0         5+ visits                 8\n",
       "13.0         5+ visits                 6\n",
       "14.0         5+ visits                 4\n",
       "15.0         5+ visits                 4\n",
       "16.0         5+ visits                 1\n",
       "dtype: int64"
      ]
     },
     "execution_count": 84,
     "metadata": {},
     "output_type": "execute_result"
    }
   ],
   "source": [
    "# Recoding rule as suggested by Bitew et al (2020)\n",
    "# M14 - No visit, 1 - 4 visits, 5+ visits\n",
    "data_num['M14_recoded_further'] = np.where(data_num['M14_recoded'].isnull(),\n",
    "                                           np.NaN,\n",
    "                                           np.where(data_num['M14_recoded'] == 0,\n",
    "                                                    'No visit',\n",
    "                                                    np.where((data_num['M14_recoded'] >= 1) & (data_num['M14_recoded'] <= 4),\n",
    "                                                            '1 - 4 visits',\n",
    "                                                            np.where(data_num['M14_recoded'] >= 5,\n",
    "                                                                     '5+ visits',\n",
    "                                                                     data_num['M14_recoded']))))\n",
    "\n",
    "# Sanity checks\n",
    "data_num[['M14_recoded', 'M14_recoded_further']].value_counts(dropna=False)"
   ]
  },
  {
   "cell_type": "code",
   "execution_count": 85,
   "id": "2bc989a9-baa8-45ef-8364-67042278edb3",
   "metadata": {
    "tags": []
   },
   "outputs": [
    {
     "data": {
      "text/plain": [
       "(10641, 7)"
      ]
     },
     "execution_count": 85,
     "metadata": {},
     "output_type": "execute_result"
    }
   ],
   "source": [
    "# Drop original variable after recoding\n",
    "data_num.drop(['M14_recoded'], axis='columns', inplace=True)\n",
    "\n",
    "data_num.shape"
   ]
  },
  {
   "cell_type": "code",
   "execution_count": 86,
   "id": "4c144310-95ce-4981-b2cc-75b8e1b08936",
   "metadata": {
    "tags": []
   },
   "outputs": [],
   "source": [
    "# Update schema definition table since variable type has been changed from numeric to categorical\n",
    "schema_definition.loc[schema_definition['VariableCode'] == 'M14', 'VariableType'] = 'feature_categorical'"
   ]
  },
  {
   "cell_type": "code",
   "execution_count": 87,
   "id": "9ed80c4e-8171-469f-8ea0-d147177d91ca",
   "metadata": {
    "tags": []
   },
   "outputs": [
    {
     "data": {
      "text/html": [
       "<div>\n",
       "<style scoped>\n",
       "    .dataframe tbody tr th:only-of-type {\n",
       "        vertical-align: middle;\n",
       "    }\n",
       "\n",
       "    .dataframe tbody tr th {\n",
       "        vertical-align: top;\n",
       "    }\n",
       "\n",
       "    .dataframe thead th {\n",
       "        text-align: right;\n",
       "    }\n",
       "</style>\n",
       "<table border=\"1\" class=\"dataframe\">\n",
       "  <thead>\n",
       "    <tr style=\"text-align: right;\">\n",
       "      <th></th>\n",
       "      <th>VariableName</th>\n",
       "      <th>VariableCode</th>\n",
       "      <th>VariableType</th>\n",
       "      <th>Query</th>\n",
       "    </tr>\n",
       "  </thead>\n",
       "  <tbody>\n",
       "    <tr>\n",
       "      <th>0</th>\n",
       "      <td>HasChildDiedU5</td>\n",
       "      <td>B7, B8, B13, B19, HW1</td>\n",
       "      <td>label</td>\n",
       "      <td>select * from \".\\ET_2016_DHS_07082021_1932_581...</td>\n",
       "    </tr>\n",
       "    <tr>\n",
       "      <th>1</th>\n",
       "      <td>ChildSex</td>\n",
       "      <td>B4</td>\n",
       "      <td>feature_categorical</td>\n",
       "      <td>select * from \".\\ET_2016_DHS_07082021_1932_581...</td>\n",
       "    </tr>\n",
       "    <tr>\n",
       "      <th>2</th>\n",
       "      <td>BirthOrder</td>\n",
       "      <td>BORD</td>\n",
       "      <td>feature_numeric</td>\n",
       "      <td>select * from \".\\ET_2016_DHS_07082021_1932_581...</td>\n",
       "    </tr>\n",
       "    <tr>\n",
       "      <th>3</th>\n",
       "      <td>MotherAgeAtFirstBirth</td>\n",
       "      <td>V212</td>\n",
       "      <td>feature_numeric</td>\n",
       "      <td>select * from \".\\ET_2016_DHS_07082021_1932_581...</td>\n",
       "    </tr>\n",
       "    <tr>\n",
       "      <th>4</th>\n",
       "      <td>AgeOfMother</td>\n",
       "      <td>V012</td>\n",
       "      <td>feature_numeric</td>\n",
       "      <td>select * from \".\\ET_2016_DHS_07082021_1932_581...</td>\n",
       "    </tr>\n",
       "    <tr>\n",
       "      <th>5</th>\n",
       "      <td>Residence</td>\n",
       "      <td>V025</td>\n",
       "      <td>feature_categorical</td>\n",
       "      <td>select * from \".\\ET_2016_DHS_07082021_1932_581...</td>\n",
       "    </tr>\n",
       "    <tr>\n",
       "      <th>6</th>\n",
       "      <td>Education</td>\n",
       "      <td>V106</td>\n",
       "      <td>feature_categorical</td>\n",
       "      <td>select * from \".\\ET_2016_DHS_07082021_1932_581...</td>\n",
       "    </tr>\n",
       "    <tr>\n",
       "      <th>7</th>\n",
       "      <td>WealthIndex</td>\n",
       "      <td>V190</td>\n",
       "      <td>feature_categorical</td>\n",
       "      <td>select * from \".\\ET_2016_DHS_07082021_1932_581...</td>\n",
       "    </tr>\n",
       "    <tr>\n",
       "      <th>8</th>\n",
       "      <td>WaterSource</td>\n",
       "      <td>V113</td>\n",
       "      <td>feature_categorical</td>\n",
       "      <td>select * from \".\\ET_2016_DHS_07082021_1932_581...</td>\n",
       "    </tr>\n",
       "    <tr>\n",
       "      <th>9</th>\n",
       "      <td>TimeToWaterSource</td>\n",
       "      <td>V115</td>\n",
       "      <td>feature_numeric</td>\n",
       "      <td>select * from \".\\ET_2016_DHS_07082021_1932_581...</td>\n",
       "    </tr>\n",
       "    <tr>\n",
       "      <th>10</th>\n",
       "      <td>ToiletFacility</td>\n",
       "      <td>V116</td>\n",
       "      <td>feature_categorical</td>\n",
       "      <td>select * from \".\\ET_2016_DHS_07082021_1932_581...</td>\n",
       "    </tr>\n",
       "    <tr>\n",
       "      <th>11</th>\n",
       "      <td>PlaceOfDelivery</td>\n",
       "      <td>M15</td>\n",
       "      <td>feature_categorical</td>\n",
       "      <td>select * from \".\\ET_2016_DHS_07082021_1932_581...</td>\n",
       "    </tr>\n",
       "    <tr>\n",
       "      <th>12</th>\n",
       "      <td>DeliveryByCaesareanSection</td>\n",
       "      <td>M17</td>\n",
       "      <td>feature_categorical</td>\n",
       "      <td>select * from \".\\ET_2016_DHS_07082021_1932_581...</td>\n",
       "    </tr>\n",
       "    <tr>\n",
       "      <th>13</th>\n",
       "      <td>ContraceptiveUse</td>\n",
       "      <td>V312</td>\n",
       "      <td>feature_categorical</td>\n",
       "      <td>select * from \".\\ET_2016_DHS_07082021_1932_581...</td>\n",
       "    </tr>\n",
       "    <tr>\n",
       "      <th>14</th>\n",
       "      <td>AntenatalCareVisits</td>\n",
       "      <td>M14</td>\n",
       "      <td>feature_categorical</td>\n",
       "      <td>select * from \".\\ET_2016_DHS_07082021_1932_581...</td>\n",
       "    </tr>\n",
       "    <tr>\n",
       "      <th>15</th>\n",
       "      <td>PostnatalCareVisits</td>\n",
       "      <td>M70</td>\n",
       "      <td>feature_categorical</td>\n",
       "      <td>select * from \".\\ET_2016_DHS_07082021_1932_581...</td>\n",
       "    </tr>\n",
       "    <tr>\n",
       "      <th>16</th>\n",
       "      <td>Region</td>\n",
       "      <td>V024</td>\n",
       "      <td>feature_categorical</td>\n",
       "      <td>select * from \".\\ET_2016_DHS_07082021_1932_581...</td>\n",
       "    </tr>\n",
       "    <tr>\n",
       "      <th>17</th>\n",
       "      <td>BreastFed</td>\n",
       "      <td>V426</td>\n",
       "      <td>feature_categorical</td>\n",
       "      <td>select * from \".\\ET_2016_DHS_07082021_1932_581...</td>\n",
       "    </tr>\n",
       "    <tr>\n",
       "      <th>18</th>\n",
       "      <td>HouseholdSize</td>\n",
       "      <td>V136</td>\n",
       "      <td>feature_numeric</td>\n",
       "      <td>select * from \".\\ET_2016_DHS_07082021_1932_581...</td>\n",
       "    </tr>\n",
       "  </tbody>\n",
       "</table>\n",
       "</div>"
      ],
      "text/plain": [
       "                  VariableName           VariableCode         VariableType  \\\n",
       "0               HasChildDiedU5  B7, B8, B13, B19, HW1                label   \n",
       "1                     ChildSex                     B4  feature_categorical   \n",
       "2                   BirthOrder                   BORD      feature_numeric   \n",
       "3        MotherAgeAtFirstBirth                   V212      feature_numeric   \n",
       "4                  AgeOfMother                   V012      feature_numeric   \n",
       "5                    Residence                   V025  feature_categorical   \n",
       "6                    Education                   V106  feature_categorical   \n",
       "7                  WealthIndex                   V190  feature_categorical   \n",
       "8                  WaterSource                   V113  feature_categorical   \n",
       "9            TimeToWaterSource                   V115      feature_numeric   \n",
       "10              ToiletFacility                   V116  feature_categorical   \n",
       "11             PlaceOfDelivery                    M15  feature_categorical   \n",
       "12  DeliveryByCaesareanSection                    M17  feature_categorical   \n",
       "13            ContraceptiveUse                   V312  feature_categorical   \n",
       "14         AntenatalCareVisits                    M14  feature_categorical   \n",
       "15         PostnatalCareVisits                    M70  feature_categorical   \n",
       "16                      Region                   V024  feature_categorical   \n",
       "17                   BreastFed                   V426  feature_categorical   \n",
       "18               HouseholdSize                   V136      feature_numeric   \n",
       "\n",
       "                                                Query  \n",
       "0   select * from \".\\ET_2016_DHS_07082021_1932_581...  \n",
       "1   select * from \".\\ET_2016_DHS_07082021_1932_581...  \n",
       "2   select * from \".\\ET_2016_DHS_07082021_1932_581...  \n",
       "3   select * from \".\\ET_2016_DHS_07082021_1932_581...  \n",
       "4   select * from \".\\ET_2016_DHS_07082021_1932_581...  \n",
       "5   select * from \".\\ET_2016_DHS_07082021_1932_581...  \n",
       "6   select * from \".\\ET_2016_DHS_07082021_1932_581...  \n",
       "7   select * from \".\\ET_2016_DHS_07082021_1932_581...  \n",
       "8   select * from \".\\ET_2016_DHS_07082021_1932_581...  \n",
       "9   select * from \".\\ET_2016_DHS_07082021_1932_581...  \n",
       "10  select * from \".\\ET_2016_DHS_07082021_1932_581...  \n",
       "11  select * from \".\\ET_2016_DHS_07082021_1932_581...  \n",
       "12  select * from \".\\ET_2016_DHS_07082021_1932_581...  \n",
       "13  select * from \".\\ET_2016_DHS_07082021_1932_581...  \n",
       "14  select * from \".\\ET_2016_DHS_07082021_1932_581...  \n",
       "15  select * from \".\\ET_2016_DHS_07082021_1932_581...  \n",
       "16  select * from \".\\ET_2016_DHS_07082021_1932_581...  \n",
       "17  select * from \".\\ET_2016_DHS_07082021_1932_581...  \n",
       "18  select * from \".\\ET_2016_DHS_07082021_1932_581...  "
      ]
     },
     "execution_count": 87,
     "metadata": {},
     "output_type": "execute_result"
    }
   ],
   "source": [
    "schema_definition"
   ]
  },
  {
   "cell_type": "markdown",
   "id": "d7b91734-a37b-4ad4-971f-f6f881c8f755",
   "metadata": {},
   "source": [
    "# 5. Combine preprocessed data"
   ]
  },
  {
   "cell_type": "code",
   "execution_count": 88,
   "id": "08f79810-3db8-480c-8766-7015b0035af4",
   "metadata": {
    "tags": []
   },
   "outputs": [
    {
     "data": {
      "text/html": [
       "<div>\n",
       "<style scoped>\n",
       "    .dataframe tbody tr th:only-of-type {\n",
       "        vertical-align: middle;\n",
       "    }\n",
       "\n",
       "    .dataframe tbody tr th {\n",
       "        vertical-align: top;\n",
       "    }\n",
       "\n",
       "    .dataframe thead th {\n",
       "        text-align: right;\n",
       "    }\n",
       "</style>\n",
       "<table border=\"1\" class=\"dataframe\">\n",
       "  <thead>\n",
       "    <tr style=\"text-align: right;\">\n",
       "      <th></th>\n",
       "      <th>HasChildDiedU5</th>\n",
       "    </tr>\n",
       "  </thead>\n",
       "  <tbody>\n",
       "    <tr>\n",
       "      <th>0</th>\n",
       "      <td>0.0</td>\n",
       "    </tr>\n",
       "    <tr>\n",
       "      <th>1</th>\n",
       "      <td>0.0</td>\n",
       "    </tr>\n",
       "    <tr>\n",
       "      <th>2</th>\n",
       "      <td>0.0</td>\n",
       "    </tr>\n",
       "    <tr>\n",
       "      <th>3</th>\n",
       "      <td>1.0</td>\n",
       "    </tr>\n",
       "    <tr>\n",
       "      <th>4</th>\n",
       "      <td>0.0</td>\n",
       "    </tr>\n",
       "  </tbody>\n",
       "</table>\n",
       "</div>"
      ],
      "text/plain": [
       "   HasChildDiedU5\n",
       "0             0.0\n",
       "1             0.0\n",
       "2             0.0\n",
       "3             1.0\n",
       "4             0.0"
      ]
     },
     "execution_count": 88,
     "metadata": {},
     "output_type": "execute_result"
    }
   ],
   "source": [
    "# Filter final label / target data\n",
    "label_df_final = label_df[['HasChildDiedU5']]\n",
    "\n",
    "label_df_final.head()"
   ]
  },
  {
   "cell_type": "code",
   "execution_count": 89,
   "id": "d945ba0f-5f4c-4217-a89a-306580e73643",
   "metadata": {
    "tags": []
   },
   "outputs": [
    {
     "name": "stdout",
     "output_type": "stream",
     "text": [
      "label_df_final (10641, 1)\n",
      "data_cat_prep1 (10641, 11)\n",
      "data_num (10641, 7)\n",
      "data_preprocessed (10641, 19)\n"
     ]
    }
   ],
   "source": [
    "# Combine data about label, categorical features, and numeric features\n",
    "data_preprocessed = pd.concat([label_df_final, data_cat_prep1, data_num], axis='columns')\n",
    "\n",
    "print('label_df_final', label_df_final.shape)\n",
    "print('data_cat_prep1', data_cat_prep1.shape)\n",
    "print('data_num', data_num.shape)\n",
    "print('data_preprocessed', data_preprocessed.shape)"
   ]
  },
  {
   "cell_type": "code",
   "execution_count": 90,
   "id": "95e8ea3d-f710-4b20-bd6d-d42a7597913c",
   "metadata": {
    "tags": []
   },
   "outputs": [
    {
     "data": {
      "text/html": [
       "<div>\n",
       "<style scoped>\n",
       "    .dataframe tbody tr th:only-of-type {\n",
       "        vertical-align: middle;\n",
       "    }\n",
       "\n",
       "    .dataframe tbody tr th {\n",
       "        vertical-align: top;\n",
       "    }\n",
       "\n",
       "    .dataframe thead th {\n",
       "        text-align: right;\n",
       "    }\n",
       "</style>\n",
       "<table border=\"1\" class=\"dataframe\">\n",
       "  <thead>\n",
       "    <tr style=\"text-align: right;\">\n",
       "      <th></th>\n",
       "      <th>HasChildDiedU5</th>\n",
       "      <th>B4_recoded</th>\n",
       "      <th>V025_recoded</th>\n",
       "      <th>V106_recoded</th>\n",
       "      <th>M17_recoded</th>\n",
       "      <th>M70_recoded</th>\n",
       "      <th>V024_recoded</th>\n",
       "      <th>V190_recoded_further</th>\n",
       "      <th>V113_recoded_further</th>\n",
       "      <th>V116_recoded_further</th>\n",
       "      <th>M15_recoded_further</th>\n",
       "      <th>V312_recoded_further</th>\n",
       "      <th>BORD</th>\n",
       "      <th>V212</th>\n",
       "      <th>V012</th>\n",
       "      <th>V136</th>\n",
       "      <th>V115_recoded</th>\n",
       "      <th>V426_recoded_further</th>\n",
       "      <th>M14_recoded_further</th>\n",
       "    </tr>\n",
       "  </thead>\n",
       "  <tbody>\n",
       "    <tr>\n",
       "      <th>0</th>\n",
       "      <td>0.0</td>\n",
       "      <td>Male</td>\n",
       "      <td>Rural</td>\n",
       "      <td>No education</td>\n",
       "      <td>No</td>\n",
       "      <td>No</td>\n",
       "      <td>Oromia</td>\n",
       "      <td>Low</td>\n",
       "      <td>improved</td>\n",
       "      <td>unimproved</td>\n",
       "      <td>home</td>\n",
       "      <td>no</td>\n",
       "      <td>8</td>\n",
       "      <td>15</td>\n",
       "      <td>38</td>\n",
       "      <td>11</td>\n",
       "      <td>45.0</td>\n",
       "      <td>Greater than an hour of birth</td>\n",
       "      <td>No visit</td>\n",
       "    </tr>\n",
       "    <tr>\n",
       "      <th>1</th>\n",
       "      <td>0.0</td>\n",
       "      <td>Male</td>\n",
       "      <td>Rural</td>\n",
       "      <td>No education</td>\n",
       "      <td>No</td>\n",
       "      <td>NaN</td>\n",
       "      <td>Oromia</td>\n",
       "      <td>Low</td>\n",
       "      <td>improved</td>\n",
       "      <td>unimproved</td>\n",
       "      <td>home</td>\n",
       "      <td>no</td>\n",
       "      <td>7</td>\n",
       "      <td>15</td>\n",
       "      <td>38</td>\n",
       "      <td>11</td>\n",
       "      <td>45.0</td>\n",
       "      <td>Greater than an hour of birth</td>\n",
       "      <td>nan</td>\n",
       "    </tr>\n",
       "    <tr>\n",
       "      <th>2</th>\n",
       "      <td>0.0</td>\n",
       "      <td>Female</td>\n",
       "      <td>Rural</td>\n",
       "      <td>No education</td>\n",
       "      <td>No</td>\n",
       "      <td>NaN</td>\n",
       "      <td>Oromia</td>\n",
       "      <td>Low</td>\n",
       "      <td>improved</td>\n",
       "      <td>unimproved</td>\n",
       "      <td>home</td>\n",
       "      <td>no</td>\n",
       "      <td>6</td>\n",
       "      <td>15</td>\n",
       "      <td>38</td>\n",
       "      <td>11</td>\n",
       "      <td>45.0</td>\n",
       "      <td>Greater than an hour of birth</td>\n",
       "      <td>nan</td>\n",
       "    </tr>\n",
       "    <tr>\n",
       "      <th>3</th>\n",
       "      <td>1.0</td>\n",
       "      <td>Male</td>\n",
       "      <td>Rural</td>\n",
       "      <td>Primary</td>\n",
       "      <td>No</td>\n",
       "      <td>No</td>\n",
       "      <td>Oromia</td>\n",
       "      <td>Low</td>\n",
       "      <td>improved</td>\n",
       "      <td>unimproved</td>\n",
       "      <td>home</td>\n",
       "      <td>no</td>\n",
       "      <td>8</td>\n",
       "      <td>24</td>\n",
       "      <td>42</td>\n",
       "      <td>8</td>\n",
       "      <td>30.0</td>\n",
       "      <td>Greater than an hour of birth</td>\n",
       "      <td>No visit</td>\n",
       "    </tr>\n",
       "    <tr>\n",
       "      <th>4</th>\n",
       "      <td>0.0</td>\n",
       "      <td>Male</td>\n",
       "      <td>Rural</td>\n",
       "      <td>No education</td>\n",
       "      <td>No</td>\n",
       "      <td>No</td>\n",
       "      <td>Oromia</td>\n",
       "      <td>Low</td>\n",
       "      <td>improved</td>\n",
       "      <td>improved</td>\n",
       "      <td>home</td>\n",
       "      <td>no</td>\n",
       "      <td>12</td>\n",
       "      <td>21</td>\n",
       "      <td>46</td>\n",
       "      <td>11</td>\n",
       "      <td>40.0</td>\n",
       "      <td>Within an hour of birth</td>\n",
       "      <td>No visit</td>\n",
       "    </tr>\n",
       "  </tbody>\n",
       "</table>\n",
       "</div>"
      ],
      "text/plain": [
       "   HasChildDiedU5 B4_recoded V025_recoded  V106_recoded M17_recoded  \\\n",
       "0             0.0       Male        Rural  No education          No   \n",
       "1             0.0       Male        Rural  No education          No   \n",
       "2             0.0     Female        Rural  No education          No   \n",
       "3             1.0       Male        Rural       Primary          No   \n",
       "4             0.0       Male        Rural  No education          No   \n",
       "\n",
       "  M70_recoded V024_recoded V190_recoded_further V113_recoded_further  \\\n",
       "0          No       Oromia                  Low             improved   \n",
       "1         NaN       Oromia                  Low             improved   \n",
       "2         NaN       Oromia                  Low             improved   \n",
       "3          No       Oromia                  Low             improved   \n",
       "4          No       Oromia                  Low             improved   \n",
       "\n",
       "  V116_recoded_further M15_recoded_further V312_recoded_further  BORD  V212  \\\n",
       "0           unimproved                home                   no     8    15   \n",
       "1           unimproved                home                   no     7    15   \n",
       "2           unimproved                home                   no     6    15   \n",
       "3           unimproved                home                   no     8    24   \n",
       "4             improved                home                   no    12    21   \n",
       "\n",
       "   V012  V136  V115_recoded           V426_recoded_further M14_recoded_further  \n",
       "0    38    11          45.0  Greater than an hour of birth            No visit  \n",
       "1    38    11          45.0  Greater than an hour of birth                 nan  \n",
       "2    38    11          45.0  Greater than an hour of birth                 nan  \n",
       "3    42     8          30.0  Greater than an hour of birth            No visit  \n",
       "4    46    11          40.0        Within an hour of birth            No visit  "
      ]
     },
     "execution_count": 90,
     "metadata": {},
     "output_type": "execute_result"
    }
   ],
   "source": [
    "# Check combined data\n",
    "data_preprocessed.head()"
   ]
  },
  {
   "cell_type": "code",
   "execution_count": 91,
   "id": "182b95ad-2c7c-456d-a8df-9f50a3230f76",
   "metadata": {
    "tags": []
   },
   "outputs": [
    {
     "data": {
      "text/plain": [
       "0.0    10006\n",
       "1.0      635\n",
       "Name: HasChildDiedU5, dtype: int64"
      ]
     },
     "execution_count": 91,
     "metadata": {},
     "output_type": "execute_result"
    }
   ],
   "source": [
    "# Final sanity checks about label distribution\n",
    "data_preprocessed['HasChildDiedU5'].value_counts(dropna=False)"
   ]
  },
  {
   "cell_type": "code",
   "execution_count": 92,
   "id": "20807caf-9157-4bba-be91-cde4f57e3caa",
   "metadata": {
    "tags": []
   },
   "outputs": [
    {
     "data": {
      "text/plain": [
       "Index(['HasChildDiedU5', 'B4_recoded', 'V025_recoded', 'V106_recoded',\n",
       "       'M17_recoded', 'M70_recoded', 'V024_recoded', 'V190_recoded_further',\n",
       "       'V113_recoded_further', 'V116_recoded_further', 'M15_recoded_further',\n",
       "       'V312_recoded_further', 'BORD', 'V212', 'V012', 'V136', 'V115_recoded',\n",
       "       'V426_recoded_further', 'M14_recoded_further'],\n",
       "      dtype='object')"
      ]
     },
     "execution_count": 92,
     "metadata": {},
     "output_type": "execute_result"
    }
   ],
   "source": [
    "# Clean columns names\n",
    "data_preprocessed.columns"
   ]
  },
  {
   "cell_type": "code",
   "execution_count": 93,
   "id": "ed1e6376-53c5-48fd-840e-805a7f80747a",
   "metadata": {
    "tags": []
   },
   "outputs": [],
   "source": [
    "data_preprocessed.columns = [x.split('_')[0] for x in data_preprocessed.columns]"
   ]
  },
  {
   "cell_type": "code",
   "execution_count": 94,
   "id": "f2aeff4b-196d-4b68-b207-6ce403f1d825",
   "metadata": {
    "tags": []
   },
   "outputs": [
    {
     "data": {
      "text/plain": [
       "Index(['HasChildDiedU5', 'B4', 'V025', 'V106', 'M17', 'M70', 'V024', 'V190',\n",
       "       'V113', 'V116', 'M15', 'V312', 'BORD', 'V212', 'V012', 'V136', 'V115',\n",
       "       'V426', 'M14'],\n",
       "      dtype='object')"
      ]
     },
     "execution_count": 94,
     "metadata": {},
     "output_type": "execute_result"
    }
   ],
   "source": [
    "# After cleaning\n",
    "data_preprocessed.columns"
   ]
  },
  {
   "cell_type": "code",
   "execution_count": 95,
   "id": "5a86c936-2df1-47c6-a4cf-56b4316fe987",
   "metadata": {
    "tags": []
   },
   "outputs": [
    {
     "data": {
      "text/plain": [
       "{'B7, B8, B13, B19, HW1': 'HasChildDiedU5',\n",
       " 'B4': 'ChildSex',\n",
       " 'BORD': 'BirthOrder',\n",
       " 'V212': 'MotherAgeAtFirstBirth',\n",
       " 'V012': 'AgeOfMother',\n",
       " 'V025': 'Residence',\n",
       " 'V106': 'Education',\n",
       " 'V190': 'WealthIndex',\n",
       " 'V113': 'WaterSource',\n",
       " 'V115': 'TimeToWaterSource',\n",
       " 'V116': 'ToiletFacility',\n",
       " 'M15': 'PlaceOfDelivery',\n",
       " 'M17': 'DeliveryByCaesareanSection',\n",
       " 'V312': 'ContraceptiveUse',\n",
       " 'M14': 'AntenatalCareVisits',\n",
       " 'M70': 'PostnatalCareVisits',\n",
       " 'V024': 'Region',\n",
       " 'V426': 'BreastFed',\n",
       " 'V136': 'HouseholdSize'}"
      ]
     },
     "execution_count": 95,
     "metadata": {},
     "output_type": "execute_result"
    }
   ],
   "source": [
    "# Recode column names to descriptive names using the schema definition\n",
    "column_name_dict = dict(zip(schema_definition['VariableCode'], schema_definition['VariableName']))\n",
    "column_name_dict"
   ]
  },
  {
   "cell_type": "code",
   "execution_count": 96,
   "id": "140e3e58-388a-493a-9d11-03a4c39d74fc",
   "metadata": {
    "tags": []
   },
   "outputs": [],
   "source": [
    "# Apply recoding column names\n",
    "data_preprocessed.columns = [column_name_dict[x] if x in column_name_dict.keys() else x for x in data_preprocessed.columns]"
   ]
  },
  {
   "cell_type": "code",
   "execution_count": 97,
   "id": "5d95566e-4982-4071-b2c0-4535d4de3580",
   "metadata": {
    "tags": []
   },
   "outputs": [
    {
     "data": {
      "text/html": [
       "<div>\n",
       "<style scoped>\n",
       "    .dataframe tbody tr th:only-of-type {\n",
       "        vertical-align: middle;\n",
       "    }\n",
       "\n",
       "    .dataframe tbody tr th {\n",
       "        vertical-align: top;\n",
       "    }\n",
       "\n",
       "    .dataframe thead th {\n",
       "        text-align: right;\n",
       "    }\n",
       "</style>\n",
       "<table border=\"1\" class=\"dataframe\">\n",
       "  <thead>\n",
       "    <tr style=\"text-align: right;\">\n",
       "      <th></th>\n",
       "      <th>HasChildDiedU5</th>\n",
       "      <th>ChildSex</th>\n",
       "      <th>Residence</th>\n",
       "      <th>Education</th>\n",
       "      <th>DeliveryByCaesareanSection</th>\n",
       "      <th>PostnatalCareVisits</th>\n",
       "      <th>Region</th>\n",
       "      <th>WealthIndex</th>\n",
       "      <th>WaterSource</th>\n",
       "      <th>ToiletFacility</th>\n",
       "      <th>PlaceOfDelivery</th>\n",
       "      <th>ContraceptiveUse</th>\n",
       "      <th>BirthOrder</th>\n",
       "      <th>MotherAgeAtFirstBirth</th>\n",
       "      <th>AgeOfMother</th>\n",
       "      <th>HouseholdSize</th>\n",
       "      <th>TimeToWaterSource</th>\n",
       "      <th>BreastFed</th>\n",
       "      <th>AntenatalCareVisits</th>\n",
       "    </tr>\n",
       "  </thead>\n",
       "  <tbody>\n",
       "    <tr>\n",
       "      <th>0</th>\n",
       "      <td>0.0</td>\n",
       "      <td>Male</td>\n",
       "      <td>Rural</td>\n",
       "      <td>No education</td>\n",
       "      <td>No</td>\n",
       "      <td>No</td>\n",
       "      <td>Oromia</td>\n",
       "      <td>Low</td>\n",
       "      <td>improved</td>\n",
       "      <td>unimproved</td>\n",
       "      <td>home</td>\n",
       "      <td>no</td>\n",
       "      <td>8</td>\n",
       "      <td>15</td>\n",
       "      <td>38</td>\n",
       "      <td>11</td>\n",
       "      <td>45.0</td>\n",
       "      <td>Greater than an hour of birth</td>\n",
       "      <td>No visit</td>\n",
       "    </tr>\n",
       "    <tr>\n",
       "      <th>1</th>\n",
       "      <td>0.0</td>\n",
       "      <td>Male</td>\n",
       "      <td>Rural</td>\n",
       "      <td>No education</td>\n",
       "      <td>No</td>\n",
       "      <td>NaN</td>\n",
       "      <td>Oromia</td>\n",
       "      <td>Low</td>\n",
       "      <td>improved</td>\n",
       "      <td>unimproved</td>\n",
       "      <td>home</td>\n",
       "      <td>no</td>\n",
       "      <td>7</td>\n",
       "      <td>15</td>\n",
       "      <td>38</td>\n",
       "      <td>11</td>\n",
       "      <td>45.0</td>\n",
       "      <td>Greater than an hour of birth</td>\n",
       "      <td>nan</td>\n",
       "    </tr>\n",
       "    <tr>\n",
       "      <th>2</th>\n",
       "      <td>0.0</td>\n",
       "      <td>Female</td>\n",
       "      <td>Rural</td>\n",
       "      <td>No education</td>\n",
       "      <td>No</td>\n",
       "      <td>NaN</td>\n",
       "      <td>Oromia</td>\n",
       "      <td>Low</td>\n",
       "      <td>improved</td>\n",
       "      <td>unimproved</td>\n",
       "      <td>home</td>\n",
       "      <td>no</td>\n",
       "      <td>6</td>\n",
       "      <td>15</td>\n",
       "      <td>38</td>\n",
       "      <td>11</td>\n",
       "      <td>45.0</td>\n",
       "      <td>Greater than an hour of birth</td>\n",
       "      <td>nan</td>\n",
       "    </tr>\n",
       "    <tr>\n",
       "      <th>3</th>\n",
       "      <td>1.0</td>\n",
       "      <td>Male</td>\n",
       "      <td>Rural</td>\n",
       "      <td>Primary</td>\n",
       "      <td>No</td>\n",
       "      <td>No</td>\n",
       "      <td>Oromia</td>\n",
       "      <td>Low</td>\n",
       "      <td>improved</td>\n",
       "      <td>unimproved</td>\n",
       "      <td>home</td>\n",
       "      <td>no</td>\n",
       "      <td>8</td>\n",
       "      <td>24</td>\n",
       "      <td>42</td>\n",
       "      <td>8</td>\n",
       "      <td>30.0</td>\n",
       "      <td>Greater than an hour of birth</td>\n",
       "      <td>No visit</td>\n",
       "    </tr>\n",
       "    <tr>\n",
       "      <th>4</th>\n",
       "      <td>0.0</td>\n",
       "      <td>Male</td>\n",
       "      <td>Rural</td>\n",
       "      <td>No education</td>\n",
       "      <td>No</td>\n",
       "      <td>No</td>\n",
       "      <td>Oromia</td>\n",
       "      <td>Low</td>\n",
       "      <td>improved</td>\n",
       "      <td>improved</td>\n",
       "      <td>home</td>\n",
       "      <td>no</td>\n",
       "      <td>12</td>\n",
       "      <td>21</td>\n",
       "      <td>46</td>\n",
       "      <td>11</td>\n",
       "      <td>40.0</td>\n",
       "      <td>Within an hour of birth</td>\n",
       "      <td>No visit</td>\n",
       "    </tr>\n",
       "  </tbody>\n",
       "</table>\n",
       "</div>"
      ],
      "text/plain": [
       "   HasChildDiedU5 ChildSex Residence     Education DeliveryByCaesareanSection  \\\n",
       "0             0.0     Male     Rural  No education                         No   \n",
       "1             0.0     Male     Rural  No education                         No   \n",
       "2             0.0   Female     Rural  No education                         No   \n",
       "3             1.0     Male     Rural       Primary                         No   \n",
       "4             0.0     Male     Rural  No education                         No   \n",
       "\n",
       "  PostnatalCareVisits  Region WealthIndex WaterSource ToiletFacility  \\\n",
       "0                  No  Oromia         Low    improved     unimproved   \n",
       "1                 NaN  Oromia         Low    improved     unimproved   \n",
       "2                 NaN  Oromia         Low    improved     unimproved   \n",
       "3                  No  Oromia         Low    improved     unimproved   \n",
       "4                  No  Oromia         Low    improved       improved   \n",
       "\n",
       "  PlaceOfDelivery ContraceptiveUse  BirthOrder  MotherAgeAtFirstBirth  \\\n",
       "0            home               no           8                     15   \n",
       "1            home               no           7                     15   \n",
       "2            home               no           6                     15   \n",
       "3            home               no           8                     24   \n",
       "4            home               no          12                     21   \n",
       "\n",
       "   AgeOfMother  HouseholdSize  TimeToWaterSource  \\\n",
       "0           38             11               45.0   \n",
       "1           38             11               45.0   \n",
       "2           38             11               45.0   \n",
       "3           42              8               30.0   \n",
       "4           46             11               40.0   \n",
       "\n",
       "                       BreastFed AntenatalCareVisits  \n",
       "0  Greater than an hour of birth            No visit  \n",
       "1  Greater than an hour of birth                 nan  \n",
       "2  Greater than an hour of birth                 nan  \n",
       "3  Greater than an hour of birth            No visit  \n",
       "4        Within an hour of birth            No visit  "
      ]
     },
     "execution_count": 97,
     "metadata": {},
     "output_type": "execute_result"
    }
   ],
   "source": [
    "data_preprocessed.head()"
   ]
  },
  {
   "cell_type": "code",
   "execution_count": 98,
   "id": "a8245216-3265-40a5-85cb-012f8a9acf52",
   "metadata": {
    "tags": []
   },
   "outputs": [
    {
     "data": {
      "text/html": [
       "<div>\n",
       "<style scoped>\n",
       "    .dataframe tbody tr th:only-of-type {\n",
       "        vertical-align: middle;\n",
       "    }\n",
       "\n",
       "    .dataframe tbody tr th {\n",
       "        vertical-align: top;\n",
       "    }\n",
       "\n",
       "    .dataframe thead th {\n",
       "        text-align: right;\n",
       "    }\n",
       "</style>\n",
       "<table border=\"1\" class=\"dataframe\">\n",
       "  <thead>\n",
       "    <tr style=\"text-align: right;\">\n",
       "      <th></th>\n",
       "      <th>VariableName</th>\n",
       "      <th>VariableCode</th>\n",
       "      <th>VariableType</th>\n",
       "      <th>Query</th>\n",
       "    </tr>\n",
       "  </thead>\n",
       "  <tbody>\n",
       "    <tr>\n",
       "      <th>0</th>\n",
       "      <td>HasChildDiedU5</td>\n",
       "      <td>B7, B8, B13, B19, HW1</td>\n",
       "      <td>label</td>\n",
       "      <td>select * from \".\\ET_2016_DHS_07082021_1932_581...</td>\n",
       "    </tr>\n",
       "    <tr>\n",
       "      <th>1</th>\n",
       "      <td>ChildSex</td>\n",
       "      <td>B4</td>\n",
       "      <td>feature_categorical</td>\n",
       "      <td>select * from \".\\ET_2016_DHS_07082021_1932_581...</td>\n",
       "    </tr>\n",
       "    <tr>\n",
       "      <th>2</th>\n",
       "      <td>BirthOrder</td>\n",
       "      <td>BORD</td>\n",
       "      <td>feature_numeric</td>\n",
       "      <td>select * from \".\\ET_2016_DHS_07082021_1932_581...</td>\n",
       "    </tr>\n",
       "    <tr>\n",
       "      <th>3</th>\n",
       "      <td>MotherAgeAtFirstBirth</td>\n",
       "      <td>V212</td>\n",
       "      <td>feature_numeric</td>\n",
       "      <td>select * from \".\\ET_2016_DHS_07082021_1932_581...</td>\n",
       "    </tr>\n",
       "    <tr>\n",
       "      <th>4</th>\n",
       "      <td>AgeOfMother</td>\n",
       "      <td>V012</td>\n",
       "      <td>feature_numeric</td>\n",
       "      <td>select * from \".\\ET_2016_DHS_07082021_1932_581...</td>\n",
       "    </tr>\n",
       "    <tr>\n",
       "      <th>5</th>\n",
       "      <td>Residence</td>\n",
       "      <td>V025</td>\n",
       "      <td>feature_categorical</td>\n",
       "      <td>select * from \".\\ET_2016_DHS_07082021_1932_581...</td>\n",
       "    </tr>\n",
       "    <tr>\n",
       "      <th>6</th>\n",
       "      <td>Education</td>\n",
       "      <td>V106</td>\n",
       "      <td>feature_categorical</td>\n",
       "      <td>select * from \".\\ET_2016_DHS_07082021_1932_581...</td>\n",
       "    </tr>\n",
       "    <tr>\n",
       "      <th>7</th>\n",
       "      <td>WealthIndex</td>\n",
       "      <td>V190</td>\n",
       "      <td>feature_categorical</td>\n",
       "      <td>select * from \".\\ET_2016_DHS_07082021_1932_581...</td>\n",
       "    </tr>\n",
       "    <tr>\n",
       "      <th>8</th>\n",
       "      <td>WaterSource</td>\n",
       "      <td>V113</td>\n",
       "      <td>feature_categorical</td>\n",
       "      <td>select * from \".\\ET_2016_DHS_07082021_1932_581...</td>\n",
       "    </tr>\n",
       "    <tr>\n",
       "      <th>9</th>\n",
       "      <td>TimeToWaterSource</td>\n",
       "      <td>V115</td>\n",
       "      <td>feature_numeric</td>\n",
       "      <td>select * from \".\\ET_2016_DHS_07082021_1932_581...</td>\n",
       "    </tr>\n",
       "    <tr>\n",
       "      <th>10</th>\n",
       "      <td>ToiletFacility</td>\n",
       "      <td>V116</td>\n",
       "      <td>feature_categorical</td>\n",
       "      <td>select * from \".\\ET_2016_DHS_07082021_1932_581...</td>\n",
       "    </tr>\n",
       "    <tr>\n",
       "      <th>11</th>\n",
       "      <td>PlaceOfDelivery</td>\n",
       "      <td>M15</td>\n",
       "      <td>feature_categorical</td>\n",
       "      <td>select * from \".\\ET_2016_DHS_07082021_1932_581...</td>\n",
       "    </tr>\n",
       "    <tr>\n",
       "      <th>12</th>\n",
       "      <td>DeliveryByCaesareanSection</td>\n",
       "      <td>M17</td>\n",
       "      <td>feature_categorical</td>\n",
       "      <td>select * from \".\\ET_2016_DHS_07082021_1932_581...</td>\n",
       "    </tr>\n",
       "    <tr>\n",
       "      <th>13</th>\n",
       "      <td>ContraceptiveUse</td>\n",
       "      <td>V312</td>\n",
       "      <td>feature_categorical</td>\n",
       "      <td>select * from \".\\ET_2016_DHS_07082021_1932_581...</td>\n",
       "    </tr>\n",
       "    <tr>\n",
       "      <th>14</th>\n",
       "      <td>AntenatalCareVisits</td>\n",
       "      <td>M14</td>\n",
       "      <td>feature_categorical</td>\n",
       "      <td>select * from \".\\ET_2016_DHS_07082021_1932_581...</td>\n",
       "    </tr>\n",
       "    <tr>\n",
       "      <th>15</th>\n",
       "      <td>PostnatalCareVisits</td>\n",
       "      <td>M70</td>\n",
       "      <td>feature_categorical</td>\n",
       "      <td>select * from \".\\ET_2016_DHS_07082021_1932_581...</td>\n",
       "    </tr>\n",
       "    <tr>\n",
       "      <th>16</th>\n",
       "      <td>Region</td>\n",
       "      <td>V024</td>\n",
       "      <td>feature_categorical</td>\n",
       "      <td>select * from \".\\ET_2016_DHS_07082021_1932_581...</td>\n",
       "    </tr>\n",
       "    <tr>\n",
       "      <th>17</th>\n",
       "      <td>BreastFed</td>\n",
       "      <td>V426</td>\n",
       "      <td>feature_categorical</td>\n",
       "      <td>select * from \".\\ET_2016_DHS_07082021_1932_581...</td>\n",
       "    </tr>\n",
       "    <tr>\n",
       "      <th>18</th>\n",
       "      <td>HouseholdSize</td>\n",
       "      <td>V136</td>\n",
       "      <td>feature_numeric</td>\n",
       "      <td>select * from \".\\ET_2016_DHS_07082021_1932_581...</td>\n",
       "    </tr>\n",
       "  </tbody>\n",
       "</table>\n",
       "</div>"
      ],
      "text/plain": [
       "                  VariableName           VariableCode         VariableType  \\\n",
       "0               HasChildDiedU5  B7, B8, B13, B19, HW1                label   \n",
       "1                     ChildSex                     B4  feature_categorical   \n",
       "2                   BirthOrder                   BORD      feature_numeric   \n",
       "3        MotherAgeAtFirstBirth                   V212      feature_numeric   \n",
       "4                  AgeOfMother                   V012      feature_numeric   \n",
       "5                    Residence                   V025  feature_categorical   \n",
       "6                    Education                   V106  feature_categorical   \n",
       "7                  WealthIndex                   V190  feature_categorical   \n",
       "8                  WaterSource                   V113  feature_categorical   \n",
       "9            TimeToWaterSource                   V115      feature_numeric   \n",
       "10              ToiletFacility                   V116  feature_categorical   \n",
       "11             PlaceOfDelivery                    M15  feature_categorical   \n",
       "12  DeliveryByCaesareanSection                    M17  feature_categorical   \n",
       "13            ContraceptiveUse                   V312  feature_categorical   \n",
       "14         AntenatalCareVisits                    M14  feature_categorical   \n",
       "15         PostnatalCareVisits                    M70  feature_categorical   \n",
       "16                      Region                   V024  feature_categorical   \n",
       "17                   BreastFed                   V426  feature_categorical   \n",
       "18               HouseholdSize                   V136      feature_numeric   \n",
       "\n",
       "                                                Query  \n",
       "0   select * from \".\\ET_2016_DHS_07082021_1932_581...  \n",
       "1   select * from \".\\ET_2016_DHS_07082021_1932_581...  \n",
       "2   select * from \".\\ET_2016_DHS_07082021_1932_581...  \n",
       "3   select * from \".\\ET_2016_DHS_07082021_1932_581...  \n",
       "4   select * from \".\\ET_2016_DHS_07082021_1932_581...  \n",
       "5   select * from \".\\ET_2016_DHS_07082021_1932_581...  \n",
       "6   select * from \".\\ET_2016_DHS_07082021_1932_581...  \n",
       "7   select * from \".\\ET_2016_DHS_07082021_1932_581...  \n",
       "8   select * from \".\\ET_2016_DHS_07082021_1932_581...  \n",
       "9   select * from \".\\ET_2016_DHS_07082021_1932_581...  \n",
       "10  select * from \".\\ET_2016_DHS_07082021_1932_581...  \n",
       "11  select * from \".\\ET_2016_DHS_07082021_1932_581...  \n",
       "12  select * from \".\\ET_2016_DHS_07082021_1932_581...  \n",
       "13  select * from \".\\ET_2016_DHS_07082021_1932_581...  \n",
       "14  select * from \".\\ET_2016_DHS_07082021_1932_581...  \n",
       "15  select * from \".\\ET_2016_DHS_07082021_1932_581...  \n",
       "16  select * from \".\\ET_2016_DHS_07082021_1932_581...  \n",
       "17  select * from \".\\ET_2016_DHS_07082021_1932_581...  \n",
       "18  select * from \".\\ET_2016_DHS_07082021_1932_581...  "
      ]
     },
     "execution_count": 98,
     "metadata": {},
     "output_type": "execute_result"
    }
   ],
   "source": [
    "# Update schema definition for label/target variable\n",
    "schema_definition"
   ]
  },
  {
   "cell_type": "code",
   "execution_count": null,
   "id": "4943fccd-d75a-4e47-ae01-4b6a5afba440",
   "metadata": {},
   "outputs": [],
   "source": []
  },
  {
   "cell_type": "markdown",
   "id": "babdafac-7f72-4c7d-82da-ecc584bc31cd",
   "metadata": {},
   "source": [
    "# 6. Save final data sets"
   ]
  },
  {
   "cell_type": "code",
   "execution_count": 101,
   "id": "9fbd9db1-c7cd-4ba0-a93f-219a072ba983",
   "metadata": {},
   "outputs": [],
   "source": [
    "# Save (processed) schema definition\n",
    "filepath_output = r'D:\\PycharmProjects\\mintilo-ai\\mintilo_ai\\schema_definition_preprocessed.csv'\n",
    "\n",
    "schema_definition.to_csv(filepath_output, index=False)"
   ]
  },
  {
   "cell_type": "code",
   "execution_count": 102,
   "id": "2b3d3b97-7954-4103-9f5c-961ec11d3eb0",
   "metadata": {
    "tags": []
   },
   "outputs": [],
   "source": [
    "# Save (processed) data\n",
    "filepath_output = r'D:\\PycharmProjects\\mintilo-ai\\data\\data_preprocessed.csv'\n",
    "\n",
    "data_preprocessed.to_csv(filepath_output, index=False)"
   ]
  },
  {
   "cell_type": "code",
   "execution_count": null,
   "id": "41bd6370-63bc-4365-8309-d6d0b451133f",
   "metadata": {},
   "outputs": [],
   "source": []
  }
 ],
 "metadata": {
  "kernelspec": {
   "display_name": "Python 3 (ipykernel)",
   "language": "python",
   "name": "python3"
  },
  "language_info": {
   "codemirror_mode": {
    "name": "ipython",
    "version": 3
   },
   "file_extension": ".py",
   "mimetype": "text/x-python",
   "name": "python",
   "nbconvert_exporter": "python",
   "pygments_lexer": "ipython3",
   "version": "3.8.16"
  }
 },
 "nbformat": 4,
 "nbformat_minor": 5
}
